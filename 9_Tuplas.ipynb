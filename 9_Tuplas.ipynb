{
  "nbformat": 4,
  "nbformat_minor": 0,
  "metadata": {
    "colab": {
      "provenance": [],
      "include_colab_link": true
    },
    "kernelspec": {
      "name": "python3",
      "display_name": "Python 3"
    },
    "language_info": {
      "name": "python"
    }
  },
  "cells": [
    {
      "cell_type": "markdown",
      "metadata": {
        "id": "view-in-github",
        "colab_type": "text"
      },
      "source": [
        "<a href=\"https://colab.research.google.com/github/thiagoreys123/Curso_Python_Guanabara/blob/main/9_Tuplas.ipynb\" target=\"_parent\"><img src=\"https://colab.research.google.com/assets/colab-badge.svg\" alt=\"Open In Colab\"/></a>"
      ]
    },
    {
      "cell_type": "markdown",
      "source": [
        "- Tuplas são imutáveis.\n",
        "- É possível adicionar variáveis de todos os tipos em uma mesma tupla.\n",
        "- **Sintaxe de chamada:** Tupla ( ); Lista [ ]; Dicionário { }.\n"
      ],
      "metadata": {
        "id": "MYGA98vyCULg"
      }
    },
    {
      "cell_type": "code",
      "source": [
        "lanche = ('Hambúrguer', 'Suco', 'Pizza', 'Pudim')\n",
        "\n",
        "print(lanche)\n",
        "print(lanche[0:3])\n",
        "print(lanche[1:])"
      ],
      "metadata": {
        "colab": {
          "base_uri": "https://localhost:8080/"
        },
        "id": "5A7utnZHB8Ck",
        "outputId": "7225099f-4dc6-4dc4-c281-554f0f8d8efe"
      },
      "execution_count": null,
      "outputs": [
        {
          "output_type": "stream",
          "name": "stdout",
          "text": [
            "('Hambúrguer', 'Suco', 'Pizza', 'Pudim')\n",
            "('Hambúrguer', 'Suco', 'Pizza')\n",
            "('Suco', 'Pizza', 'Pudim')\n"
          ]
        }
      ]
    },
    {
      "cell_type": "code",
      "source": [
        "lanche = ('Hambúrguer', 'Suco', 'Pizza', 'Pudim')\n",
        "\n",
        "for c in lanche:\n",
        "  print(c)\n",
        "print('---------------')\n",
        "for cont in range (0, len(lanche)):\n",
        "  print(lanche[cont])\n",
        "print('---------------')\n",
        "for pos, comida in enumerate(lanche):\n",
        "  print(f'Posição {pos}: {comida}')"
      ],
      "metadata": {
        "colab": {
          "base_uri": "https://localhost:8080/"
        },
        "id": "m4HDZa46KQcr",
        "outputId": "5cda70a5-35b1-45c6-ae0a-a71927788827"
      },
      "execution_count": null,
      "outputs": [
        {
          "output_type": "stream",
          "name": "stdout",
          "text": [
            "Hambúrguer\n",
            "Suco\n",
            "Pizza\n",
            "Pudim\n",
            "---------------\n",
            "Hambúrguer\n",
            "Suco\n",
            "Pizza\n",
            "Pudim\n",
            "---------------\n",
            "Posição 0: Hambúrguer\n",
            "Posição 1: Suco\n",
            "Posição 2: Pizza\n",
            "Posição 3: Pudim\n"
          ]
        }
      ]
    },
    {
      "cell_type": "code",
      "source": [
        "lanche = ('Hambúrguer', 'Suco', 'Pizza', 'Pudim')\n",
        "\n",
        "print(sorted(lanche))\n",
        "print(lanche)"
      ],
      "metadata": {
        "colab": {
          "base_uri": "https://localhost:8080/"
        },
        "id": "CpwLgNmfSFKW",
        "outputId": "e9f1caf5-36b4-4398-8019-647f75180775"
      },
      "execution_count": null,
      "outputs": [
        {
          "output_type": "stream",
          "name": "stdout",
          "text": [
            "['Hambúrguer', 'Pizza', 'Pudim', 'Suco']\n",
            "('Hambúrguer', 'Suco', 'Pizza', 'Pudim')\n"
          ]
        }
      ]
    },
    {
      "cell_type": "code",
      "source": [
        "a = (2,5,4)\n",
        "b = (5,8,1,2)\n",
        "c = a + b\n",
        "print(c)\n",
        "print(f'Quantas vezes aparece o 5? {c.count(5)}.')\n",
        "print(f'Em que posição está o 8? {c.index(8)}.')\n",
        "print(f'Em que posição está o primeiro 5? {c.index(5)}.')\n",
        "print(f'Em que posição está o segundo 5? {c.index(5,2)}.')  # Procurar a partir da posição 2"
      ],
      "metadata": {
        "colab": {
          "base_uri": "https://localhost:8080/"
        },
        "id": "-lvZJ-uzWhbn",
        "outputId": "30c5cb8d-8016-4236-a84d-402787a32060"
      },
      "execution_count": null,
      "outputs": [
        {
          "output_type": "stream",
          "name": "stdout",
          "text": [
            "(2, 5, 4, 5, 8, 1, 2)\n",
            "Quantas vezes aparece o 5? 2.\n",
            "Em que posição está o 8? 4.\n",
            "Em que posição está o primeiro 5? 1.\n",
            "Em que posição está o segundo 5? 3.\n"
          ]
        }
      ]
    },
    {
      "cell_type": "code",
      "source": [
        "# Desafio 72 - Número por extenso\n",
        "\n",
        "numeros = ('Zero','Um','Dois','Três','Quatro','Cinco','Seis','Sete','Oito','Nove','Dez')\n",
        "n = int(input('Digite um numero inteiro de 0 a 10: '))\n",
        "while n < 0 or n > 10:\n",
        "  n = int(input('Digite um numero inteiro de 0 a 10: '))\n",
        "print(numeros[n])\n"
      ],
      "metadata": {
        "colab": {
          "base_uri": "https://localhost:8080/"
        },
        "id": "2gYotbnvA-In",
        "outputId": "52823c35-7cfd-400b-b1ae-916080cdc215"
      },
      "execution_count": null,
      "outputs": [
        {
          "output_type": "stream",
          "name": "stdout",
          "text": [
            "Digite um numero inteiro de 0 a 10: 77\n",
            "Digite um numero inteiro de 0 a 10: 55\n",
            "Digite um numero inteiro de 0 a 10: 0\n",
            "Zero\n"
          ]
        }
      ]
    },
    {
      "cell_type": "code",
      "source": [
        "# Desafio 73 - Tuplas com times de futebol\n",
        "\n",
        "times = ('Palmeiras','Internacional','Fluminense','Corinthians','Flamengo','Atlético-MG','Fortaleza','São Paulo','América-MG','Botafogo','Santos','Goiás','Bragantino','Coritiba','Cuiabá','Ceará','Atlético-GO','Avaí','Juventude')\n",
        "print('Os 5 primeiros colocados são:')\n",
        "for c in range(0,5):\n",
        "  print(times[c])\n",
        "print('-----------------------')\n",
        "print('Os 4 últimos colocados são:')\n",
        "for c in range(-4,0):\n",
        "  print(times[c])\n",
        "print('-----------------------')\n",
        "print('Times em ordem alfabética:')\n",
        "print(sorted(times))\n",
        "print('-----------------------')\n",
        "print(f'O Fluminense está em {times.index(\"Fluminense\") + 1}º lugar.')"
      ],
      "metadata": {
        "id": "kIiekd15lBS3",
        "colab": {
          "base_uri": "https://localhost:8080/"
        },
        "outputId": "96c515cd-371d-45a5-f14d-a4a9ee5e0649"
      },
      "execution_count": null,
      "outputs": [
        {
          "output_type": "stream",
          "name": "stdout",
          "text": [
            "Os 5 primeiros colocados são:\n",
            "Palmeiras\n",
            "Internacional\n",
            "Fluminense\n",
            "Corinthians\n",
            "Flamengo\n",
            "-----------------------\n",
            "Os 4 últimos colocados são:\n",
            "Ceará\n",
            "Atlético-GO\n",
            "Avaí\n",
            "Juventude\n",
            "-----------------------\n",
            "Times em ordem alfabética:\n",
            "['América-MG', 'Atlético-GO', 'Atlético-MG', 'Avaí', 'Botafogo', 'Bragantino', 'Ceará', 'Corinthians', 'Coritiba', 'Cuiabá', 'Flamengo', 'Fluminense', 'Fortaleza', 'Goiás', 'Internacional', 'Juventude', 'Palmeiras', 'Santos', 'São Paulo']\n",
            "-----------------------\n",
            "O Fluminense está em 3º lugar.\n"
          ]
        }
      ]
    },
    {
      "cell_type": "code",
      "source": [
        "# DESAFIO 74 - Maior e Menor valor\n",
        "\n",
        "from random import randint\n",
        "numeros = (randint(1,10),randint(1,10),randint(1,10),randint(1,10),randint(1,10))\n",
        "print(f'Eu sorteei os valores: {numeros}')\n",
        "print(f'O maior valor sorteado foi {max(numeros)}')\n",
        "print(f'O menor valor sorteado foi {min(numeros)}')"
      ],
      "metadata": {
        "colab": {
          "base_uri": "https://localhost:8080/"
        },
        "id": "wC_jxIGAifdC",
        "outputId": "f8e5276d-1888-4553-c02c-67cec2a21f0e"
      },
      "execution_count": null,
      "outputs": [
        {
          "output_type": "stream",
          "name": "stdout",
          "text": [
            "Eu sorteei os valores: (1, 3, 2, 8, 6)\n",
            "O maior valor sorteado foi 8\n",
            "O menor valor sorteado foi 1\n"
          ]
        }
      ]
    },
    {
      "cell_type": "code",
      "source": [
        "# DESAFIO 75 - Análise de dados em uma Tupla\n",
        "\n",
        "print('Digite quatro números inteiros: ')\n",
        "\n",
        "n = (int(input()),int(input()),int(input()),int(input()))\n",
        "print('Os números que vc digitou foram: ', end='')\n",
        "for numeros in n:\n",
        "  print(numeros, end=' ')\n",
        "print('')\n",
        "vezes = n.count(9)\n",
        "if vezes == 1:\n",
        "  print(f'O 9 aparece 1 vez.')\n",
        "elif vezes > 1:\n",
        "  print(f'O 9 aparece {vezes} vezes.')\n",
        "else:\n",
        "  print('Você não digitou o 9.')\n",
        "\n",
        "if 3 in n:\n",
        "    print(f'O 3 está na {n.index(3) + 1}ª posição.')\n",
        "else:\n",
        "  print(f'Você não digitou o 3.')\n",
        "\n",
        "print(f'Números pares que você digitou: ', end='')\n",
        "pares = 0\n",
        "for par in n:\n",
        "  if par % 2 == 0:\n",
        "    print(par, end=' ')\n",
        "    pares =+ 1\n",
        "if pares == 0:\n",
        "  print('Nenhum.')\n"
      ],
      "metadata": {
        "colab": {
          "base_uri": "https://localhost:8080/"
        },
        "id": "JZZEMGQQpw63",
        "outputId": "35b02485-1df7-4df0-f4cf-b09ad37264d9"
      },
      "execution_count": null,
      "outputs": [
        {
          "output_type": "stream",
          "name": "stdout",
          "text": [
            "Digite quatro números inteiros: \n",
            "1\n",
            "3\n",
            "5\n",
            "9\n",
            "Os números que vc digitou foram: 1 3 5 9 \n",
            "O 9 aparece 1 vez.\n",
            "O 3 está na 2ª posição.\n",
            "Números pares que você digitou: Nenhum.\n"
          ]
        }
      ]
    },
    {
      "cell_type": "code",
      "source": [
        "# DESAFIO 76 - Listas de preços com Tuplas\n",
        "\n",
        "produtos = ('Lápis',1.75,'Borracha',2.00,'Caderno',15.90,'Estojo',25.00,'Transferidor',4.20,'Compasso',9.99,'Mochila',120.32,'Canetas',22.30,'Livro',34.90)\n",
        "\n",
        "print(\"-\"*40)\n",
        "print(f'{\"Lista de Produtos\":^40}')\n",
        "print(\"-\"*40)\n",
        "for n in range(0, len(produtos),2):\n",
        "  print(f'{produtos[n]:.<30} R$ {produtos[n+1]}')\n",
        "print('-'*40)\n"
      ],
      "metadata": {
        "id": "uj8bpKyA5zXY",
        "colab": {
          "base_uri": "https://localhost:8080/"
        },
        "outputId": "24b9984c-8f31-49ae-95a3-f7cabe3554c4"
      },
      "execution_count": null,
      "outputs": [
        {
          "output_type": "stream",
          "name": "stdout",
          "text": [
            "----------------------------------------\n",
            "           Lista de Produtos            \n",
            "----------------------------------------\n",
            "Lápis......................... R$ 1.75\n",
            "Borracha...................... R$ 2.0\n",
            "Caderno....................... R$ 15.9\n",
            "Estojo........................ R$ 25.0\n",
            "Transferidor.................. R$ 4.2\n",
            "Compasso...................... R$ 9.99\n",
            "Mochila....................... R$ 120.32\n",
            "Canetas....................... R$ 22.3\n",
            "Livro......................... R$ 34.9\n",
            "----------------------------------------\n"
          ]
        }
      ]
    },
    {
      "cell_type": "code",
      "source": [
        "# DESAFIO 76 - Mostrando vogais nas palavras\n",
        "\n",
        "palavras = ('Aprender','Programar','Palavrao','Computador','Python','Mochila','Caderno','Mouse','Teclado')\n",
        "\n",
        "for p in palavras:\n",
        "  print(f'Na palavra \"{p}\" temos as vogais:',end=' ')\n",
        "  for letra in p:\n",
        "    if letra in 'aeiou':\n",
        "      print(letra, end=' ')\n",
        "  print('')\n"
      ],
      "metadata": {
        "colab": {
          "base_uri": "https://localhost:8080/"
        },
        "id": "iTUb7sfqF2Sn",
        "outputId": "c9b34eb9-38dc-4b78-9487-ef467200befa"
      },
      "execution_count": null,
      "outputs": [
        {
          "output_type": "stream",
          "name": "stdout",
          "text": [
            "Na palavra \"Aprender\" temos as vogais: e e \n",
            "Na palavra \"Programar\" temos as vogais: o a a \n",
            "Na palavra \"Palavrao\" temos as vogais: a a a o \n",
            "Na palavra \"Computador\" temos as vogais: o u a o \n",
            "Na palavra \"Python\" temos as vogais: o \n",
            "Na palavra \"Mochila\" temos as vogais: o i a \n",
            "Na palavra \"Caderno\" temos as vogais: a e o \n",
            "Na palavra \"Mouse\" temos as vogais: o u e \n",
            "Na palavra \"Teclado\" temos as vogais: e a o \n"
          ]
        }
      ]
    }
  ]
}