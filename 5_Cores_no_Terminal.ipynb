{
  "nbformat": 4,
  "nbformat_minor": 0,
  "metadata": {
    "colab": {
      "provenance": [],
      "include_colab_link": true
    },
    "kernelspec": {
      "name": "python3",
      "display_name": "Python 3"
    },
    "language_info": {
      "name": "python"
    }
  },
  "cells": [
    {
      "cell_type": "markdown",
      "metadata": {
        "id": "view-in-github",
        "colab_type": "text"
      },
      "source": [
        "<a href=\"https://colab.research.google.com/github/thiagoreys123/Curso_Python_Guanabara/blob/main/5_Cores_no_Terminal.ipynb\" target=\"_parent\"><img src=\"https://colab.research.google.com/assets/colab-badge.svg\" alt=\"Open In Colab\"/></a>"
      ]
    },
    {
      "cell_type": "markdown",
      "source": [
        "**Código de Cores**\n",
        "* **\\033[** *style; text; back* **\\033[0m**\n",
        "\n",
        "Obs: a ordem não importa, o que define são os números.\n"
      ],
      "metadata": {
        "id": "l-0rn8cr6CTL"
      }
    },
    {
      "cell_type": "markdown",
      "source": [
        "- ***Style***: 0 = normal; 1 = negrito; 3 = itálico; 4 = sublinhado.\n",
        "- ***Text*** (Cores das letras): 97. Branco\n",
        "\n",
        "> 30.      Preto\n",
        "31.      Vermelho           \n",
        "32.      Verde      \n",
        "33.      Amarelo      \n",
        "34.      Azul          \n",
        "35.      Magenta  \n",
        "36.      Ciano         \n",
        "37.      Cinza         \n",
        "\n",
        "\n",
        "\n",
        "\n",
        "\n",
        "- ***BackGround***(Cordes de fundo): 107. Branco\n",
        "\n",
        "\n",
        "> 40. Preto\n",
        "41. Vermelho\n",
        "42. Verde\n",
        "43. Amarelo\n",
        "44. Azul\n",
        "45. Magenta\n",
        "46. Ciano\n",
        "47. Cinza\n",
        "\n",
        "\n",
        "\n"
      ],
      "metadata": {
        "id": "CQzPRxy86yob"
      }
    },
    {
      "cell_type": "code",
      "execution_count": null,
      "metadata": {
        "colab": {
          "base_uri": "https://localhost:8080/"
        },
        "id": "xxJkcggG5N8k",
        "outputId": "c7716905-b254-45b6-ae8a-543d3a252ddf"
      },
      "outputs": [
        {
          "output_type": "stream",
          "name": "stdout",
          "text": [
            "\u001b[34m Olá Mundo\n",
            "\u001b[97;40m Olá Mundo \n",
            "\u001b[1;32;47m Olá Mundo \n",
            "\u001b[4;31;46m Olá Mundo \n"
          ]
        }
      ],
      "source": [
        "print(\"\\033[34m Olá Mundo\")\n",
        "print(\"\\033[97;40m Olá Mundo \")\n",
        "print(\"\\033[1;32;47m Olá Mundo \")\n",
        "print(\"\\033[4;31;46m Olá Mundo \")"
      ]
    },
    {
      "cell_type": "code",
      "source": [
        "nome = input('Qual é o seu nome? ')\n",
        "\n",
        "print(f'Prazer em lhe conhecer, \\033[1;31m{nome}\\033[0m!')"
      ],
      "metadata": {
        "colab": {
          "base_uri": "https://localhost:8080/"
        },
        "id": "ndBl1eWUNCH0",
        "outputId": "daf96a23-b425-4544-ba9d-1ed953f5519f"
      },
      "execution_count": null,
      "outputs": [
        {
          "output_type": "stream",
          "name": "stdout",
          "text": [
            "Qual é o seu nome? Thiago\n",
            "Prazer em lhe conhecer, \u001b[1;31mThiago\u001b[0m!\n"
          ]
        }
      ]
    },
    {
      "cell_type": "code",
      "source": [
        "# Dicionário de Cores\n",
        "cores = {'Preto': '\\033[30m', 'Vermelho': '\\033[31m', 'Verde': '\\033[32m', 'Amarelo': '\\033[33m', 'Azul': '\\033[34m', 'Magenta': '\\033[35m', 'Ciano': '\\033[36m', 'Cinza': '\\033[37m', 'Limpar': '\\033[0m'}\n",
        "\n",
        "nome = input('Qual é o seu nome? ')\n",
        "\n",
        "print('Prazer em lhe conhecer, {}{}{}!'.format(cores['Azul'],nome,cores['Limpar']))\n"
      ],
      "metadata": {
        "colab": {
          "base_uri": "https://localhost:8080/"
        },
        "id": "UmPrlT-pOSLz",
        "outputId": "9dc28608-fbdb-4b2b-89b1-990d043b3af3"
      },
      "execution_count": null,
      "outputs": [
        {
          "output_type": "stream",
          "name": "stdout",
          "text": [
            "Qual é o seu nome? Carlos\n",
            "Prazer em lhe conhecer, \u001b[34mCarlos\u001b[0m!\n"
          ]
        }
      ]
    }
  ]
}