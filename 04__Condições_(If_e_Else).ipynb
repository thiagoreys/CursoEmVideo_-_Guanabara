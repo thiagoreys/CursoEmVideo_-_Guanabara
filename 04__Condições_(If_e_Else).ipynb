{
  "nbformat": 4,
  "nbformat_minor": 0,
  "metadata": {
    "colab": {
      "provenance": [],
      "include_colab_link": true
    },
    "kernelspec": {
      "name": "python3",
      "display_name": "Python 3"
    },
    "language_info": {
      "name": "python"
    }
  },
  "cells": [
    {
      "cell_type": "markdown",
      "metadata": {
        "id": "view-in-github",
        "colab_type": "text"
      },
      "source": [
        "<a href=\"https://colab.research.google.com/github/thiagoreys123/Curso_Python_Guanabara/blob/main/4_Condi%C3%A7%C3%B5es_(If_e_Else).ipynb\" target=\"_parent\"><img src=\"https://colab.research.google.com/assets/colab-badge.svg\" alt=\"Open In Colab\"/></a>"
      ]
    },
    {
      "cell_type": "markdown",
      "source": [
        "**Desafio 28** - Escreva um programa que faça o computador \"pensar\" em um número inteiro de 0 a 5 e peça para o usuário tentar descobrir qual foi o número escolhido pelo computador. O programa deverá escrever na tela se o usuário venceu o perdeu."
      ],
      "metadata": {
        "id": "gR8cF5x9R5Zx"
      }
    },
    {
      "cell_type": "code",
      "execution_count": null,
      "metadata": {
        "id": "jFkr0dq5O4Gg",
        "colab": {
          "base_uri": "https://localhost:8080/"
        },
        "outputId": "baba5e5b-73e3-4006-f65f-66155d08ee23"
      },
      "outputs": [
        {
          "output_type": "stream",
          "name": "stdout",
          "text": [
            "Jogo da Adivinhação\n",
            "--------------------\n",
            "Estou pensando em um número inteiro de 0 a 5. Qual número estou pensando? 5\n",
            "Parabêns, você acertou. O número que estava pensando também era 5\n"
          ]
        }
      ],
      "source": [
        "from random import randint\n",
        "NA = randint(0,5)\n",
        "\n",
        "print('Jogo da Adivinhação')\n",
        "print('--'*10)\n",
        "n = int(input('Estou pensando em um número inteiro de 0 a 5. Qual número estou pensando? '))\n",
        "\n",
        "if n == NA:\n",
        "  print(f'Parabêns, você acertou. O número que estava pensando também era {NA}')\n",
        "else:\n",
        "  print(f'Você errou. O número que estava pensando era {NA}')"
      ]
    },
    {
      "cell_type": "markdown",
      "source": [
        "**Desafio 29** - Escreva um programa que leia a velocidade de um carro. Se ele ultrapassar 80 km/h mostre uma mensagem dizendo que ele foi multado. A multa vai custar R$ 7,00 para cada km/h acima do limite."
      ],
      "metadata": {
        "id": "Ka6uFt_VTGVm"
      }
    },
    {
      "cell_type": "code",
      "source": [
        "v = float(input('Velocidade do Carro (km/h): '))\n",
        "\n",
        "if v > 80:\n",
        "  u = v - 80\n",
        "  print(f'Você está {u} km/h acima da velocidade limite de 80 km/h.')\n",
        "  print(f'A multa vai lhe custar: R$ {u*7}.')\n",
        "else:\n",
        "  print('Parabêns, você está dentro da velocidade limite.')"
      ],
      "metadata": {
        "id": "ZOgwCrWSTr7G",
        "colab": {
          "base_uri": "https://localhost:8080/"
        },
        "outputId": "2f27c2fc-bfb2-465b-f57b-02fd5a7457d2"
      },
      "execution_count": null,
      "outputs": [
        {
          "output_type": "stream",
          "name": "stdout",
          "text": [
            "Velocidade do Carro (km/h): 90\n",
            "Você está 10.0 km/h acima da velocidade limite de 80 km/h.\n",
            "A multa vai lhe custar: R$ 70.0.\n"
          ]
        }
      ]
    },
    {
      "cell_type": "markdown",
      "source": [
        "**Desafio 30** - Crie um programa que leia um inteiro qualquer e mostra na tela se ele é par ou impar."
      ],
      "metadata": {
        "id": "17l-DAT7TsMw"
      }
    },
    {
      "cell_type": "code",
      "source": [
        "n = int(input('Digite um numero inteiro qualquer:'))\n",
        "\n",
        "if n % 2 == 0:\n",
        "  print('O numero digitado é par.')\n",
        "else:\n",
        "  print('O numero digitado é impar.')"
      ],
      "metadata": {
        "id": "uRaVggt7T2sQ",
        "colab": {
          "base_uri": "https://localhost:8080/"
        },
        "outputId": "621b0dfc-daec-48a7-cba4-a6dcf0aafa24"
      },
      "execution_count": null,
      "outputs": [
        {
          "output_type": "stream",
          "name": "stdout",
          "text": [
            "Digite um numero inteiro qualquer:7\n",
            "O numero digitado é impar.\n"
          ]
        }
      ]
    },
    {
      "cell_type": "markdown",
      "source": [
        "**Desafio 31** - Desenvolva um programa que pergunte a distância de uma viagem em km. Calcule o preço da passagem, cobrando R\\$0,50 por km para viagens de até 200km e R\\$0,45 para viagens mais longas."
      ],
      "metadata": {
        "id": "jk7AJJxeT3C4"
      }
    },
    {
      "cell_type": "code",
      "source": [
        "d = float(input('Digite a distância da viagem em km/h: '))\n",
        "\n",
        "if d <= 200:\n",
        "  print(f'Preço da viagem: R${d*0.5}')\n",
        "else:\n",
        "  print(f'Preço da viagem: R${d*0.45}')"
      ],
      "metadata": {
        "id": "YuULT0xpUZYh",
        "colab": {
          "base_uri": "https://localhost:8080/"
        },
        "outputId": "57cd0d18-e1f7-40f6-aedc-1d13bddb35c5"
      },
      "execution_count": null,
      "outputs": [
        {
          "output_type": "stream",
          "name": "stdout",
          "text": [
            "Digite a distância da viagem em km/h: 210\n",
            "Preço da viagem: R$94.5\n"
          ]
        }
      ]
    },
    {
      "cell_type": "markdown",
      "source": [
        "**Desafio 32** - Faça um programa que leia um ano qualquer e diga se é um ano bissexto."
      ],
      "metadata": {
        "id": "A65tfCOvUZmy"
      }
    },
    {
      "cell_type": "code",
      "source": [
        "ano = int(input('Digite um ano qualquer: '))\n",
        "\n",
        "if ano % 4 == 0:\n",
        "  print('O ano é bissexto.')\n",
        "else:\n",
        "  print('O ano não é bissexto.')"
      ],
      "metadata": {
        "id": "6QQn6Yq4U2Tp",
        "colab": {
          "base_uri": "https://localhost:8080/"
        },
        "outputId": "0c59168c-b291-4676-e628-1078e5a355c0"
      },
      "execution_count": null,
      "outputs": [
        {
          "output_type": "stream",
          "name": "stdout",
          "text": [
            "Digite um ano qualquer: 2024\n",
            "O ano é bissexto.\n"
          ]
        }
      ]
    },
    {
      "cell_type": "markdown",
      "source": [
        "**Desafio 33** - Faça um programa que leia 3 números e mostre qual é o maior e qual é o menor."
      ],
      "metadata": {
        "id": "IYGjtkoHU5DQ"
      }
    },
    {
      "cell_type": "code",
      "source": [
        "n1 = float(input('Digite 3 números:\\n'))\n",
        "n2 = float(input())\n",
        "n3 = float(input())\n",
        "\n",
        "if n1 > n2:\n",
        "  if n1 > n3:\n",
        "    maior = n1\n",
        "    if n2 < n3:\n",
        "      menor = n2\n",
        "    else:\n",
        "      menor = n3\n",
        "  else:\n",
        "    maior = n3\n",
        "    menor = n2\n",
        "else:\n",
        "  if n1 > n3:\n",
        "    maior = n2\n",
        "    menor = n3\n",
        "  else:\n",
        "    menor = n1\n",
        "    if n2 > n3:\n",
        "      maior = n2\n",
        "    else:\n",
        "      maior = n3\n",
        "\n",
        "print(f'O maior numero é {maior} e o menor é {menor}.')"
      ],
      "metadata": {
        "id": "sAqy9KzCVFlQ",
        "colab": {
          "base_uri": "https://localhost:8080/"
        },
        "outputId": "aa56946c-712a-4b24-e890-173dbc8b5937"
      },
      "execution_count": null,
      "outputs": [
        {
          "output_type": "stream",
          "name": "stdout",
          "text": [
            "Digite 3 números:\n",
            "3\n",
            "1\n",
            "2\n",
            "O maior numero é 3.0 e o menor é 1.0.\n"
          ]
        }
      ]
    },
    {
      "cell_type": "code",
      "source": [
        "# Solução Guanabara\n",
        "a = float(input('Digite 3 números:\\n'))\n",
        "b = float(input())\n",
        "c = float(input())\n",
        "\n",
        "menor = a\n",
        "if b < a and b < c:\n",
        "  menor = b\n",
        "if c < a and c < b:\n",
        "  menor = c\n",
        "\n",
        "maior = a\n",
        "if b > a and b > c:\n",
        "  maior = b\n",
        "if c > a and c > b:\n",
        "  maior = c\n",
        "\n",
        "print(f'O maior número é {maior} e o menor é {menor}.')\n",
        "\n"
      ],
      "metadata": {
        "colab": {
          "base_uri": "https://localhost:8080/"
        },
        "id": "Nra0FI27aDfB",
        "outputId": "9d9f1bde-22e6-4820-b1d3-8a9e8043268b"
      },
      "execution_count": null,
      "outputs": [
        {
          "output_type": "stream",
          "name": "stdout",
          "text": [
            "Digite 3 números:\n",
            "3\n",
            "4\n",
            "5\n",
            "O maior número é 5.0 e o menor é 3.0.\n"
          ]
        }
      ]
    },
    {
      "cell_type": "markdown",
      "source": [
        "**Desafio 34** - Faça um programa que pergunte o salário de um funcionário e calcule o valor do seu aumento. Para salário superiores a R\\$1.250,00, calcule um aumento de 10%. Para inferiores ou iguais, o aumento é de 15%."
      ],
      "metadata": {
        "id": "O5CdKI15VF1o"
      }
    },
    {
      "cell_type": "code",
      "source": [
        "salario = float(input('Salário do funcionário: R$'))\n",
        "\n",
        "if salario > 1250:\n",
        "  print(f'O funcionário terá um aumento de 10%, totalizando em: R$ {salario*1.1}.')\n",
        "else:\n",
        "  print(f'O funcionário terá um aumento de 15%, totalizando em: R$ {salario*1.15}.')"
      ],
      "metadata": {
        "id": "ybSe0jUqVn8Q",
        "colab": {
          "base_uri": "https://localhost:8080/"
        },
        "outputId": "f59eab37-c023-47b6-9af3-9e4e5129eb21"
      },
      "execution_count": null,
      "outputs": [
        {
          "output_type": "stream",
          "name": "stdout",
          "text": [
            "Salário do funcionário: R$1200\n",
            "O funcionário terá um aumento de 15%, totalizando em: R$ 1380.0.\n"
          ]
        }
      ]
    },
    {
      "cell_type": "markdown",
      "source": [
        "**Desafio 35** - Desenvolva um programa que leia o comprimento de três retas e diga se elas podem formar um triângulo."
      ],
      "metadata": {
        "id": "1Bi-JzRgVoI4"
      }
    },
    {
      "cell_type": "code",
      "source": [
        "a = float(input('Digite o comprimento de 3 segmentos de retas (sem as unidades de medidas):\\n'))\n",
        "b = float(input())\n",
        "c = float(input())\n",
        "\n",
        "#Para que um triângulo seja possível, nenhum dos lados podem ser maior que a soma dos outos 2.\n",
        "if a < b + c and b < a + c and c < b + a:\n",
        "  print('É possível formar um triângulo.')\n",
        "else:\n",
        "  print('Não é possível formar um triângulo.')"
      ],
      "metadata": {
        "colab": {
          "base_uri": "https://localhost:8080/"
        },
        "id": "jHU0-iXwhjhT",
        "outputId": "3c60593b-3989-43b6-8d7e-ae00d009a0b4"
      },
      "execution_count": null,
      "outputs": [
        {
          "output_type": "stream",
          "name": "stdout",
          "text": [
            "Digite o comprimento de 3 segmentos de retas (sem as unidades de medidas):\n",
            "10\n",
            "6\n",
            "5\n",
            "É possível formar um triângulo.\n"
          ]
        }
      ]
    },
    {
      "cell_type": "code",
      "source": [],
      "metadata": {
        "id": "zD-hP7Xys1Kz"
      },
      "execution_count": null,
      "outputs": []
    }
  ]
}