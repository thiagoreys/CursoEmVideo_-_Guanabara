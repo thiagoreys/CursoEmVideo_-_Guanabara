{
  "nbformat": 4,
  "nbformat_minor": 0,
  "metadata": {
    "colab": {
      "provenance": [],
      "include_colab_link": true
    },
    "kernelspec": {
      "name": "python3",
      "display_name": "Python 3"
    },
    "language_info": {
      "name": "python"
    }
  },
  "cells": [
    {
      "cell_type": "markdown",
      "metadata": {
        "id": "view-in-github",
        "colab_type": "text"
      },
      "source": [
        "<a href=\"https://colab.research.google.com/github/thiagoreys123/Curso_Python_Guanabara/blob/main/8_While.ipynb\" target=\"_parent\"><img src=\"https://colab.research.google.com/assets/colab-badge.svg\" alt=\"Open In Colab\"/></a>"
      ]
    },
    {
      "cell_type": "code",
      "source": [
        "# DESAFIO 57 - Validação de dados\n",
        "from IPython.display import clear_output\n",
        "\n",
        "s = input('Digite seu sexo (M/F): ').upper()\n",
        "\n",
        "while s not in 'MF':\n",
        "  print('Sexo inválido, tente novamente.')\n",
        "  s = input('Digite seu sexo (M/F): ').upper()\n",
        "  clear_output()\n",
        "\n",
        "if s == 'M':\n",
        "  print('Sexo escolhido: Masculino.')\n",
        "if s == 'F':\n",
        "  print('Sexo escolhido: Feminino.')\n"
      ],
      "metadata": {
        "colab": {
          "base_uri": "https://localhost:8080/"
        },
        "id": "0SsVBKKxk5Ef",
        "outputId": "e0c477f9-9f16-42e3-f043-0c83c1947137"
      },
      "execution_count": null,
      "outputs": [
        {
          "output_type": "stream",
          "name": "stdout",
          "text": [
            "Sexo escolhido: Masculino.\n"
          ]
        }
      ]
    },
    {
      "cell_type": "code",
      "source": [
        "# DESAFIO 58 - Jogo da advinhação v2.0\n",
        "from IPython.display import clear_output\n",
        "from random import randint\n",
        "\n",
        "c = randint(0,10)\n",
        "print('Estou pensando em um número entre 0 e 10')\n",
        "n = int(input('Em qual número estou pensando? '))\n",
        "t = 0\n",
        "\n",
        "while n != c:\n",
        "  print('Que pena, você errou.')\n",
        "  n = int(input('Tente novamente: '))\n",
        "  t += 1\n",
        "  clear_output()\n",
        "\n",
        "print(f'Parabêns, eu estava pensando no {c}, você acertou!')\n",
        "print(f'Depois de {t} tentativa(s).')"
      ],
      "metadata": {
        "colab": {
          "base_uri": "https://localhost:8080/"
        },
        "id": "jm7taO_jobFw",
        "outputId": "be6509e0-9538-47bb-ec3a-b5a6d5ba55ea"
      },
      "execution_count": null,
      "outputs": [
        {
          "output_type": "stream",
          "name": "stdout",
          "text": [
            "Parabêns, eu estava pensando no 9, você acertou!\n",
            "Depois de 1 tentativa(s).\n"
          ]
        }
      ]
    },
    {
      "cell_type": "code",
      "source": [
        "# DESAFIO 59 - Menu de Opções\n",
        "\n",
        "print('Digite dois números.')\n",
        "n1 = float(input('Num 1: '))\n",
        "n2 = float(input('Num 2: '))\n",
        "\n",
        "if n1//1 == n1:\n",
        "  n1 = int(n1)\n",
        "if int(n2) == n2:\n",
        "  n2 = int(n2)\n",
        "\n",
        "print(\"\"\"====== MENU ======\n",
        "[1] Somar\n",
        "[2] Multiplicar\n",
        "[3] Mostrar o maior\n",
        "[4] Digitar novos números\n",
        "[5] Sair do programa\"\"\")\n",
        "\n",
        "opcao = 4\n",
        "while opcao == 4:\n",
        "  opcao = int(input('\\nO que deseja fazer? '))\n",
        "  if opcao == 1:\n",
        "    print(f'{n1} + {n2} = {n1+n2}')\n",
        "  elif opcao == 2:\n",
        "    print(f'{n1} * {n2} = {n1*n2}')\n",
        "  elif opcao == 3:\n",
        "    if n1>n2: print(f'{n1} é o maior.')\n",
        "    else: print(f'{n2} é o maior.')\n",
        "  elif opcao == 4:\n",
        "    print('\\nDigite os novos números.')\n",
        "    n1 = float(input('Num 1: '))\n",
        "    n2 = float(input('Num 2: '))\n",
        "  elif opcao == 5:\n",
        "    print('Programa Finalizado.')\n",
        "  else:\n",
        "    print('Opcao inválida, tente novamente.')\n",
        "    opcao = 4\n"
      ],
      "metadata": {
        "colab": {
          "base_uri": "https://localhost:8080/"
        },
        "id": "01QF7dZ5sMMo",
        "outputId": "2531fe22-a75b-46ae-c13f-b9b6f14a4e19"
      },
      "execution_count": null,
      "outputs": [
        {
          "output_type": "stream",
          "name": "stdout",
          "text": [
            "Digite dois números.\n",
            "Num 1: 1.6\n",
            "Num 2: 2\n",
            "====== MENU ======\n",
            "[1] Somar\n",
            "[2] Multiplicar\n",
            "[3] Mostrar o maior\n",
            "[4] Digitar novos números\n",
            "[5] Sair do programa\n",
            "\n",
            "O que deseja fazer? 1\n",
            "1.6 + 2 = 3.6\n"
          ]
        }
      ]
    },
    {
      "cell_type": "code",
      "source": [
        "# DESAFIO 60 - Fatorial\n",
        "\n",
        "n = int(input('Digite um número natural: '))\n",
        "\n",
        "while n < 0:\n",
        "  print('O número precisa ser natural (positivo).')\n",
        "  n = int(input('Tente novamente: '))\n",
        "\n",
        "m=n; f=1\n",
        "while m > 1:\n",
        "  f *= m\n",
        "  m -= 1\n",
        "\n",
        "print(f'{n}! = {f}')\n"
      ],
      "metadata": {
        "colab": {
          "base_uri": "https://localhost:8080/"
        },
        "id": "S8Oi8q2l2GyH",
        "outputId": "aed0db8b-91dd-418e-aedf-67d41fb02381"
      },
      "execution_count": null,
      "outputs": [
        {
          "output_type": "stream",
          "name": "stdout",
          "text": [
            "Digite um número natural: 5\n",
            "5! = 120\n"
          ]
        }
      ]
    },
    {
      "cell_type": "code",
      "source": [
        "# DESAFIO 61 - Progressão Aritmética v2.0\n",
        "\n",
        "n = float(input('Digite o primeiro termo da PA: '))\n",
        "r = float(input('Digite a razão da PA: '))\n",
        "\n",
        "c=1\n",
        "while c <= 10:\n",
        "  print(n,end=' -> ')\n",
        "  n += r\n",
        "  c += 1\n",
        "print('Fim.')"
      ],
      "metadata": {
        "colab": {
          "base_uri": "https://localhost:8080/"
        },
        "id": "uc0FmmBOE8n3",
        "outputId": "ff0f507e-d360-438e-d977-ee92a819b280"
      },
      "execution_count": null,
      "outputs": [
        {
          "output_type": "stream",
          "name": "stdout",
          "text": [
            "Digite o primeiro termo da PA: 10\n",
            "Digite a razão da PA: 2.5\n",
            "10.0 -> 12.5 -> 15.0 -> 17.5 -> 20.0 -> 22.5 -> 25.0 -> 27.5 -> 30.0 -> 32.5 -> Fim.\n"
          ]
        }
      ]
    },
    {
      "cell_type": "code",
      "source": [
        "# DESAFIO 61 - Outra forma de fazer.\n",
        "\n",
        "p1 = int(input('Primeiro termo: '))\n",
        "r = int(input('Razão: '))\n",
        "final = p1 + 10*r\n",
        "soma = p1\n",
        "\n",
        "while soma < final:\n",
        "  print(soma, end=' -> ')\n",
        "  soma += r\n",
        "\n",
        "print(f'Fim')"
      ],
      "metadata": {
        "colab": {
          "base_uri": "https://localhost:8080/"
        },
        "id": "YePS8Uq7fp5a",
        "outputId": "e55a031c-fc12-4248-fbdf-a919e3d48f65"
      },
      "execution_count": null,
      "outputs": [
        {
          "output_type": "stream",
          "name": "stdout",
          "text": [
            "Primeiro termo: 10\n",
            "Razão: 7\n",
            "10 -> 17 -> 24 -> 31 -> 38 -> 45 -> 52 -> 59 -> 66 -> 73 -> Fim\n"
          ]
        }
      ]
    },
    {
      "cell_type": "code",
      "source": [
        "# DESAFIO 62 - Super Progressão Aritmética\n",
        "\n",
        "a = float(input('Digite o primeiro termo da PA: '))\n",
        "r = float(input('Digite a razão da PA: '))\n",
        "\n",
        "c = 1\n",
        "print('(',end='')\n",
        "while c <= 10:\n",
        "  print(a,end='')\n",
        "  if c < 10:\n",
        "    print(', ',end='')\n",
        "  a += r\n",
        "  c += 1\n",
        "print(')',end='')\n",
        "\n",
        "n = 1\n",
        "while n != 0:\n",
        "  n = int(input('\\nVocê quer mostrar mais quantos termos? '))\n",
        "  c = 1\n",
        "  print('(',end='')\n",
        "  while c <= n:\n",
        "    print(a,end='')\n",
        "    if c < n:\n",
        "      print(', ',end='')\n",
        "    a += r\n",
        "    c += 1\n",
        "  print(')',end='')"
      ],
      "metadata": {
        "colab": {
          "base_uri": "https://localhost:8080/"
        },
        "id": "AXUqRoQhKT8H",
        "outputId": "0132e452-d673-4a26-ca19-79265736d177"
      },
      "execution_count": null,
      "outputs": [
        {
          "output_type": "stream",
          "name": "stdout",
          "text": [
            "Digite o primeiro termo da PA: 5\n",
            "Digite a razão da PA: 3\n",
            "(5, 8, 11, 14, 17, 20, 23, 26, 29, 32)\n",
            "Você quer mostrar mais quantos termos? 2\n",
            "(35, 38)\n",
            "Você quer mostrar mais quantos termos? 3\n",
            "(41, 44, 47)\n",
            "Você quer mostrar mais quantos termos? 4\n",
            "(50, 53, 56, 59)\n",
            "Você quer mostrar mais quantos termos? 10\n",
            "(62, 65, 68, 71, 74, 77, 80, 83, 86, 89)\n",
            "Você quer mostrar mais quantos termos? 0\n",
            "()"
          ]
        }
      ]
    },
    {
      "cell_type": "code",
      "source": [
        "# DESAFIO 63 - Sequência Fibonacci\n",
        "\n",
        "n = int(input('Quantos termos da sequência Fibonacci deseja ver? '))\n",
        "ultimo = 1\n",
        "penultimo = 1\n",
        "print(ultimo,penultimo, end = ' ')\n",
        "c = 1\n",
        "while c <= n:\n",
        "  termo = ultimo + penultimo\n",
        "  penultimo = ultimo\n",
        "  ultimo = termo\n",
        "  print(termo, end=' ')\n",
        "  c += 1\n"
      ],
      "metadata": {
        "id": "05k8W7lPNmRm",
        "colab": {
          "base_uri": "https://localhost:8080/"
        },
        "outputId": "a449a76b-1cb2-44db-c5fa-6e2acbbde9c0"
      },
      "execution_count": null,
      "outputs": [
        {
          "output_type": "stream",
          "name": "stdout",
          "text": [
            "Quantos termos da sequência Fibonacci deseja ver? 5\n",
            "1 1 2 3 5 8 13 "
          ]
        }
      ]
    },
    {
      "cell_type": "code",
      "source": [
        " # DESAFIO 64 - Tratando vários valores\n",
        "\n",
        "print('Digite quais números deseja somar, apertando enter entre eles.')\n",
        "print('Digite 999 quando quiser parar.')\n",
        "\n",
        "s = 0; c = 0; n = 0\n",
        "while n != 999:\n",
        "  n = float(input())\n",
        "  if n != 999:\n",
        "    s += n\n",
        "    c += 1\n",
        "print('_________________________')\n",
        "print(f'Você digitou {c} termos.')\n",
        "print(f'Somatório: {s}')"
      ],
      "metadata": {
        "colab": {
          "base_uri": "https://localhost:8080/"
        },
        "id": "WdOR9NBhK2K3",
        "outputId": "8d448b88-de7f-435e-bddf-e96b778b1f92"
      },
      "execution_count": null,
      "outputs": [
        {
          "output_type": "stream",
          "name": "stdout",
          "text": [
            "Digite quais números deseja somar, apertando enter entre eles.\n",
            "Digite 999 quando quiser parar.\n",
            "10\n",
            "5\n",
            "15\n",
            "999\n",
            "_________________________\n",
            "Você digitou 3 termos.\n",
            "Somatório: 30.0\n"
          ]
        }
      ]
    },
    {
      "cell_type": "code",
      "source": [
        "# DESAFIO 65 - Maior e Menor Valores\n",
        "\n",
        "print('Digite os números o quais deseja tirar média.')\n",
        "opcao = 's'\n",
        "s = 0; c = 0\n",
        "while opcao in 'Ss':\n",
        "  n = float(input())\n",
        "  s += n\n",
        "  c += 1\n",
        "  opcao = input('Deseja adicionar outro número [s/n] ? ')\n",
        "  while opcao not in 'SsNn':\n",
        "    opcao = input('Opção inválida, tente novamente: ')\n",
        "\n",
        "print(f'Média: {s/c:.2f}')"
      ],
      "metadata": {
        "colab": {
          "base_uri": "https://localhost:8080/"
        },
        "id": "k9tgmh8VR0Kf",
        "outputId": "b6c39025-da2a-4142-f34e-4550b8b9dd98"
      },
      "execution_count": null,
      "outputs": [
        {
          "output_type": "stream",
          "name": "stdout",
          "text": [
            "Digite os números o quais deseja tirar média.\n",
            "9\n",
            "Deseja adicionar outro número [s/n] ? s\n",
            "8\n",
            "Deseja adicionar outro número [s/n] ? s\n",
            "7\n",
            "Deseja adicionar outro número [s/n] ? 45\n",
            "Opção inválida, tente novamente: n\n",
            "Média: 8.00\n"
          ]
        }
      ]
    }
  ]
}