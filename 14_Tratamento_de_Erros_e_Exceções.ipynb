{
  "nbformat": 4,
  "nbformat_minor": 0,
  "metadata": {
    "colab": {
      "provenance": [],
      "include_colab_link": true
    },
    "kernelspec": {
      "name": "python3",
      "display_name": "Python 3"
    },
    "language_info": {
      "name": "python"
    }
  },
  "cells": [
    {
      "cell_type": "markdown",
      "metadata": {
        "id": "view-in-github",
        "colab_type": "text"
      },
      "source": [
        "<a href=\"https://colab.research.google.com/github/thiagoreys123/Curso_Python_Guanabara/blob/main/14_Tratamento_de_Erros_e_Exce%C3%A7%C3%B5es.ipynb\" target=\"_parent\"><img src=\"https://colab.research.google.com/assets/colab-badge.svg\" alt=\"Open In Colab\"/></a>"
      ]
    },
    {
      "cell_type": "code",
      "source": [
        "try:\n",
        "  a = int(input('Numerador: '))\n",
        "  b = int(input('Denominador: '))\n",
        "  r = a / b\n",
        "  print(f'O resultado é {r}')\n",
        "except:\n",
        "  print('Os dados fornecidos são inválidos :/')"
      ],
      "metadata": {
        "colab": {
          "base_uri": "https://localhost:8080/"
        },
        "id": "TGkQY5Ps08sI",
        "outputId": "8c34cdd2-ab06-4330-a073-605d9a42e409"
      },
      "execution_count": null,
      "outputs": [
        {
          "output_type": "stream",
          "name": "stdout",
          "text": [
            "Numerador: 9\n",
            "Denominador: dois\n",
            "Os dados fornecidos são inválidos :/\n"
          ]
        }
      ]
    },
    {
      "cell_type": "code",
      "execution_count": null,
      "metadata": {
        "colab": {
          "base_uri": "https://localhost:8080/"
        },
        "id": "it4cmDit-raO",
        "outputId": "5723770a-29c8-42af-c0c8-ce06e048dc7e"
      },
      "outputs": [
        {
          "output_type": "stream",
          "name": "stdout",
          "text": [
            "Numerador: 5\n",
            "Denominador: 0\n",
            "Os dados fornecidos são inválidos :/\n",
            "Volte sempre. Muito obrigado!\n"
          ]
        }
      ],
      "source": [
        "try:\n",
        "  a = int(input('Numerador: '))\n",
        "  b = int(input('Denominador: '))\n",
        "  r = a / b\n",
        "except:\n",
        "  print('Os dados fornecidos são inválidos :/')\n",
        "else:         # Cláusula Opcional - é executada caso dê certo (negação do except).\n",
        "  print(f'O resultado é {r}')\n",
        "finally:      # Cláusula Opcional - é executada em qualquer caso (finalização).\n",
        "  print(f'Volte sempre. Muito obrigado!')"
      ]
    },
    {
      "cell_type": "code",
      "source": [
        "try:\n",
        "  a = int(input('Numerador: '))\n",
        "  b = int(input('Denominador: '))\n",
        "  r = a / b\n",
        "except Exception as erro:      # Comando para mostrar o erro.\n",
        "  print('-'*50)\n",
        "  print('Os dados fornecidos são inválidos :/')\n",
        "  print(f'O problema encontrado foi {erro.__class__}')\n",
        "  print('-'*50)\n",
        "else:\n",
        "  print(f'O resultado é {r:.2f}')\n",
        "finally:\n",
        "  print(f'Volte sempre. Muito obrigado!')"
      ],
      "metadata": {
        "colab": {
          "base_uri": "https://localhost:8080/"
        },
        "id": "vADtiEiy1Qb-",
        "outputId": "7dc5a220-b2b0-468d-b965-1113370d2590"
      },
      "execution_count": null,
      "outputs": [
        {
          "output_type": "stream",
          "name": "stdout",
          "text": [
            "Numerador: 20\n",
            "Denominador: 0\n",
            "--------------------------------------------------\n",
            "Os dados fornecidos são inválidos :/\n",
            "O problema encontrado foi <class 'ZeroDivisionError'>\n",
            "--------------------------------------------------\n",
            "Volte sempre. Muito obrigado!\n"
          ]
        }
      ]
    },
    {
      "cell_type": "code",
      "source": [
        "# Classificando os ERROS\n",
        "\n",
        "try:\n",
        "  a = int(input('Numerador: '))\n",
        "  b = int(input('Denominador: '))\n",
        "  r = a / b\n",
        "except (ValueError, TypeError):\n",
        "  print('-'*50)\n",
        "  print('Os dados fornecidos são inválidos. :/')\n",
        "  print('-'*50)\n",
        "except ZeroDivisionError:\n",
        "  print('-'*50)\n",
        "  print('Não é possível dividir um número por zero.')\n",
        "  print('-'*50)\n",
        "except Exception as erro:\n",
        "  print('-'*50)\n",
        "  print(f'ERRO! O problema encontrado foi {erro.__cause__}')\n",
        "  print('-'*50)\n",
        "else:\n",
        "  print(f'O resultado é {r:.2f}')\n",
        "finally:\n",
        "  print(f'Volte sempre. Muito obrigado!')"
      ],
      "metadata": {
        "colab": {
          "base_uri": "https://localhost:8080/"
        },
        "id": "HZeNlNj43LhH",
        "outputId": "06c2e6f3-e450-44f8-c23a-a90668e23a30"
      },
      "execution_count": null,
      "outputs": [
        {
          "output_type": "stream",
          "name": "stdout",
          "text": [
            "Numerador: 54\n",
            "Denominador: 0\n",
            "--------------------------------------------------\n",
            "Não é possível dividir um número por zero.\n",
            "--------------------------------------------------\n",
            "Volte sempre. Muito obrigado!\n"
          ]
        }
      ]
    },
    {
      "cell_type": "code",
      "source": [
        "# DESAFIO 113 - Validando dados\n",
        "import leia\n",
        "\n",
        "n = leia.numint('Digite um número inteiro: ')\n",
        "f = leia.numfloat('Digite um número real: ')\n"
      ],
      "metadata": {
        "colab": {
          "base_uri": "https://localhost:8080/"
        },
        "id": "uWoiBln2-6GZ",
        "outputId": "0f8822ac-d7fe-4c79-fd7c-387b6d755f6e"
      },
      "execution_count": null,
      "outputs": [
        {
          "name": "stdout",
          "output_type": "stream",
          "text": [
            "Digite um número inteiro: 5,5\n",
            "Você não digitou um número inteiro.\n",
            "Digite um número inteiro: 6\n",
            "Digite um número real: nove\n",
            "Você não digitou um número real.\n",
            "Digite um número real: 9\n"
          ]
        }
      ]
    },
    {
      "cell_type": "code",
      "source": [
        "# DESAFIO 114 - Checando o site Pudim\n",
        "from urllib import request\n",
        "\n",
        "try:\n",
        "  site = request.urlopen('http://pudim.com.br/')\n",
        "except:\n",
        "  print('O site não está acessível no momento.')\n",
        "else:\n",
        "  print('O site está acessível no momento.')\n"
      ],
      "metadata": {
        "colab": {
          "base_uri": "https://localhost:8080/"
        },
        "id": "kGlcSdTmbBFo",
        "outputId": "0d12152d-6899-400b-9cea-1aecd42cba3a"
      },
      "execution_count": null,
      "outputs": [
        {
          "output_type": "stream",
          "name": "stdout",
          "text": [
            "O site está acessível no momento.\n"
          ]
        }
      ]
    },
    {
      "cell_type": "code",
      "source": [
        "# DESAFIO 115 - Cadastro de Pessoas sem o Arquivo.\n",
        "import cadastro\n",
        "\n",
        "cadastro.pessoas()"
      ],
      "metadata": {
        "id": "jYNAzFb5fHYL",
        "colab": {
          "base_uri": "https://localhost:8080/"
        },
        "outputId": "eed84002-a8ea-4fb1-8b5a-8a8f6046e5ab"
      },
      "execution_count": null,
      "outputs": [
        {
          "output_type": "stream",
          "name": "stdout",
          "text": [
            "----------------------------------------\n",
            "             MENU PRINCIPAL             \n",
            "----------------------------------------\n",
            "\u001b[32;1m1\u001b[0m - Ver pessoas cadastradas.\n",
            "\u001b[32;1m2\u001b[0m - Cadastrar nova pessoa.\n",
            "\u001b[32;1m3\u001b[0m - Sair.\n",
            "----------------------------------------\n",
            "Digite sua opção: 2\n",
            "Nome: Thiago Reis\n",
            "Idade: 24\n",
            "Deseja adcionar mais uma pessoa? s\n",
            "Nome: Jorge Matheus\n",
            "Idade: 33\n",
            "Deseja adcionar mais uma pessoa? s\n",
            "Nome: Marcus Vinicius\n",
            "Idade: 23\n",
            "Deseja adcionar mais uma pessoa? s\n",
            "Nome: Ana Beatriz\n",
            "Idade: 19\n",
            "Deseja adcionar mais uma pessoa? s\n",
            "Nome: Cristina Rocha\n",
            "Idade: 35\n",
            "Deseja adcionar mais uma pessoa? s\n",
            "Nome: Maria José\n",
            "Idade: 42\n",
            "Deseja adcionar mais uma pessoa? n\n",
            "----------------------------------------\n",
            "             MENU PRINCIPAL             \n",
            "----------------------------------------\n",
            "\u001b[32;1m1\u001b[0m - Ver pessoas cadastradas.\n",
            "\u001b[32;1m2\u001b[0m - Cadastrar nova pessoa.\n",
            "\u001b[32;1m3\u001b[0m - Sair.\n",
            "----------------------------------------\n",
            "Digite sua opção: 1\n",
            "----------------------------------------\n",
            "          PESSOAS CADASTRADAS           \n",
            "----------------------------------------\n",
            "Thiago Reis                    24 anos  \n",
            "Jorge Matheus                  33 anos  \n",
            "Marcus Vinicius                23 anos  \n",
            "Ana Beatriz                    19 anos  \n",
            "Cristina Rocha                 35 anos  \n",
            "Maria José                     42 anos  \n",
            "----------------------------------------\n",
            "             MENU PRINCIPAL             \n",
            "----------------------------------------\n",
            "\u001b[32;1m1\u001b[0m - Ver pessoas cadastradas.\n",
            "\u001b[32;1m2\u001b[0m - Cadastrar nova pessoa.\n",
            "\u001b[32;1m3\u001b[0m - Sair.\n",
            "----------------------------------------\n",
            "Digite sua opção: 3\n",
            "\u001b[34mPrograma finalizado.\u001b[0m\n"
          ]
        }
      ]
    },
    {
      "cell_type": "code",
      "source": [
        "from google.colab import files\n",
        "files.upload()"
      ],
      "metadata": {
        "id": "4VPFYlbGWZ6M"
      },
      "execution_count": null,
      "outputs": []
    },
    {
      "cell_type": "code",
      "source": [
        "# DESAFIO 115 - Cadastro de Pessoas com o arquivo.\n",
        "from cad_com_arq import ArquivoExiste, CriarArquivo, pessoas, printcolorido\n",
        "\n",
        "arquivo = input('Digite o nome do arquivo que deseja importar: ')\n",
        "if ArquivoExiste(arquivo):\n",
        "  printcolorido('Arquivo encontrado com sucesso.','verde')\n",
        "  pessoas(arquivo)\n",
        "else:\n",
        "  printcolorido('Arquivo não encontrado!','vermelho')\n",
        "  CriarArquivo(arquivo)"
      ],
      "metadata": {
        "colab": {
          "base_uri": "https://localhost:8080/"
        },
        "id": "6zDnVld2SsbQ",
        "outputId": "fd83354c-937c-4da5-d1ff-77e77aab6e0e"
      },
      "execution_count": null,
      "outputs": [
        {
          "output_type": "stream",
          "name": "stdout",
          "text": [
            "Digite o nome do arquivo que deseja importar: pessoas_cadastradas.txt\n",
            "\u001b[32mArquivo encontrado com sucesso.\u001b[0m\n",
            "----------------------------------------\n",
            "             MENU PRINCIPAL             \n",
            "----------------------------------------\n",
            "\u001b[32;1m1\u001b[0m - Ver pessoas cadastradas.\n",
            "\u001b[32;1m2\u001b[0m - Cadastrar nova pessoa.\n",
            "\u001b[32;1m3\u001b[0m - Sair.\n",
            "----------------------------------------\n",
            "Digite sua opção: 1\n",
            "----------------------------------------\n",
            "          PESSOAS CADASTRADAS           \n",
            "----------------------------------------\n",
            "Maria das Graças               42 anos  \n",
            "João Carlos                    33 anos  \n",
            "Pedro Emanuel                  21 anos  \n",
            "Ana Beatriz                    19 anos  \n",
            "José Saramargo                 55 anos  \n",
            "Cristina Freitas               25 anos  \n",
            "Thiago Reis                    24 anos  \n",
            "----------------------------------------\n",
            "             MENU PRINCIPAL             \n",
            "----------------------------------------\n",
            "\u001b[32;1m1\u001b[0m - Ver pessoas cadastradas.\n",
            "\u001b[32;1m2\u001b[0m - Cadastrar nova pessoa.\n",
            "\u001b[32;1m3\u001b[0m - Sair.\n",
            "----------------------------------------\n",
            "Digite sua opção: 2\n",
            "Nome: Cristiano Ronaldo\n",
            "Idade: 32\n",
            "\u001b[32mOs dados de Cristiano Ronaldo foram adcionados.\u001b[0m\n",
            "Deseja adcionar mais uma pessoa? não\n",
            "----------------------------------------\n",
            "             MENU PRINCIPAL             \n",
            "----------------------------------------\n",
            "\u001b[32;1m1\u001b[0m - Ver pessoas cadastradas.\n",
            "\u001b[32;1m2\u001b[0m - Cadastrar nova pessoa.\n",
            "\u001b[32;1m3\u001b[0m - Sair.\n",
            "----------------------------------------\n",
            "Digite sua opção: 3\n",
            "\u001b[34mPrograma finalizado. Volte sempre!\u001b[0m\n"
          ]
        }
      ]
    }
  ]
}