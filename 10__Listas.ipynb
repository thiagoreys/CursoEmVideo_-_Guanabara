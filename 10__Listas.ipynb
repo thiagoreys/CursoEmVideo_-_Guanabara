{
  "cells": [
    {
      "cell_type": "markdown",
      "metadata": {
        "id": "view-in-github",
        "colab_type": "text"
      },
      "source": [
        "<a href=\"https://colab.research.google.com/github/thiagoreys123/Curso_Python_Guanabara/blob/main/10_Listas.ipynb\" target=\"_parent\"><img src=\"https://colab.research.google.com/assets/colab-badge.svg\" alt=\"Open In Colab\"/></a>"
      ]
    },
    {
      "cell_type": "markdown",
      "metadata": {
        "id": "1wU6NzsgVDT9"
      },
      "source": [
        "# Listas [ ]\n",
        "*   **Listas são mutáveis.**\n",
        "*   **lista.append(item)** - Adicionar item no final da lista.\n",
        "*   **lista.insert(p, item)** - Adicionar item na posição **p**, empurrando os outros itens.\n",
        "*   **del lista[p]** ou **lista.pop(p)**- Deletar o item na posição **p**.\n",
        "*   **lista.pop( )** - Deletar o último item da lista.\n",
        "*   **lista.remove(x)** - Deletar o item x.\n",
        "*   **lista.clear()** - Limpar lista.\n",
        "*   **lista.sort( )** - Colocar os itens em ordem crescente.\n",
        "*   **lista.sort(reverse = true)** - Colocar os itens em ordem decrescente.\n",
        "*   **len(lista)** - Quantidade de itens da lista.\n",
        "*   **enumerate(lista)** - Posição e item.\n",
        "*   **Lista1 = Lista2** - As listas ficarão iguais e linkadas (tudo que você fizer em uma também será feito na outra).\n",
        "*   **Lista1 = Lista2[:]** - Os itens da Lista2 seram copiados para a Lista1.\n",
        "\n"
      ]
    },
    {
      "cell_type": "code",
      "execution_count": null,
      "metadata": {
        "colab": {
          "base_uri": "https://localhost:8080/"
        },
        "id": "tOWzqsHhehAy",
        "outputId": "4d89a029-ec63-4f05-fc8c-cef329db1eb8"
      },
      "outputs": [
        {
          "name": "stdout",
          "output_type": "stream",
          "text": [
            "Posição 0: 4\n",
            "Posição 1: 7\n",
            "Posição 2: 9\n",
            "Posição 3: 1\n",
            "Posição 4: 3\n",
            "Posição 5: 5\n"
          ]
        }
      ],
      "source": [
        "lista = [4,7,9,1,3,5]\n",
        "for p, i in enumerate(lista):\n",
        "  print(f'Posição {p}: {i}')"
      ]
    },
    {
      "cell_type": "code",
      "execution_count": null,
      "metadata": {
        "colab": {
          "base_uri": "https://localhost:8080/"
        },
        "id": "83kY6rDsNOh1",
        "outputId": "b16ee224-7d7f-4ad6-bdca-e836c1dbd67d"
      },
      "outputs": [
        {
          "name": "stdout",
          "output_type": "stream",
          "text": [
            "Digite o 1º valor: 1\n",
            "Digite o 2º valor: 2\n",
            "Digite o 3º valor: 3\n",
            "Digite o 4º valor: 4\n",
            "Digite o 5º valor: 5\n"
          ]
        }
      ],
      "source": [
        "lista = []\n",
        "for c in range(0,5):\n",
        "  lista.append(int(input(f'Digite o {c+1}º valor: ')))"
      ]
    },
    {
      "cell_type": "code",
      "execution_count": null,
      "metadata": {
        "colab": {
          "base_uri": "https://localhost:8080/"
        },
        "id": "V5-3ABk5N9Xp",
        "outputId": "c4b2fedf-6855-4655-bdb9-781988cd616c"
      },
      "outputs": [
        {
          "name": "stdout",
          "output_type": "stream",
          "text": [
            "Digite quantos valores você deseja adicionar a lista: 5\n",
            "Digite o 1ª valor: 3\n",
            "Digite o 2ª valor: 5\n",
            "Digite o 3ª valor: 7\n",
            "Digite o 4ª valor: 9\n",
            "Digite o 5ª valor: 1\n",
            "[3, 5, 7, 9, 1]\n"
          ]
        }
      ],
      "source": [
        "lista = []\n",
        "n = int(input('Digite quantos valores você deseja adicionar a lista: '))\n",
        "for c in range(0,n):\n",
        "  lista.append(int(input(f'Digite o {c+1}º valor: ')))\n",
        "print(lista)"
      ]
    },
    {
      "cell_type": "code",
      "execution_count": null,
      "metadata": {
        "colab": {
          "base_uri": "https://localhost:8080/"
        },
        "id": "ec37aLvMRfDC",
        "outputId": "7770e4c7-12e9-4ba6-d5eb-f06dc6a2a62e"
      },
      "outputs": [
        {
          "name": "stdout",
          "output_type": "stream",
          "text": [
            "Digite 5 numeros inteiros: \n",
            "7\n",
            "9\n",
            "3\n",
            "5\n",
            "2\n",
            "[7, 9, 3, 5, 2]\n",
            "O maior termo da lista é o 9 e está na 2ª posição.\n",
            "O menor termo da lista é o 2 e está na 5ª posição.\n"
          ]
        }
      ],
      "source": [
        "# DESAFIO 78 - Maior e Menor valores da lista\n",
        "\n",
        "lista = []\n",
        "print('Digite 5 numeros inteiros: ')\n",
        "for c in range(0,5):\n",
        "  lista.append(int(input()))\n",
        "print(lista)\n",
        "\n",
        "maior = lista[0]\n",
        "for c in range(0,5):\n",
        "  if lista[c] > maior:\n",
        "    maior = lista[c]\n",
        "    posmaior = c\n",
        "\n",
        "menor = lista[0]\n",
        "for c in range(0,5):\n",
        "  if lista[c] < menor:\n",
        "    menor = lista[c]\n",
        "    posmenor = c\n",
        "\n",
        "print(f\"O maior termo da lista é o {maior} e está na {posmaior+1}ª posição.\")\n",
        "print(f\"O menor termo da lista é o {menor} e está na {posmenor+1}ª posição.\")"
      ]
    },
    {
      "cell_type": "code",
      "execution_count": null,
      "metadata": {
        "colab": {
          "base_uri": "https://localhost:8080/"
        },
        "id": "DJ4jB7xWaaLI",
        "outputId": "067a4357-2ba8-4745-8212-f3f76821dcfa"
      },
      "outputs": [
        {
          "name": "stdout",
          "output_type": "stream",
          "text": [
            "Digite 5 numeros inteiros: \n",
            "1\n",
            "3\n",
            "1\n",
            "7\n",
            "7\n",
            "[1, 3, 1, 7, 7]\n",
            "O maior termo da lista é o 7 e está na(s) posição(ões): 4ª, 5ª.\n",
            "O menor termo da lista é o 1 e está na(s) posição(ões): 1ª, 3ª.\n"
          ]
        }
      ],
      "source": [
        "# DESAFIO 78 - Outra forma de fazer (mais sofisticada)\n",
        "\n",
        "lista = []\n",
        "print('Digite 5 numeros inteiros: ')\n",
        "\n",
        "for c in range(0,5):\n",
        "  lista.append(int(input()))\n",
        "print(lista)\n",
        "\n",
        "maior = menor = lista[0]\n",
        "for c in range(1,5):\n",
        "  if lista[c] > maior:\n",
        "    maior = lista[c]\n",
        "  if lista[c] < menor:\n",
        "    menor = lista[c]\n",
        "\n",
        "c=0\n",
        "print(f\"O maior termo da lista é o {maior} e está na(s) posição(ões): \", end='')\n",
        "for p, i in enumerate(lista):\n",
        "  if i == maior:\n",
        "    c += 1\n",
        "    if c > 1:\n",
        "      print(end=', ')\n",
        "    print(f'{p+1}ª',end='')\n",
        "print('.')\n",
        "\n",
        "c=0\n",
        "print(f\"O menor termo da lista é o {menor} e está na(s) posição(ões): \", end='')\n",
        "for p, i in enumerate(lista):\n",
        "  if i == menor:\n",
        "    c += 1\n",
        "    if c > 1:\n",
        "      print(end=', ')\n",
        "    print(f'{p+1}ª',end='')\n",
        "print('.')"
      ]
    },
    {
      "cell_type": "code",
      "execution_count": null,
      "metadata": {
        "colab": {
          "base_uri": "https://localhost:8080/"
        },
        "id": "xiNjX2YAnQzd",
        "outputId": "325e1d05-34e5-4214-d4c0-c8667ba5cbb4"
      },
      "outputs": [
        {
          "output_type": "stream",
          "name": "stdout",
          "text": [
            "Quantos valores numéricos você deseja adicionar a lista? 5\n",
            "Digite os valores: \n",
            "7\n",
            "9\n",
            "3\n",
            "5\n",
            "5\n",
            "Você já digitou essa valor, digite outro: 1\n",
            "-=-=-=-=-=-=-=-=-=-=-=-=-=-=-=-=-=-=-=-=-=-=-=-=-=-=-=-=-=-=\n",
            "Você digitou os seguintes valores: [7, 9, 3, 5, 1]\n",
            "Ordenando em forma crescente, temos: [1, 3, 5, 7, 9]\n"
          ]
        }
      ],
      "source": [
        "# DESAFIO 79 - Valores únicos em uma lista\n",
        "\n",
        "lista = []\n",
        "n = int(input('Quantos valores numéricos você deseja adicionar a lista? '))\n",
        "print('Digite os valores: ')\n",
        "for c in range(0,n):\n",
        "  valor = int(input())\n",
        "  while valor in lista:\n",
        "    valor = int(input('Você já digitou essa valor, digite outro: ' ))\n",
        "  if valor not in lista:\n",
        "    lista.append(valor)\n",
        "print('-='*30)\n",
        "print(f\"Você digitou os seguintes valores: {lista}\")\n",
        "lista.sort()\n",
        "print(f\"Ordenando em forma crescente, temos: {lista}\")"
      ]
    },
    {
      "cell_type": "code",
      "source": [
        "# DESAFIO 80 - Inserindo os valores de forma ordenada na lista\n",
        "\n",
        "lista = []\n",
        "print('Digite 5 numeros inteiros: ')\n",
        "\n",
        "for c in range(0,5):\n",
        "  n = int(input())\n",
        "  if c == 0 or n > lista[-1]:\n",
        "    lista.append(n)\n",
        "  else:\n",
        "    for p in range(0,len(lista)):\n",
        "      if n < lista[p]:\n",
        "        lista.insert(p,n)\n",
        "        break\n",
        "print('-='*22)\n",
        "print(f'Valores em ordem crescente: {lista}')"
      ],
      "metadata": {
        "colab": {
          "base_uri": "https://localhost:8080/"
        },
        "id": "UBrrvELUYGGf",
        "outputId": "22634e0f-1e91-4d5f-fc31-5c16adf0c03b"
      },
      "execution_count": null,
      "outputs": [
        {
          "output_type": "stream",
          "name": "stdout",
          "text": [
            "Digite 5 numeros inteiros: \n",
            "5\n",
            "7\n",
            "3\n",
            "9\n",
            "1\n",
            "-=-=-=-=-=-=-=-=-=-=-=-=-=-=-=-=-=-=-=-=-=-=\n",
            "Valores em ordem crescente: [1, 3, 5, 7, 9]\n"
          ]
        }
      ]
    },
    {
      "cell_type": "code",
      "source": [
        "# DESAFIO 80 - Outra forma de fazer\n",
        "import bisect\n",
        "\n",
        "numeros = []\n",
        "for c in range(5):\n",
        "    n = int(input('Digite um número: '))\n",
        "    bisect.insort(numeros, n)\n",
        "    print(f'O número {n} foi colocado na posição {numeros.index(n)}')\n",
        "print(f'Numeros digitados: {numeros}')"
      ],
      "metadata": {
        "colab": {
          "base_uri": "https://localhost:8080/"
        },
        "id": "pWO62ifAhcft",
        "outputId": "6c389499-8ee0-474a-95a4-6e00bdd6670c"
      },
      "execution_count": null,
      "outputs": [
        {
          "output_type": "stream",
          "name": "stdout",
          "text": [
            "Digite um número: 9\n",
            "O número 9 foi colocado na posição 0\n",
            "Digite um número: 12\n",
            "O número 12 foi colocado na posição 1\n",
            "Digite um número: 3\n",
            "O número 3 foi colocado na posição 0\n",
            "Digite um número: 5\n",
            "O número 5 foi colocado na posição 1\n",
            "Digite um número: 7\n",
            "O número 7 foi colocado na posição 2\n",
            "Numeros digitados: [3, 5, 7, 9, 12]\n"
          ]
        }
      ]
    },
    {
      "cell_type": "code",
      "source": [
        "# DESAFIO 81 - Extraindo dados de uma lista\n",
        "\n",
        "lista = []\n",
        "opcao = 'S'\n",
        "c = 1\n",
        "while opcao in 'Ss':\n",
        "  lista.append(int(input(f'Digite o {c}º termo: ')))\n",
        "  opcao = input('Você quer adicionar outro (S/N)? ')\n",
        "  c += 1\n",
        "print('-='*25)\n",
        "print(f'Você adcionou {len(lista)} termos.')\n",
        "lista.sort(reverse=True)\n",
        "print(f'Em ordem descrescente: {lista}')\n",
        "if 5 in lista:\n",
        "  print('O numero 5 foi digitado.')\n",
        "else:\n",
        "  print('O numero 5 não foi digitado.')\n"
      ],
      "metadata": {
        "colab": {
          "base_uri": "https://localhost:8080/"
        },
        "id": "xmB5PgD0BTuH",
        "outputId": "d4bf828c-ffdf-4ba1-eac2-94b3f2cfa999"
      },
      "execution_count": null,
      "outputs": [
        {
          "output_type": "stream",
          "name": "stdout",
          "text": [
            "Digite o 1º termo: 2\n",
            "Você quer adicionar outro (S/N)? s\n",
            "Digite o 2º termo: 4\n",
            "Você quer adicionar outro (S/N)? s\n",
            "Digite o 3º termo: 8\n",
            "Você quer adicionar outro (S/N)? n\n",
            "-=-=-=-=-=-=-=-=-=-=-=-=-=-=-=-=-=-=-=-=-=-=-=-=-=\n",
            "Você adcionou 3 termos.\n",
            "Em ordem descrescente: [8, 4, 2]\n",
            "O numero 5 não foi digitado.\n"
          ]
        }
      ]
    },
    {
      "cell_type": "code",
      "source": [
        "# DESAFIO 82 - Dividindo valores das listas\n",
        "lista, par, impar = [], [], []\n",
        "opcao = 'S'\n",
        "c = 0\n",
        "while opcao in 'Ss':\n",
        "  lista.append(int(input(f'Digite o {c+1}º termo: ')))\n",
        "  if lista[c] % 2 == 0:\n",
        "    par.append(lista[c])\n",
        "  else:\n",
        "    impar.append(lista[c])\n",
        "  opcao = input('Você quer adicionar outro (S/N)? ')\n",
        "  c += 1\n",
        "\n",
        "print(f'Você digitou os seguintes números: {lista}')\n",
        "print(f'Numeros pares: {par}')\n",
        "print(f'Numeros impares: {impar}')"
      ],
      "metadata": {
        "colab": {
          "base_uri": "https://localhost:8080/"
        },
        "id": "gi-xMZRqTqHN",
        "outputId": "b8ee4624-6687-4f57-847e-426b541bda21"
      },
      "execution_count": null,
      "outputs": [
        {
          "output_type": "stream",
          "name": "stdout",
          "text": [
            "Digite o 1º termo: 1\n",
            "Você quer adicionar outro (S/N)? s\n",
            "Digite o 2º termo: 7\n",
            "Você quer adicionar outro (S/N)? s\n",
            "Digite o 3º termo: 4\n",
            "Você quer adicionar outro (S/N)? s\n",
            "Digite o 4º termo: 2\n",
            "Você quer adicionar outro (S/N)? 3\n",
            "Você digitou os seguintes números: [1, 7, 4, 2]\n",
            "Numeros pares: [4, 2]\n",
            "Numeros impares: [1, 7]\n"
          ]
        }
      ]
    },
    {
      "cell_type": "code",
      "source": [
        "# DESAFIO 83 - Validando expressões matemáticas (uso do parêntese)\n",
        "\n",
        "expres = input('Digite a expressão matemática: ')\n",
        "pilha = []\n",
        "\n",
        "for simb in expres:\n",
        "  if simb == '(':\n",
        "    pilha.append('(')\n",
        "  elif simb == ')':\n",
        "    if len(pilha) > 0:\n",
        "      pilha.pop()\n",
        "    else:\n",
        "      pilha.append(')')\n",
        "      break\n",
        "print('-='*20)\n",
        "if len(pilha) == 0:\n",
        "  print('Sua expressão está correta!')\n",
        "else:\n",
        "  print('Sua expressão está incorreta.')\n"
      ],
      "metadata": {
        "colab": {
          "base_uri": "https://localhost:8080/"
        },
        "id": "vgwU94JlW47s",
        "outputId": "f41dcf6b-7513-4a10-b88e-887a3f8d0c0b"
      },
      "execution_count": null,
      "outputs": [
        {
          "output_type": "stream",
          "name": "stdout",
          "text": [
            "Digite a expressão matemática: (a+b) = c\n",
            "-=-=-=-=-=-=-=-=-=-=-=-=-=-=-=-=-=-=-=-=\n",
            "Sua expressão está correta!\n"
          ]
        }
      ]
    },
    {
      "cell_type": "markdown",
      "source": [
        "# Matrizes com Listas\n",
        "```\n",
        "Lista = [[A1,A2...An],[B1,B2...Bn],...,[Z1,Z2...Zn]]\n",
        "```"
      ],
      "metadata": {
        "id": "DhVFfqZ9Ji1V"
      }
    },
    {
      "cell_type": "code",
      "source": [
        "pessoas = [['Pedro',29],['Lucas',19],['Henrique',23]]\n",
        "\n",
        "print(pessoas[1][0])\n",
        "print(pessoas[2][1])\n",
        "print(pessoas[0])"
      ],
      "metadata": {
        "colab": {
          "base_uri": "https://localhost:8080/"
        },
        "id": "DCIarOjxJh9N",
        "outputId": "cf33dc46-da21-48c0-c9a1-39ab28c252ec"
      },
      "execution_count": null,
      "outputs": [
        {
          "output_type": "stream",
          "name": "stdout",
          "text": [
            "Lucas\n",
            "23\n",
            "['Pedro', 29]\n"
          ]
        }
      ]
    },
    {
      "cell_type": "code",
      "source": [
        "lista = []\n",
        "\n",
        "pessoa = ['Gustavo',40]\n",
        "lista.append(pessoa[:])\n",
        "\n",
        "pessoa = ['Maria',32]\n",
        "lista.append(pessoa[:])\n",
        "\n",
        "print(lista)"
      ],
      "metadata": {
        "colab": {
          "base_uri": "https://localhost:8080/"
        },
        "id": "PDx84WjUOXAr",
        "outputId": "1c741cac-9bdd-436f-c096-676e03d0a255"
      },
      "execution_count": null,
      "outputs": [
        {
          "output_type": "stream",
          "name": "stdout",
          "text": [
            "[['Gustavo', 40], ['Maria', 32]]\n"
          ]
        }
      ]
    },
    {
      "cell_type": "code",
      "source": [
        "galera = [['João',36],['Maria',42],['Sérgio',32],['Malaquias',47]]\n",
        "\n",
        "for p in galera:\n",
        "  print(p)\n",
        "print('-='*15)\n",
        "for p in galera:\n",
        "  print(f'{p[0]} tem {p[1]} anos.')\n",
        "print('-='*15)"
      ],
      "metadata": {
        "colab": {
          "base_uri": "https://localhost:8080/"
        },
        "id": "INdYQoLfYGP0",
        "outputId": "d395e7fe-e77a-4415-dd6c-4dea6bbf37a3"
      },
      "execution_count": null,
      "outputs": [
        {
          "output_type": "stream",
          "name": "stdout",
          "text": [
            "['João', 36]\n",
            "['Maria', 42]\n",
            "['Sérgio', 32]\n",
            "['Malaquias', 47]\n",
            "-=-=-=-=-=-=-=-=-=-=-=-=-=-=-=\n",
            "João tem 36 anos.\n",
            "Maria tem 42 anos.\n",
            "Sérgio tem 32 anos.\n",
            "Malaquias tem 47 anos.\n",
            "-=-=-=-=-=-=-=-=-=-=-=-=-=-=-=\n"
          ]
        }
      ]
    },
    {
      "cell_type": "code",
      "source": [
        "# DESAFIO 84 - Mais pesados e mais leves\n",
        "\n",
        "pessoas, pesos = [], []\n",
        "opcao = 's'\n",
        "\n",
        "print('CADASTRO DE CLIENTES')\n",
        "print('-='*15)\n",
        "while opcao in 'sS':\n",
        "  nome = (input('Nome: '))\n",
        "  peso = (float(input('Peso: ')))\n",
        "  pessoas.append([nome,peso])\n",
        "  pesos.append(peso)\n",
        "  opcao = input('Deseja continuar (S/N)? ')\n",
        "pesos.sort()\n",
        "\n",
        "leves, pesados = [], []\n",
        "for p in pessoas:\n",
        "  if p[1] == pesos[0]:\n",
        "    leves.insert(0,p)\n",
        "  if p[1] == pesos[1]:\n",
        "    leves.insert(1,p)\n",
        "  if p[1] == pesos[-1]:\n",
        "    pesados.insert(0,p)\n",
        "  if p[1] == pesos[-2]:\n",
        "    pesados.insert(1,p)\n",
        "\n",
        "print('-='*15)\n",
        "print(f'Você cadastrou {len(pessoas)} pessoas.')\n",
        "print(f'{leves[0][0]} ({leves[0][1]} Kg) e {leves[1][0]} ({leves[1][1]} Kg) são as mais leves.')\n",
        "print(f'{pesados[0][0]} ({pesados[0][1]} Kg) e {pesados[1][0]} ({pesados[1][1]} Kg) são os mais pesados.')"
      ],
      "metadata": {
        "colab": {
          "base_uri": "https://localhost:8080/"
        },
        "id": "uEpLUOH4hRVV",
        "outputId": "54cb7569-856b-43ba-fbb4-77e2a79b2913"
      },
      "execution_count": null,
      "outputs": [
        {
          "output_type": "stream",
          "name": "stdout",
          "text": [
            "CADASTRO DE CLIENTES\n",
            "-=-=-=-=-=-=-=-=-=-=-=-=-=-=-=\n",
            "Nome: Maria\n",
            "Peso: 56\n",
            "Deseja continuar (S/N)? s\n",
            "Nome: Joana\n",
            "Peso: 62\n",
            "Deseja continuar (S/N)? s\n",
            "Nome: Thiago\n",
            "Peso: 82\n",
            "Deseja continuar (S/N)? s\n",
            "Nome: Pedro\n",
            "Peso: 97\n",
            "Deseja continuar (S/N)? s\n",
            "Nome: Marcus\n",
            "Peso: 70\n",
            "Deseja continuar (S/N)? n\n",
            "-=-=-=-=-=-=-=-=-=-=-=-=-=-=-=\n",
            "Você cadastrou 5 pessoas.\n",
            "Maria (56.0 Kg) e Joana (62.0 Kg) são as mais leves.\n",
            "Pedro (97.0 Kg) e Thiago (82.0 Kg) são os mais pesados.\n"
          ]
        }
      ]
    },
    {
      "cell_type": "code",
      "source": [
        "# DESAFIO 85 - Pares e Impares em uma matriz\n",
        "\n",
        "numeros = [[],[]]\n",
        "\n",
        "print('Digite 7 números inteiros:')\n",
        "for c in range(0,7):\n",
        "  n = int(input())\n",
        "  if n % 2 == 0:\n",
        "    numeros[0].append(n)\n",
        "  else:\n",
        "    numeros[1].append(n)\n",
        "numeros[0].sort()\n",
        "numeros[1].sort()\n",
        "\n",
        "print('Números pares: ',numeros[0])\n",
        "print('Números impares: ',numeros[1])"
      ],
      "metadata": {
        "colab": {
          "base_uri": "https://localhost:8080/"
        },
        "id": "HYVyxHq-0Au5",
        "outputId": "e0719204-fb89-437c-c0c6-28da67369683"
      },
      "execution_count": null,
      "outputs": [
        {
          "output_type": "stream",
          "name": "stdout",
          "text": [
            "Digite 7 números inteiros:\n",
            "7\n",
            "5\n",
            "3\n",
            "1\n",
            "4\n",
            "8\n",
            "6\n",
            "Números pares:  [4, 6, 8]\n",
            "Números impares:  [1, 3, 5, 7]\n"
          ]
        }
      ]
    },
    {
      "cell_type": "code",
      "source": [
        "# DESAFIO 86 - Matriz 3x3\n",
        "\n",
        "matriz = [[0,0,0],[0,0,0],[0,0,0]]\n",
        "print('Digite os termos da matriz:')\n",
        "for i in range(0,3):\n",
        "  for j in range(0,3):\n",
        "    matriz[i][j] = int(input(f'[{i},{j}]: '))\n",
        "print('-='*10)\n",
        "for i in range(0,3):\n",
        "  for j in range(0,3):\n",
        "    print(f'({matriz[i][j]:^5})',end='')\n",
        "  print()"
      ],
      "metadata": {
        "colab": {
          "base_uri": "https://localhost:8080/"
        },
        "id": "H5-NyFnz4nHX",
        "outputId": "4cbc0b0b-9694-45a8-902c-0725398a8dfa"
      },
      "execution_count": null,
      "outputs": [
        {
          "output_type": "stream",
          "name": "stdout",
          "text": [
            "Digite os termos da matriz:\n",
            "[0,0]: 1\n",
            "[0,1]: 2\n",
            "[0,2]: 3\n",
            "[1,0]: 4\n",
            "[1,1]: 5\n",
            "[1,2]: 6\n",
            "[2,0]: 7\n",
            "[2,1]: 8\n",
            "[2,2]: 9\n",
            "-=-=-=-=-=-=-=-=-=-=\n",
            "(  1  )(  2  )(  3  )\n",
            "(  4  )(  5  )(  6  )\n",
            "(  7  )(  8  )(  9  )\n"
          ]
        }
      ]
    },
    {
      "cell_type": "code",
      "source": [
        "# DESAFIO 87 - Análise de dados de matrizes\n",
        "\n",
        "matriz = [[0,0,0],[0,0,0],[0,0,0]]\n",
        "pares = coluna = maior = 0\n",
        "\n",
        "print('Digite os termos da matriz:')\n",
        "for l in range(0,3):\n",
        "  for c in range(0,3):\n",
        "    matriz[l][c] = int(input(f'[{l},{c}]: '))\n",
        "    if matriz[l][c] % 2 == 0:\n",
        "      pares += matriz[l][c]\n",
        "    if c == 2:\n",
        "      coluna += matriz[l][c]\n",
        "    if l == 1:\n",
        "      if c == 0:\n",
        "        maior = matriz[l][c]\n",
        "      else:\n",
        "        if matriz[l][c] > maior:\n",
        "          maior = matriz[l][c]\n",
        "\n",
        "print('-='*10)\n",
        "for l in range(0,3):\n",
        "  for c in range(0,3):\n",
        "    print(f'({matriz[l][c]:^5})',end='')\n",
        "  print()\n",
        "print('-='*10)\n",
        "\n",
        "print(f'A soma dos valores pares é {pares}.')\n",
        "print(f'A soma dos valores da terceira coluna é {coluna}.')\n",
        "print(f'O maior valor da segunda linha é {maior}.')"
      ],
      "metadata": {
        "id": "9tbvq5EIGd-j",
        "colab": {
          "base_uri": "https://localhost:8080/"
        },
        "outputId": "02e6c2cd-9253-479e-a882-534110cf2c4c"
      },
      "execution_count": null,
      "outputs": [
        {
          "output_type": "stream",
          "name": "stdout",
          "text": [
            "Digite os termos da matriz:\n",
            "[0,0]: 1\n",
            "[0,1]: 2\n",
            "[0,2]: 3\n",
            "[1,0]: 4\n",
            "[1,1]: 5\n",
            "[1,2]: 6\n",
            "[2,0]: 7\n",
            "[2,1]: 8\n",
            "[2,2]: 9\n",
            "-=-=-=-=-=-=-=-=-=-=\n",
            "(  1  )(  2  )(  3  )\n",
            "(  4  )(  5  )(  6  )\n",
            "(  7  )(  8  )(  9  )\n",
            "-=-=-=-=-=-=-=-=-=-=\n",
            "A soma dos valores pares é 20.\n",
            "A soma dos valores da terceira coluna é 18.\n",
            "O maior valor da segunda linha é 6.\n"
          ]
        }
      ]
    },
    {
      "cell_type": "code",
      "source": [
        "# DESAFIO 88 - Jogos da Mega Sena\n",
        "\n",
        "import random, time\n",
        "jogos = []\n",
        "\n",
        "print('-'*35)\n",
        "print('         JOGO DA MEGA SENA')\n",
        "print('-'*35)\n",
        "n = int(input('Quantos jogos você deseja sortear? '))\n",
        "\n",
        "print()\n",
        "print(f'=-=-=-=< SORTEANDO {n} JOGOS >=-=-=-=')\n",
        "for l in range(0,n):\n",
        "  for c in range(0,6):\n",
        "    num = random.randint(0,61)\n",
        "    while num in jogos:\n",
        "      num = random.randint(0,61)\n",
        "    if num not in jogos:\n",
        "      jogos.append(num)\n",
        "  print(f'Jogo {l+1}: ',jogos)\n",
        "  jogos.clear()\n",
        "  time.sleep(1)\n",
        "print(f'=-=-=-=-=<   BOA SORTE!   >=-=-=-=-=')"
      ],
      "metadata": {
        "colab": {
          "base_uri": "https://localhost:8080/"
        },
        "id": "7FqguwF1ufha",
        "outputId": "527067b1-9813-4bb8-dc9c-5fc6249a27dc"
      },
      "execution_count": null,
      "outputs": [
        {
          "output_type": "stream",
          "name": "stdout",
          "text": [
            "-----------------------------------\n",
            "         JOGO DA MEGA SENA\n",
            "-----------------------------------\n",
            "Quantos jogos você deseja sortear? 5\n",
            "\n",
            "=-=-=-=< SORTEANDO 5 JOGOS >=-=-=-=\n",
            "Jogo 1:  [3, 38, 18, 57, 61, 33]\n",
            "Jogo 2:  [27, 9, 34, 54, 40, 59]\n",
            "Jogo 3:  [18, 12, 8, 52, 58, 40]\n",
            "Jogo 4:  [13, 26, 25, 32, 4, 29]\n",
            "Jogo 5:  [38, 48, 15, 54, 55, 41]\n",
            "=-=-=-=-=<   BOA SORTE!   >=-=-=-=-=\n"
          ]
        }
      ]
    },
    {
      "cell_type": "code",
      "source": [
        "# DESAFIO 89 - Boletim de Alunos\n",
        "\n",
        "boletim, aluno = [], []\n",
        "opcao = 's'\n",
        "\n",
        "print('Cadastro do aluno:')\n",
        "while opcao in 'sS':\n",
        "  aluno.append(input('Nome: '))\n",
        "  aluno.append(float(input('Nota 1: ')))\n",
        "  aluno.append(float(input('Nota 2: ')))\n",
        "  aluno.append((aluno[1] + aluno[2])/2)\n",
        "  boletim.append(aluno[:])\n",
        "  aluno.clear()\n",
        "  opcao = input('Deseja adicionar outro (S/N)? ')\n",
        "\n",
        "print()\n",
        "print('-'*30)\n",
        "print(f'{\" Nº\":<4} {\" NOME\":<15} {\" MÉDIA\":^5}')\n",
        "print('-'*30)\n",
        "for c in range(0,len(boletim)):\n",
        "  print(f' {(c+1):<4} {boletim[c][0]:<15} {boletim[c][3]:^5}')\n",
        "print('-'*30)\n",
        "\n",
        "opcao = 'S'\n",
        "while opcao in 'Ss':\n",
        "  n = int(input('Deseja ver as notas de qual aluno (Nº)? '))\n",
        "  print(f'Notas de {boletim[n-1][0]}: {boletim[n-1][1]} e {boletim[n-1][2]}.')\n",
        "  print('-='*25)\n",
        "  opcao = input('Deseja ver as notas de outro aluno (S/N)? ')"
      ],
      "metadata": {
        "colab": {
          "base_uri": "https://localhost:8080/"
        },
        "id": "xpf5VwVt3qpq",
        "outputId": "03ee4ef4-0ac0-4c55-d423-a20126fe6101"
      },
      "execution_count": null,
      "outputs": [
        {
          "name": "stdout",
          "output_type": "stream",
          "text": [
            "Cadastro do aluno:\n",
            "Nome: Thiago\n",
            "Nota 1: 8\n",
            "Nota 2: 7\n",
            "Deseja adicionar outro (S/N)? s\n",
            "Nome: Pedro\n",
            "Nota 1: 9\n",
            "Nota 2: 8\n",
            "Deseja adicionar outro (S/N)? s\n",
            "Nome: João\n",
            "Nota 1: 7\n",
            "Nota 2: 6\n",
            "Deseja adicionar outro (S/N)? n\n",
            "\n",
            "------------------------------\n",
            " Nº   NOME            MÉDIA\n",
            "------------------------------\n",
            " 1    Thiago           7.5 \n",
            " 2    Pedro            8.5 \n",
            " 3    João             6.5 \n",
            "------------------------------\n",
            "Deseja ver as notas de qual aluno (Nº)? 1\n",
            "Notas de Thiago: 8.0 e 7.0.\n",
            "-=-=-=-=-=-=-=-=-=-=-=-=-=-=-=-=-=-=-=-=-=-=-=-=-=\n",
            "Deseja ver as notas de outro aluno (S/N)? s\n",
            "Deseja ver as notas de qual aluno (Nº)? 2\n",
            "Notas de Pedro: 9.0 e 8.0.\n",
            "-=-=-=-=-=-=-=-=-=-=-=-=-=-=-=-=-=-=-=-=-=-=-=-=-=\n",
            "Deseja ver as notas de outro aluno (S/N)? s\n",
            "Deseja ver as notas de qual aluno (Nº)? 3\n",
            "Notas de João: 7.0 e 6.0.\n",
            "-=-=-=-=-=-=-=-=-=-=-=-=-=-=-=-=-=-=-=-=-=-=-=-=-=\n",
            "Deseja ver as notas de outro aluno (S/N)? n\n"
          ]
        }
      ]
    }
  ],
  "metadata": {
    "colab": {
      "provenance": [],
      "include_colab_link": true
    },
    "kernelspec": {
      "display_name": "Python 3",
      "name": "python3"
    },
    "language_info": {
      "name": "python"
    }
  },
  "nbformat": 4,
  "nbformat_minor": 0
}