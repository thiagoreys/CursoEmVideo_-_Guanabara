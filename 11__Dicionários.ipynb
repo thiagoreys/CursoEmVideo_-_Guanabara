{
  "nbformat": 4,
  "nbformat_minor": 0,
  "metadata": {
    "colab": {
      "provenance": [],
      "include_colab_link": true
    },
    "kernelspec": {
      "name": "python3",
      "display_name": "Python 3"
    },
    "language_info": {
      "name": "python"
    }
  },
  "cells": [
    {
      "cell_type": "markdown",
      "metadata": {
        "id": "view-in-github",
        "colab_type": "text"
      },
      "source": [
        "<a href=\"https://colab.research.google.com/github/thiagoreys123/Curso_Python_Guanabara/blob/main/11_Dicion%C3%A1rios.ipynb\" target=\"_parent\"><img src=\"https://colab.research.google.com/assets/colab-badge.svg\" alt=\"Open In Colab\"/></a>"
      ]
    },
    {
      "cell_type": "markdown",
      "source": [
        "# Dicionários { }\n",
        "\n",
        "```\n",
        "dados = {'nome':'Pedro', 'idade': 25}\n",
        "dados['nome'] = Pedro\n",
        "dados['idade'] = 25\n",
        "```\n",
        "\n",
        "* **del dados['idade']** - Remove o item ( 'idade' : 25).\n",
        "* **dados.clear( )** - Apaga todos os itens do dicionário.\n",
        "* **dados.values( )** - Valores do dicionário (Pedro, 25).\n",
        "* **dados.keys( )** - Chaves do dicionário (nome, idade).\n",
        "* **dados.items( )** - Itens do dicionário ( 'nome' : 'Pedro' , 'idade' : 25)\n",
        "* **dados.copy( )** - Copiar os dados do dicionário.\n",
        "* **dados1 = dados2** - Vincular os dicionários."
      ],
      "metadata": {
        "id": "_TGEZUpXhHHj"
      }
    },
    {
      "cell_type": "code",
      "execution_count": null,
      "metadata": {
        "id": "ZlgHcPHTf3Ac",
        "colab": {
          "base_uri": "https://localhost:8080/"
        },
        "outputId": "b46835b7-c64a-4ffd-957a-ba7e70f1a0ea"
      },
      "outputs": [
        {
          "output_type": "stream",
          "name": "stdout",
          "text": [
            "O titulo é Star Wars.\n",
            "O ano é 1977.\n",
            "O diretor é George Lucas.\n"
          ]
        }
      ],
      "source": [
        "filme = {'titulo':'Star Wars', 'ano':1977, 'diretor':'George Lucas'}\n",
        "\n",
        "for k, v in filme.items():\n",
        "  print(f'O {k} é {v}.')"
      ]
    },
    {
      "cell_type": "code",
      "source": [
        "# Lista de dicionários\n",
        "filmes = [{'titulo':'Star Wars', 'ano': 1977, 'diretor':'George Lucas'},\n",
        "          {'titulo':'Avangers', 'ano': 2012, 'diretor':'Joss Whendon'},\n",
        "          {'titulo':'Matrix', 'ano': 1999, 'diretor':'Wachowski'}]\n",
        "\n",
        "for k, v in enumerate(filmes):\n",
        "  print(f'Em {k} temos: {v}.')"
      ],
      "metadata": {
        "colab": {
          "base_uri": "https://localhost:8080/"
        },
        "id": "SfPONuAdkkSt",
        "outputId": "42fbc457-7ddf-4d39-a526-f6390ec9ae95"
      },
      "execution_count": null,
      "outputs": [
        {
          "output_type": "stream",
          "name": "stdout",
          "text": [
            "Em 0 temos: {'titulo': 'Star Wars', 'ano': 1977, 'diretor': 'George Lucas'}.\n",
            "Em 1 temos: {'titulo': 'Avangers', 'ano': 2012, 'diretor': 'Joss Whendon'}.\n",
            "Em 2 temos: {'titulo': 'Matrix', 'ano': 1999, 'diretor': 'Wachowski'}.\n"
          ]
        }
      ]
    },
    {
      "cell_type": "code",
      "source": [
        "filmes = [{'Filme':'Star Wars', 'Ano': 1977, 'Diretor':'George Lucas'},\n",
        "          {'Filme':'Avangers', 'Ano': 2012, 'Diretor':'Joss Whendon'},\n",
        "          {'Filme':'Matrix', 'Ano': 1999, 'Diretor':'Wachowski'}]\n",
        "\n",
        "for i in filmes:\n",
        "  for k, v in i.items():\n",
        "    print(f'{k}: {v}')\n",
        "  print('=-='*10)"
      ],
      "metadata": {
        "colab": {
          "base_uri": "https://localhost:8080/"
        },
        "id": "dyze4Pr5qQ5v",
        "outputId": "2031c533-5834-440d-81e3-517c5188d19d"
      },
      "execution_count": null,
      "outputs": [
        {
          "output_type": "stream",
          "name": "stdout",
          "text": [
            "Filme: Star Wars\n",
            "Ano: 1977\n",
            "Diretor: George Lucas\n",
            "=-==-==-==-==-==-==-==-==-==-=\n",
            "Filme: Avangers\n",
            "Ano: 2012\n",
            "Diretor: Joss Whendon\n",
            "=-==-==-==-==-==-==-==-==-==-=\n",
            "Filme: Matrix\n",
            "Ano: 1999\n",
            "Diretor: Wachowski\n",
            "=-==-==-==-==-==-==-==-==-==-=\n"
          ]
        }
      ]
    },
    {
      "cell_type": "code",
      "source": [
        "# DESAFIO 90 - Situação do Aluno\n",
        "\n",
        "aluno = {}\n",
        "aluno['Nome'] = input('Nome: ')\n",
        "aluno['Média'] = float(input('Média: '))\n",
        "\n",
        "if aluno['Média'] >= 7:\n",
        "  aluno['Situação'] = 'aprovado'\n",
        "else:\n",
        "  aluno['Situação'] = 'reprovado'\n",
        "\n",
        "print(f'{aluno[\"Nome\"]} está {aluno[\"Situação\"]}.')"
      ],
      "metadata": {
        "colab": {
          "base_uri": "https://localhost:8080/"
        },
        "id": "v-OGBAph07Jo",
        "outputId": "b9e58c2f-85d5-4ca1-a65e-3c5f11010d24"
      },
      "execution_count": null,
      "outputs": [
        {
          "output_type": "stream",
          "name": "stdout",
          "text": [
            "Nome: Lucas\n",
            "Média: 8\n",
            "Lucas está aprovado.\n"
          ]
        }
      ]
    },
    {
      "cell_type": "code",
      "source": [
        "# DESAFIO 91 - Jogo de dados\n",
        "from random import randint\n",
        "from time import sleep\n",
        "\n",
        "jogadores = {}\n",
        "\n",
        "for c in range(0,4):\n",
        "  jogadores[f'Jogador{c+1}'] = randint(1,6)\n",
        "\n",
        "print('Valores sorteados:')\n",
        "for k, v in jogadores.items():\n",
        "  print(f'O {k} tirou {v}')\n",
        "  sleep(1)\n",
        "print('-'*20)\n",
        "\n",
        "ranking = sorted(jogadores.items(), key = lambda item:item[1], reverse=True)\n",
        "\n",
        "c = 1\n",
        "print('Ranking dos jogadores:')\n",
        "for k, v in ranking:\n",
        "  print(f'{c}º lugar: {k} com {v}')\n",
        "  c += 1"
      ],
      "metadata": {
        "id": "_344amb43ImO",
        "colab": {
          "base_uri": "https://localhost:8080/"
        },
        "outputId": "317b7fa6-e4f0-44ba-b540-b9e138415482"
      },
      "execution_count": null,
      "outputs": [
        {
          "output_type": "stream",
          "name": "stdout",
          "text": [
            "Valores sorteados:\n",
            "O Jogador1 tirou 4\n",
            "O Jogador2 tirou 6\n",
            "O Jogador3 tirou 2\n",
            "O Jogador4 tirou 1\n",
            "--------------------\n",
            "Ranking dos jogadores:\n",
            "1º lugar: Jogador2 com 6\n",
            "2º lugar: Jogador1 com 4\n",
            "3º lugar: Jogador3 com 2\n",
            "4º lugar: Jogador4 com 1\n"
          ]
        }
      ]
    },
    {
      "cell_type": "code",
      "source": [
        "# DESAFIO 92 - Cadastro de trabalhador\n",
        "\n",
        "from datetime import datetime\n",
        "trabalhador = {}\n",
        "\n",
        "print('Cadastro de Contribuinte')\n",
        "trabalhador['Nome'] = input('Nome: ')\n",
        "trabalhador['Idade'] = datetime.now().year - int(input('Ano de nascimento: '))\n",
        "trabalhador['Carteira de trabalho'] = int(input('Numero da Carteira de Trabalho (0 = não tem): '))\n",
        "\n",
        "if trabalhador['Carteira de trabalho'] != 0:\n",
        "  trabalhador['Ano de contratação'] = int(input('Ano de contratação: '))\n",
        "  trabalhador['Salário'] = str(('R$ ') + input('Salário: R$ '))\n",
        "  trabalhador['Ano de aposentadoria'] = ((trabalhador['Ano de contratação'] + 35) - datetime.now().year) + trabalhador['Idade']\n",
        "print('-=-'*10)\n",
        "\n",
        "for k, v in trabalhador.items():\n",
        "  print(f'{k}: {v}')"
      ],
      "metadata": {
        "id": "4r8cnAk8Vdqp",
        "colab": {
          "base_uri": "https://localhost:8080/"
        },
        "outputId": "c3ba1001-b56e-4f93-abce-91c493ab5868"
      },
      "execution_count": null,
      "outputs": [
        {
          "output_type": "stream",
          "name": "stdout",
          "text": [
            "Cadastro de Contribuinte\n",
            "Nome: João Gomes\n",
            "Ano de nascimento: 1995\n",
            "Numero da Carteira de Trabalho (0 = não tem): 65456468\n",
            "Ano de contratação: 2020\n",
            "Salário: R$ 3000\n",
            "-=--=--=--=--=--=--=--=--=--=-\n",
            "Nome: João Gomes\n",
            "Idade: 28\n",
            "Carteira de trabalho: 65456468\n",
            "Ano de contratação: 2020\n",
            "Salário: R$ 3000\n",
            "Ano de aposentadoria: 60\n"
          ]
        }
      ]
    },
    {
      "cell_type": "code",
      "source": [
        "# DESAFIO 93 - Cadastro de Jogadores\n",
        "\n",
        "jogador = {}\n",
        "gols_part = []\n",
        "\n",
        "print(f\"{'CADASTRO DE JOGADORES':^35}\")\n",
        "print('=-='*12)\n",
        "jogador['nome'] = input('Nome: ')\n",
        "jogador['partidas'] = int(input('Quantidade de partidas jogadas: '))\n",
        "\n",
        "for c in range(0,jogador['partidas']):\n",
        "  gols_part.append(int(input(f'Quantidade de gols na {c+1}ª partida: ')))\n",
        "\n",
        "jogador['gols_part'] = gols_part\n",
        "jogador['tot_gols'] = sum(gols_part)\n",
        "\n",
        "print('=-='*12)\n",
        "print(f'O jogador {jogador[\"nome\"]} jogou {jogador[\"partidas\"]} partidas.')\n",
        "\n",
        "for p, g in enumerate(gols_part):\n",
        "  if g <= 1:\n",
        "    print(f'=> Na {p+1}ª partida, fez {g} gol.')\n",
        "  else:\n",
        "    print(f'=> Na {p+1}ª partida, fez {g} gols.')\n",
        "\n",
        "print(\"-\"*35)\n",
        "print(f\"No total o jogador fez {jogador['tot_gols']} gols.\")"
      ],
      "metadata": {
        "id": "brc-KZbRdZzL",
        "colab": {
          "base_uri": "https://localhost:8080/"
        },
        "outputId": "19876efb-7b55-4949-843e-552a8afb9aeb"
      },
      "execution_count": null,
      "outputs": [
        {
          "output_type": "stream",
          "name": "stdout",
          "text": [
            "       CADASTRO DE JOGADORES       \n",
            "=-==-==-==-==-==-==-==-==-==-==-==-=\n",
            "Nome: Lucas\n",
            "Quantidade de partidas jogadas: 5\n",
            "Quantidade de gols na 1ª partida: 1\n",
            "Quantidade de gols na 2ª partida: 0\n",
            "Quantidade de gols na 3ª partida: 3\n",
            "Quantidade de gols na 4ª partida: 2\n",
            "Quantidade de gols na 5ª partida: 1\n",
            "=-==-==-==-==-==-==-==-==-==-==-==-=\n",
            "O jogador Lucas jogou 5 partidas.\n",
            "=> Na 1ª partida, fez 1 gol.\n",
            "=> Na 2ª partida, fez 0 gol.\n",
            "=> Na 3ª partida, fez 3 gols.\n",
            "=> Na 4ª partida, fez 2 gols.\n",
            "=> Na 5ª partida, fez 1 gol.\n",
            "-----------------------------------\n",
            "No total o jogador fez 7 gols.\n"
          ]
        }
      ]
    },
    {
      "cell_type": "code",
      "source": [
        "# DESAFIO 94 - Unindo dicionários e listas\n",
        "\n",
        "opcao = 'S'\n",
        "pessoa = {}\n",
        "pessoas = []\n",
        "media = 0\n",
        "\n",
        "print(f\"{'CADASTRO DE PESSOAS':^40}\")\n",
        "print('=-='*14)\n",
        "\n",
        "while True:\n",
        "  pessoa['nome'] = input('Nome: ')\n",
        "  while True:\n",
        "    pessoa['sexo'] = input('Sexo (M/F): ').upper()[0]\n",
        "    if pessoa['sexo'] in 'MF':\n",
        "      break\n",
        "    print(\"Erro! Digite apenas M ou F.\")\n",
        "  pessoa['idade'] = int(input('Idade: '))\n",
        "  media += pessoa['idade']\n",
        "  pessoas.append(pessoa.copy())\n",
        "  pessoa.clear()\n",
        "  while True:\n",
        "    opcao = input('Deseja adicionar mais uma pessoa (S/N)? ').upper()[0]\n",
        "    if opcao in 'SN':\n",
        "      break\n",
        "    print(\"Erro! Digite apenas S ou N.\")\n",
        "  if opcao == 'N':\n",
        "    break\n",
        "media = media/len(pessoas)\n",
        "\n",
        "print('=-='*14)\n",
        "print(f'{len(pessoas)} pessoas foram cadastradas.')\n",
        "print(f'Média de idade do grupo: {media:.1f}')\n",
        "print('Mulheres da lista: ', end='')\n",
        "for p in pessoas:\n",
        "  if p['sexo'] in 'F':\n",
        "    print(f\"{p['nome']}\", end='; ')\n",
        "print()\n",
        "print('Pessoas com idade acima da média: ', end='')\n",
        "for p in pessoas:\n",
        "  if p['idade'] > media:\n",
        "    print(f\"{p['nome']}\",end='; ')"
      ],
      "metadata": {
        "colab": {
          "base_uri": "https://localhost:8080/"
        },
        "id": "42PuuyGWPLsm",
        "outputId": "b1b25e05-cf89-43f3-fc4c-382178a1c43a"
      },
      "execution_count": null,
      "outputs": [
        {
          "output_type": "stream",
          "name": "stdout",
          "text": [
            "          CADASTRO DE PESSOAS           \n",
            "=-==-==-==-==-==-==-==-==-==-==-==-==-==-=\n",
            "Nome: Pedro\n",
            "Sexo (M/F): M\n",
            "Idade: 32\n",
            "Deseja adicionar mais uma pessoa (S/N)? S\n",
            "Nome: Joana\n",
            "Sexo (M/F): F\n",
            "Idade: 25\n",
            "Deseja adicionar mais uma pessoa (S/N)? s\n",
            "Nome: Lucas\n",
            "Sexo (M/F): M\n",
            "Idade: 18\n",
            "Deseja adicionar mais uma pessoa (S/N)? S\n",
            "Nome: José\n",
            "Sexo (M/F): M\n",
            "Idade: 54\n",
            "Deseja adicionar mais uma pessoa (S/N)? S\n",
            "Nome: Maria\n",
            "Sexo (M/F): F\n",
            "Idade: 42\n",
            "Deseja adicionar mais uma pessoa (S/N)? n\n",
            "=-==-==-==-==-==-==-==-==-==-==-==-==-==-=\n",
            "5 pessoas foram cadastradas.\n",
            "Média de idade do grupo: 34.2\n",
            "Mulheres da lista: Joana; Maria; \n",
            "Pessoas com idade acima da média: José; Maria; "
          ]
        }
      ]
    },
    {
      "cell_type": "code",
      "source": [
        "# DESAFIO 95 - Exercício 93 aprimorado\n",
        "\n",
        "jogador, jogadores = {}, []\n",
        "opcao = 'S'\n",
        "gols_part = []\n",
        "\n",
        "print(f\"{'CADASTRO DE JOGADORES':^40}\")\n",
        "print('=-'*20)\n",
        "while opcao == 'S':\n",
        "  jogador['nome'] = input('Nome: ')\n",
        "  jogador['partidas'] = int(input('Quantidade de partidas jogadas: '))\n",
        "\n",
        "  for c in range(0,jogador['partidas']):\n",
        "    gols = int(input(f'Quantidade de gols na {c+1}ª partida: '))\n",
        "    gols_part.append(gols)\n",
        "\n",
        "  jogador['gols_part'] = gols_part[:]\n",
        "  jogador['tot_gols'] = sum(gols_part)\n",
        "  jogadores.append(jogador.copy())\n",
        "  jogador.clear()\n",
        "  gols_part.clear()\n",
        "  print('-'*40)\n",
        "  opcao = input('Você deseja adicionar mais um jogador (S/N)? ').upper()[0]\n",
        "  while opcao not in \"SN\":\n",
        "    opcao = input('Erro! Digite apenas S ou N: ').upper()\n",
        "print()\n",
        "\n",
        "print(f\"{'TABELA DE JOGADORES':^40}\")\n",
        "print('=-'*20)\n",
        "print(f\"{'Cod':^5}{'Nome':<15}{'Gols':<15}{'Total':^5}\")\n",
        "print('-'*40)\n",
        "\n",
        "for p, j in enumerate(jogadores):\n",
        "  print(f\"{p+1:^5}{j['nome']:<15}{str(j['gols_part']):<15}{str(j['tot_gols']):^5}\")\n",
        "print('-'*40)\n",
        "\n",
        "while True:\n",
        "  cod = int(input('Mostrar dados de qual jogador? (0 = Nenhum) '))\n",
        "  if cod == 0:\n",
        "    break\n",
        "  pos = cod - 1\n",
        "  if pos in range(len(jogadores)):\n",
        "    print()\n",
        "    print(f'Levantamento do jogador {jogadores[pos][\"nome\"]}')\n",
        "    for p, g in enumerate(jogadores[pos]['gols_part']):\n",
        "      if g <= 1:\n",
        "        print(f'- No {p+1}º jogo, fez {g} gol.')\n",
        "      else:\n",
        "        print(f'- No {p+1}º jogo, fez {g} gols.')\n",
        "    print()\n",
        "  else:\n",
        "    print('Erro! Digite o código do jogador.')"
      ],
      "metadata": {
        "id": "eUUGLL2EV6J4",
        "colab": {
          "base_uri": "https://localhost:8080/"
        },
        "outputId": "187758d9-9a04-4c2f-bfba-109121b6ecb8"
      },
      "execution_count": null,
      "outputs": [
        {
          "name": "stdout",
          "output_type": "stream",
          "text": [
            "         CADASTRO DE JOGADORES          \n",
            "=-=-=-=-=-=-=-=-=-=-=-=-=-=-=-=-=-=-=-=-\n",
            "Nome: Neymar\n",
            "Quantidade de partidas jogadas: 3\n",
            "Quantidade de gols na 1ª partida: 1\n",
            "Quantidade de gols na 2ª partida: 0\n",
            "Quantidade de gols na 3ª partida: 2\n",
            "----------------------------------------\n",
            "Você deseja adicionar mais um jogador (S/N)? S\n",
            "Nome: Messi\n",
            "Quantidade de partidas jogadas: 3\n",
            "Quantidade de gols na 1ª partida: 2\n",
            "Quantidade de gols na 2ª partida: 1\n",
            "Quantidade de gols na 3ª partida: 3\n",
            "----------------------------------------\n",
            "Você deseja adicionar mais um jogador (S/N)? S\n",
            "Nome: Cristiano\n",
            "Quantidade de partidas jogadas: 3\n",
            "Quantidade de gols na 1ª partida: 1\n",
            "Quantidade de gols na 2ª partida: 1\n",
            "Quantidade de gols na 3ª partida: 2\n",
            "----------------------------------------\n",
            "Você deseja adicionar mais um jogador (S/N)? 3\n",
            "Erro! Digite apenas S ou N: N\n",
            "\n",
            "          TABELA DE JOGADORES           \n",
            "=-=-=-=-=-=-=-=-=-=-=-=-=-=-=-=-=-=-=-=-\n",
            " Cod Nome           Gols           Total\n",
            "----------------------------------------\n",
            "  1  Neymar         [1, 0, 2]        3  \n",
            "  2  Messi          [2, 1, 3]        6  \n",
            "  3  Cristiano      [1, 1, 2]        4  \n",
            "----------------------------------------\n",
            "Mostrar dados de qual jogador? (0 = Nenhum) 2\n",
            "\n",
            "Levantamento do jogador Messi\n",
            "- No 1º jogo, fez 2 gols.\n",
            "- No 2º jogo, fez 1 gol.\n",
            "- No 3º jogo, fez 3 gols.\n",
            "\n",
            "Mostrar dados de qual jogador? (0 = Nenhum) 3\n",
            "\n",
            "Levantamento do jogador Cristiano\n",
            "- No 1º jogo, fez 1 gol.\n",
            "- No 2º jogo, fez 1 gol.\n",
            "- No 3º jogo, fez 2 gols.\n",
            "\n",
            "Mostrar dados de qual jogador? (0 = Nenhum) 4\n",
            "Erro! Digite o código do jogador.\n",
            "Mostrar dados de qual jogador? (0 = Nenhum) 0\n"
          ]
        }
      ]
    }
  ]
}