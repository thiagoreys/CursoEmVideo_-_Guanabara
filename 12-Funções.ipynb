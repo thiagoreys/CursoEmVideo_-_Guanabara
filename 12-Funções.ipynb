{
  "nbformat": 4,
  "nbformat_minor": 0,
  "metadata": {
    "colab": {
      "provenance": [],
      "include_colab_link": true
    },
    "kernelspec": {
      "name": "python3",
      "display_name": "Python 3"
    },
    "language_info": {
      "name": "python"
    }
  },
  "cells": [
    {
      "cell_type": "markdown",
      "metadata": {
        "id": "view-in-github",
        "colab_type": "text"
      },
      "source": [
        "<a href=\"https://colab.research.google.com/github/thiagoreys123/Curso_Python_Guanabara/blob/main/12_Fun%C3%A7%C3%B5es.ipynb\" target=\"_parent\"><img src=\"https://colab.research.google.com/assets/colab-badge.svg\" alt=\"Open In Colab\"/></a>"
      ]
    },
    {
      "cell_type": "markdown",
      "source": [
        "# Funções (Parte 1)\n",
        "---\n",
        "*  **def função( )** - Função sem parâmetro.\n",
        "*  **def função(x)** - Função com o parâmetro 'x'.\n",
        "*  **def função(x,y)** - Função com os parâmetros 'x' e 'y'.\n",
        "\n",
        "> Obs:\n",
        "* As funções podem ser definidas com quantos paramêtros quiser, desde que os mesmos sejam definidos dentro delas.\n",
        "* Os valores adicionados aos paramêtros podem ser constantes, variáveis, tuplas, listas ou dicionários.\n",
        "\n",
        "\n",
        "* **def função(*n)** - Função com quantidade de parâmetros inderterminados.\n",
        "\n",
        "> Obs:\n",
        "* Os valores serão armazenados dentro de uma tupla \"**n**\" na função.\n",
        "* Você poderá adicionar quantos valores quiser na função, desde que defina o que será feito com a tupla dentro dela.\n",
        "\n",
        "\n"
      ],
      "metadata": {
        "id": "pssBGtvX10O1"
      }
    },
    {
      "cell_type": "code",
      "source": [
        "def titulo():\n",
        "  print('-'*30)\n",
        "  print('      SISTEMA DE ALUNOS     ')\n",
        "  print('-'*30)\n",
        "\n",
        "titulo()"
      ],
      "metadata": {
        "colab": {
          "base_uri": "https://localhost:8080/"
        },
        "id": "MfOgu5Qq6wjo",
        "outputId": "e0816b47-4955-4bb4-ecdc-c8f7f868e0e3"
      },
      "execution_count": null,
      "outputs": [
        {
          "output_type": "stream",
          "name": "stdout",
          "text": [
            "------------------------------\n",
            "      SISTEMA DE ALUNOS     \n",
            "------------------------------\n"
          ]
        }
      ]
    },
    {
      "cell_type": "code",
      "source": [],
      "metadata": {
        "id": "H2Vk-IptOszz"
      },
      "execution_count": null,
      "outputs": []
    },
    {
      "cell_type": "code",
      "source": [
        "def titulo(msg):\n",
        "  print('-'*30)\n",
        "  print(f'{msg:^30}')\n",
        "  print('-'*30)\n",
        "\n",
        "titulo('CADASTRO DE CLIENTES')"
      ],
      "metadata": {
        "colab": {
          "base_uri": "https://localhost:8080/"
        },
        "id": "gYPNr2gX716w",
        "outputId": "155015cf-c2f1-4185-fe42-d51bf35254e5"
      },
      "execution_count": null,
      "outputs": [
        {
          "output_type": "stream",
          "name": "stdout",
          "text": [
            "------------------------------\n",
            "     CADASTRO DE CLIENTES     \n",
            "------------------------------\n"
          ]
        }
      ]
    },
    {
      "cell_type": "code",
      "source": [
        "def soma(a,b):\n",
        "  print(f'{a} + {b} = {a+b}')\n",
        "\n",
        "soma(7,3)"
      ],
      "metadata": {
        "colab": {
          "base_uri": "https://localhost:8080/"
        },
        "id": "7nuFMwvQ_nDv",
        "outputId": "cb214453-a6af-4076-f40d-3653aaa75da7"
      },
      "execution_count": null,
      "outputs": [
        {
          "output_type": "stream",
          "name": "stdout",
          "text": [
            "7 + 3 = 10\n"
          ]
        }
      ]
    },
    {
      "cell_type": "code",
      "source": [
        "def contador(*n):\n",
        "  print(f'Recebi os valores {n} e são ao todo {len(n)} números.')\n",
        "\n",
        "contador(7,8,3,5,2)\n",
        "contador(3,4,5)"
      ],
      "metadata": {
        "colab": {
          "base_uri": "https://localhost:8080/"
        },
        "id": "SUw6JtiiBFnn",
        "outputId": "543ee845-62dc-4875-9cb3-0d0af177b2ab"
      },
      "execution_count": null,
      "outputs": [
        {
          "output_type": "stream",
          "name": "stdout",
          "text": [
            "Recebi os valores (7, 8, 3, 5, 2) e são ao todo 5 números.\n",
            "Recebi os valores (3, 4, 5) e são ao todo 3 números.\n"
          ]
        }
      ]
    },
    {
      "cell_type": "code",
      "source": [
        "def dobra(lista):\n",
        "  for c in range(len(lista)):\n",
        "    lista[c] *=  2\n",
        "\n",
        "valores = [5,4,3,2,1]\n",
        "dobra(valores)\n",
        "print(valores)"
      ],
      "metadata": {
        "id": "b03I5wOPEKDm",
        "colab": {
          "base_uri": "https://localhost:8080/"
        },
        "outputId": "811782d0-8651-4975-d638-a0e3f9a4036f"
      },
      "execution_count": null,
      "outputs": [
        {
          "output_type": "stream",
          "name": "stdout",
          "text": [
            "[10, 8, 6, 4, 2]\n"
          ]
        }
      ]
    },
    {
      "cell_type": "code",
      "source": [
        "def soma(*v):\n",
        "  s = 0\n",
        "  for n in v:\n",
        "    s += n\n",
        "  print(f'A soma dos valores {v} é igual a {s}.')\n",
        "\n",
        "soma(7,8,9,10,6)"
      ],
      "metadata": {
        "colab": {
          "base_uri": "https://localhost:8080/"
        },
        "id": "1yJa8YZdLvuV",
        "outputId": "22804e4e-b361-4202-92f9-10247563a09f"
      },
      "execution_count": null,
      "outputs": [
        {
          "output_type": "stream",
          "name": "stdout",
          "text": [
            "A soma dos valores (7, 8, 9, 10, 6) é igual a 40.\n"
          ]
        }
      ]
    },
    {
      "cell_type": "code",
      "source": [
        "# DESAFIO 96 - Função área\n",
        "\n",
        "def area(a,b):\n",
        "  print(f'Área: {a*b} m²')\n",
        "\n",
        "print(\"Digite as dismensões do terreno em metros: \")\n",
        "a = float(input('Comprimento: '))\n",
        "b = float(input('Largura: '))\n",
        "area(a,b)"
      ],
      "metadata": {
        "colab": {
          "base_uri": "https://localhost:8080/"
        },
        "id": "RNe20IKrNMKt",
        "outputId": "e125daa9-6750-4dc3-e25e-9b7bb109eb9e"
      },
      "execution_count": null,
      "outputs": [
        {
          "output_type": "stream",
          "name": "stdout",
          "text": [
            "Digite as dismensões do terreno em metros: \n",
            "Comprimento: 5\n",
            "Largura: 3\n",
            "Área: 15.0 m²\n"
          ]
        }
      ]
    },
    {
      "cell_type": "code",
      "source": [
        "# DESAFIO 97 - Texto personalizado\n",
        "\n",
        "def titulo(txt):\n",
        "  print('=-'*15)\n",
        "  print(f'{txt:^30}')\n",
        "  print('=-'*15)\n",
        "\n",
        "msg = input(\"Digite a mensagem que deseja personalizar: \")\n",
        "titulo(msg)"
      ],
      "metadata": {
        "colab": {
          "base_uri": "https://localhost:8080/"
        },
        "id": "6FnbE4SBjBMW",
        "outputId": "9bfd6751-b1c8-49cb-db00-4d998bf882e2"
      },
      "execution_count": null,
      "outputs": [
        {
          "output_type": "stream",
          "name": "stdout",
          "text": [
            "Digite a mensagem que deseja personalizar: Python is Life\n",
            "=-=-=-=-=-=-=-=-=-=-=-=-=-=-=-\n",
            "        Python is Life        \n",
            "=-=-=-=-=-=-=-=-=-=-=-=-=-=-=-\n"
          ]
        }
      ]
    },
    {
      "cell_type": "code",
      "source": [
        "# DESAFIO 98 - Criando a função range()\n",
        "from time import sleep\n",
        "\n",
        "def contador(i,f,p):\n",
        "  if p < 0:\n",
        "    p = -p\n",
        "  if p == 0:\n",
        "    p == 1\n",
        "  print('=-'*30)\n",
        "  print(f'Contando de {i} até {f} de {p} em {p}.')\n",
        "  if i > f:\n",
        "    while i >= f:\n",
        "      print(f'{i}',end=' ')\n",
        "      i -= p\n",
        "      sleep(0.5)\n",
        "  else:\n",
        "    while i <= f:\n",
        "      print(f'{i}',end=' ')\n",
        "      i += p\n",
        "      sleep(0.5)\n",
        "  print()\n",
        "\n",
        "contador(1,10,1)\n",
        "contador(10,0,2)\n",
        "print('=-'*30)\n",
        "print('Agora é sua vez de personalizar a contagem.')\n",
        "while True:\n",
        "  i = int(input('Início: '))\n",
        "  f = int(input('Fim: '))\n",
        "  p = int(input('Passo: '))\n",
        "  if i != f:\n",
        "    break\n",
        "  else:\n",
        "    print('Erro! Os valores inicial e final devem ser diferentes. Tente Novamente.')\n",
        "contador(i,f,p)"
      ],
      "metadata": {
        "colab": {
          "base_uri": "https://localhost:8080/"
        },
        "id": "_NiuR0hZkObk",
        "outputId": "524e34ab-f222-440e-ceaf-63a89d54a2f3"
      },
      "execution_count": null,
      "outputs": [
        {
          "output_type": "stream",
          "name": "stdout",
          "text": [
            "=-=-=-=-=-=-=-=-=-=-=-=-=-=-=-=-=-=-=-=-=-=-=-=-=-=-=-=-=-=-\n",
            "Contando de 1 até 10 de 1 em 1.\n",
            "1 2 3 4 5 6 7 8 9 10 \n",
            "=-=-=-=-=-=-=-=-=-=-=-=-=-=-=-=-=-=-=-=-=-=-=-=-=-=-=-=-=-=-\n",
            "Contando de 10 até 0 de 2 em 2.\n",
            "10 8 6 4 2 0 \n",
            "=-=-=-=-=-=-=-=-=-=-=-=-=-=-=-=-=-=-=-=-=-=-=-=-=-=-=-=-=-=-\n",
            "Agora é sua vez de personalizar a contagem.\n",
            "Início: 100\n",
            "Fim: 100\n",
            "Passo: -25\n",
            "Erro! Os valores inicial e final devem ser diferentes. Tente Novamente.\n",
            "Início: 100\n",
            "Fim: -100\n",
            "Passo: -25\n",
            "=-=-=-=-=-=-=-=-=-=-=-=-=-=-=-=-=-=-=-=-=-=-=-=-=-=-=-=-=-=-\n",
            "Contando de 100 até -100 de 25 em 25.\n",
            "100 75 50 25 0 -25 -50 -75 -100 \n"
          ]
        }
      ]
    },
    {
      "cell_type": "code",
      "source": [
        "# DESAFIO 99 - Maior Valor\n",
        "\n",
        "def maior(*valores):\n",
        "  maior = valores[0]\n",
        "  for v in valores:\n",
        "    if v > maior:\n",
        "      maior = v\n",
        "  print('=-'*30)\n",
        "  print(f'Dentre os valores {valores}, o maior valor é o {maior}.')\n",
        "\n",
        "maior(2,5,3,9,1)\n",
        "maior(1,0,3,2,10)\n",
        "maior(0,3,1)"
      ],
      "metadata": {
        "colab": {
          "base_uri": "https://localhost:8080/"
        },
        "id": "4fmSXamo2izc",
        "outputId": "a7afe6ab-c523-4ddc-cf1c-6bd7108ddae7"
      },
      "execution_count": null,
      "outputs": [
        {
          "output_type": "stream",
          "name": "stdout",
          "text": [
            "=-=-=-=-=-=-=-=-=-=-=-=-=-=-=-=-=-=-=-=-=-=-=-=-=-=-=-=-=-=-\n",
            "Dentre os valores (2, 5, 3, 9, 1), o maior valor é o 9.\n",
            "=-=-=-=-=-=-=-=-=-=-=-=-=-=-=-=-=-=-=-=-=-=-=-=-=-=-=-=-=-=-\n",
            "Dentre os valores (1, 0, 3, 2, 10), o maior valor é o 10.\n",
            "=-=-=-=-=-=-=-=-=-=-=-=-=-=-=-=-=-=-=-=-=-=-=-=-=-=-=-=-=-=-\n",
            "Dentre os valores (0, 3, 1), o maior valor é o 3.\n"
          ]
        }
      ]
    },
    {
      "cell_type": "code",
      "source": [
        "# DESAFIO 99 - Utilizando a função max()\n",
        "\n",
        "def maior(*valores):\n",
        "  print('=-'*30)\n",
        "  print(f'Dentre os valores {valores}, o maior valor é o {max(valores)}.')\n",
        "\n",
        "maior(2,5,3,9,1)\n",
        "maior(1,0,3,2,10)\n",
        "maior(0,3,1)"
      ],
      "metadata": {
        "colab": {
          "base_uri": "https://localhost:8080/"
        },
        "id": "hZYr6Bx7_Qxj",
        "outputId": "96a358f9-757f-48b7-aa53-8d759559ae88"
      },
      "execution_count": null,
      "outputs": [
        {
          "output_type": "stream",
          "name": "stdout",
          "text": [
            "=-=-=-=-=-=-=-=-=-=-=-=-=-=-=-=-=-=-=-=-=-=-=-=-=-=-=-=-=-=-\n",
            "Dentre os valores (2, 5, 3, 9, 1), o maior valor é o 9.\n",
            "=-=-=-=-=-=-=-=-=-=-=-=-=-=-=-=-=-=-=-=-=-=-=-=-=-=-=-=-=-=-\n",
            "Dentre os valores (1, 0, 3, 2, 10), o maior valor é o 10.\n",
            "=-=-=-=-=-=-=-=-=-=-=-=-=-=-=-=-=-=-=-=-=-=-=-=-=-=-=-=-=-=-\n",
            "Dentre os valores (0, 3, 1), o maior valor é o 3.\n"
          ]
        }
      ]
    },
    {
      "cell_type": "code",
      "source": [
        "# DESAFIO 100 - Funções para sortear e somar\n",
        "from random import randint\n",
        "\n",
        "def sorteia(lista):\n",
        "  for c in range(0,5):\n",
        "    lista.append(randint(0,10))\n",
        "def somapar(lista):\n",
        "  sp = 0\n",
        "  for n in lista:\n",
        "    if n % 2 == 0:\n",
        "      sp += n\n",
        "  print(f'A soma dos números pares é {sp}.')\n",
        "\n",
        "numeros = []\n",
        "sorteia(numeros)\n",
        "print(f'Números sorteados: {numeros}')\n",
        "somapar(numeros)\n"
      ],
      "metadata": {
        "colab": {
          "base_uri": "https://localhost:8080/"
        },
        "id": "kINKuLD2BZXO",
        "outputId": "b929215e-49d1-4666-d366-07bb14e01e2f"
      },
      "execution_count": null,
      "outputs": [
        {
          "output_type": "stream",
          "name": "stdout",
          "text": [
            "Números sorteados: [7, 10, 9, 2, 1]\n",
            "A soma dos números pares é 12.\n"
          ]
        }
      ]
    },
    {
      "cell_type": "markdown",
      "source": [
        "# Funções (Parte 2)\n",
        "---\n",
        "* **def função(a=0,b=0,c=0)** - Parâmetros opcionais. Se valores não forem adcionados aos parâmetros, eles serão o que está declarado na função.\n",
        "\n",
        "> * As variaveis declaradas no programa principal, também funcionam dentro das funções (Variável Global).\n",
        "> * As variáveis declaradas dentro das funções só funcionam dentro delas mesmas (Variável Local).\n",
        "\n",
        "* **return** - Comando para retornar um valor de dentro da função.\n",
        "\n",
        "\n"
      ],
      "metadata": {
        "id": "0dNIz7qGOSjk"
      }
    },
    {
      "cell_type": "code",
      "source": [
        "def soma(a=0,b=0,c=0):\n",
        "  s = a + b + c\n",
        "  print(s)\n",
        "\n",
        "soma(5,3)"
      ],
      "metadata": {
        "colab": {
          "base_uri": "https://localhost:8080/"
        },
        "id": "96TVbHm2kk-W",
        "outputId": "43f4544c-78e8-4785-9894-6a8763b08497"
      },
      "execution_count": null,
      "outputs": [
        {
          "output_type": "stream",
          "name": "stdout",
          "text": [
            "8\n"
          ]
        }
      ]
    },
    {
      "cell_type": "code",
      "source": [
        "def fatorial(n=1):\n",
        "  f = 1\n",
        "  for c in range(n,0,-1):\n",
        "    f *= c\n",
        "  return f\n",
        "\n",
        "n = int(input('Digite um número para fatorar: '))\n",
        "print(f'{n}! = {fatorial(n)} ')\n"
      ],
      "metadata": {
        "colab": {
          "base_uri": "https://localhost:8080/"
        },
        "id": "10-CqPIEma_D",
        "outputId": "01da5cac-e14a-4dc5-a03a-b5b8058a7dc7"
      },
      "execution_count": null,
      "outputs": [
        {
          "output_type": "stream",
          "name": "stdout",
          "text": [
            "Digite um número para fatorar: 5\n",
            "5! = 120 \n"
          ]
        }
      ]
    },
    {
      "cell_type": "code",
      "source": [
        "def ParOuImpar(n=0):\n",
        "  if n % 2 == 0:\n",
        "    print(f'{n} é par.')\n",
        "  else:\n",
        "    print(f'{n} é impar.')\n",
        "\n",
        "n = int(input('Digite um número inteiro: '))\n",
        "ParOuImpar(n)"
      ],
      "metadata": {
        "colab": {
          "base_uri": "https://localhost:8080/"
        },
        "id": "TaWpAYaPr1BI",
        "outputId": "adc7d999-6627-46f0-fc1d-d82c2bd9cf30"
      },
      "execution_count": null,
      "outputs": [
        {
          "output_type": "stream",
          "name": "stdout",
          "text": [
            "Digite um número inteiro: 423132\n",
            "423132 é par.\n"
          ]
        }
      ]
    },
    {
      "cell_type": "code",
      "source": [
        "# DESAFIO 101 - Função para votar\n",
        "from datetime import datetime\n",
        "\n",
        "def voto(ano):\n",
        "  idade = datetime.now().year - ano\n",
        "  if ano < 0:\n",
        "    print('Ano Inválido')\n",
        "  elif idade <= 18:\n",
        "    print(f'Com {idade} anos NÃO VOTA.')\n",
        "  elif 65 > idade > 18:\n",
        "    print(f'Com {idade} anos o voto é OBRIGATÓRIO.')\n",
        "  elif idade >= 65:\n",
        "    print(f'Com {idade} anos o voto é OPCIONAL.')\n",
        "\n",
        "ano = int(input('Digite seu ano de nascimento: '))\n",
        "voto(ano)"
      ],
      "metadata": {
        "colab": {
          "base_uri": "https://localhost:8080/"
        },
        "id": "ofE_azcGs0ql",
        "outputId": "36f5bbfa-cca8-40b9-df22-26302e6107b5"
      },
      "execution_count": null,
      "outputs": [
        {
          "output_type": "stream",
          "name": "stdout",
          "text": [
            "Digite seu ano de nascimento: 1958\n",
            "Com 65 anos o voto é OPCIONAL.\n"
          ]
        }
      ]
    },
    {
      "cell_type": "code",
      "source": [
        "# DESAFIO 102 - Função Fatorial\n",
        "\n",
        "def fatorial (n=1,show=False):\n",
        "  f = 1\n",
        "  if show == True:\n",
        "    print(f'{n}! = ',end='')\n",
        "    for c in range(n,0,-1):\n",
        "      f *= c\n",
        "      if c != 1:\n",
        "        print(f'{c} * ',end='')\n",
        "      else:\n",
        "        print(f'{c} = {f}')\n",
        "  else:\n",
        "    for c in range(n,0,-1):\n",
        "      f *= c\n",
        "    print(f'{n}! = {f}')\n",
        "\n",
        "fatorial(5,True)\n"
      ],
      "metadata": {
        "colab": {
          "base_uri": "https://localhost:8080/"
        },
        "id": "25ikBGQA2Hnc",
        "outputId": "e44dffb1-a964-4bd6-bb8d-d3b93592104d"
      },
      "execution_count": null,
      "outputs": [
        {
          "output_type": "stream",
          "name": "stdout",
          "text": [
            "5! = 5 * 4 * 3 * 2 * 1 = 120\n"
          ]
        }
      ]
    },
    {
      "cell_type": "code",
      "source": [
        "# DESAFIO 103 - Ficha do jogador\n",
        "\n",
        "def ficha(nome='<desconhecido>',gols=0):\n",
        "  print(f'O jogador {nome} fez {gols} gol(s) no campeonato.')\n",
        "\n",
        "n = input('Nome do jogador: ')\n",
        "g = input('Quantidade de gols: ')\n",
        "if g.isnumeric():\n",
        "  g = int(g)\n",
        "else:\n",
        "  g = 0\n",
        "if n.strip() == '':\n",
        "  ficha(gols=g)\n",
        "else:\n",
        "  ficha(n,g)"
      ],
      "metadata": {
        "colab": {
          "base_uri": "https://localhost:8080/"
        },
        "id": "74G4smS07FX0",
        "outputId": "41a0a57f-55cc-4416-925c-6f9490926d62"
      },
      "execution_count": null,
      "outputs": [
        {
          "output_type": "stream",
          "name": "stdout",
          "text": [
            "Nome do jogador: \n",
            "Quantidade de gols: \n",
            "O jogador <desconhecido> fez 0 gol(s) no campeonato.\n"
          ]
        }
      ]
    },
    {
      "cell_type": "code",
      "source": [
        "# DESAFIO 104 - Validando entrada de dados\n",
        "\n",
        "def leiaint(msg):\n",
        "  while True:\n",
        "    n = input(msg)\n",
        "    if n.isnumeric():\n",
        "      return int(n)\n",
        "    else:\n",
        "      print('Erro! Digite um número inteiro.')\n",
        "\n",
        "num = leiaint('Digite um número inteiro: ')\n",
        "print(f'Você acabou de digitar o número {num}.')"
      ],
      "metadata": {
        "colab": {
          "base_uri": "https://localhost:8080/"
        },
        "id": "4alZHlqseWuW",
        "outputId": "9964a189-5d1d-4a62-862f-be5c59f07029"
      },
      "execution_count": null,
      "outputs": [
        {
          "output_type": "stream",
          "name": "stdout",
          "text": [
            "Digite um número inteiro: 5.3\n",
            "Erro! Digite um número inteiro.\n",
            "Digite um número inteiro: kkk\n",
            "Erro! Digite um número inteiro.\n",
            "Digite um número inteiro: 5\n",
            "Você acabou de digitar o número 5.\n"
          ]
        }
      ]
    },
    {
      "cell_type": "code",
      "source": [
        "# DESAFIO 104 - Validando entrada de dados\n",
        "\n",
        "def leiaInt(n):\n",
        "    while True:\n",
        "        valor = input(n)\n",
        "        if valor.isnumeric():\n",
        "            return int(valor)\n",
        "        else:\n",
        "            print('#ERRO!')\n",
        "\n",
        "num = leiaInt('Digite um número inteiro: ')\n",
        "print(f'Correto. Você digitou o {num}.')"
      ],
      "metadata": {
        "colab": {
          "base_uri": "https://localhost:8080/"
        },
        "id": "ZlEnBtcWqTjV",
        "outputId": "d1a67037-7bd4-47a0-eaf0-bed70e51ff87"
      },
      "execution_count": null,
      "outputs": [
        {
          "output_type": "stream",
          "name": "stdout",
          "text": [
            "Digite um número inteiro: 5.3\n",
            "#ERRO!\n",
            "Digite um número inteiro: kk\n",
            "#ERRO!\n",
            "Digite um número inteiro: 5\n",
            "Correto. Você digitou o 5.\n"
          ]
        }
      ]
    },
    {
      "cell_type": "code",
      "source": [
        "# DESAFIO 105 - Analisando e gerando dicionários\n",
        "\n",
        "def notas(*n,sit=False):\n",
        "  notas = {}\n",
        "  notas['Qtd'] = len(n)\n",
        "  notas['maior'] = max(n)\n",
        "  notas['menor'] = min(n)\n",
        "  notas['média'] = sum(n)/len(n)\n",
        "  if sit == True:\n",
        "    if notas['média'] >= 7:\n",
        "      notas['situação'] = 'BOA'\n",
        "    else:\n",
        "      notas['situação'] = 'RUIM'\n",
        "  return notas\n",
        "\n",
        "dicio = notas(8,7,4,9,2,sit=True)\n",
        "print(dicio)"
      ],
      "metadata": {
        "colab": {
          "base_uri": "https://localhost:8080/"
        },
        "id": "_yxsIi7cyEJb",
        "outputId": "73ae2a6e-348b-444b-ac9b-01911de1b533"
      },
      "execution_count": null,
      "outputs": [
        {
          "output_type": "stream",
          "name": "stdout",
          "text": [
            "{'Qtd': 5, 'maior': 9, 'menor': 2, 'média': 6.0, 'situação': 'RUIM'}\n"
          ]
        }
      ]
    },
    {
      "cell_type": "code",
      "source": [
        "# DESAFIO 105 - Aperfeiçoado\n",
        "\n",
        "def notas(n,sit=False):\n",
        "  notas = {}\n",
        "  notas['Qtd'] = len(n)\n",
        "  notas['maior'] = max(n)\n",
        "  notas['menor'] = min(n)\n",
        "  notas['média'] = sum(n)/len(n)\n",
        "  if sit == True:\n",
        "    if notas['média'] >= 7:\n",
        "      notas['situação'] = 'BOA'\n",
        "    else:\n",
        "      notas['situação'] = 'RUIM'\n",
        "  return notas\n",
        "\n",
        "boletim = []\n",
        "n = int(input('Deseja adicionar as notas de quantos alunos? '))\n",
        "for c in range(n):\n",
        "  nota = float(input(f'Aluno {c+1}: '))\n",
        "  boletim.append(nota)\n",
        "opcao = str(input('Deseja mostrar a situação da turma? ')).upper()[0]\n",
        "while True:\n",
        "  if opcao == 'S':\n",
        "    dicio = notas(boletim,sit=True)\n",
        "    break\n",
        "  elif opcao == 'N':\n",
        "    dicio = notas(boletim)\n",
        "    break\n",
        "  else:\n",
        "    opcao = str(input('Opção invalida. Digite Sim ou Não: ')).upper()[0]\n",
        "print('=-'*20)\n",
        "print(f'Quantidade de alunos avaliados: {dicio[\"Qtd\"]}')\n",
        "print(f'Maior nota da turma: {dicio[\"maior\"]}')\n",
        "print(f'Menor nota da turma: {dicio[\"menor\"]}')\n",
        "print(f'Média da turma: {dicio[\"média\"]:.1f}')\n",
        "if opcao == 'S':\n",
        "  print(f'Situação da turma: {dicio[\"situação\"]}')"
      ],
      "metadata": {
        "id": "2fOZb2scvFnX",
        "colab": {
          "base_uri": "https://localhost:8080/"
        },
        "outputId": "049b221a-2cc4-44af-f7fb-f7eff47a320e"
      },
      "execution_count": null,
      "outputs": [
        {
          "output_type": "stream",
          "name": "stdout",
          "text": [
            "Deseja adicionar as notas de quantos alunos? 5\n",
            "Aluno 1: 9\n",
            "Aluno 2: 3\n",
            "Aluno 3: 5\n",
            "Aluno 4: 7\n",
            "Aluno 5: 2\n",
            "Deseja mostrar a situação da turma? Sim\n",
            "=-=-=-=-=-=-=-=-=-=-=-=-=-=-=-=-=-=-=-=-\n",
            "Quantidade de alunos avaliados: 5\n",
            "Maior nota da turma: 9.0\n",
            "Menor nota da turma: 2.0\n",
            "Média da turma: 5.2\n",
            "Situação da turma: RUIM\n"
          ]
        }
      ]
    },
    {
      "cell_type": "code",
      "source": [
        "# DESAFIO 106 - Sistema interativo de ajuda\n",
        "\n",
        "def pyhelp():\n",
        "  print(\"=\"*40)\n",
        "  print(f'{\"SISTEMA DE AJUDA PyHELP\":^40}')\n",
        "  print(\"=\"*40)\n",
        "  print()\n",
        "  while True:\n",
        "    msg = input(\"Sobre o que deseja saber mais? \")\n",
        "    if msg.upper() == \"FIM\":\n",
        "      return\n",
        "    print('=-'*30)\n",
        "    help(msg)\n",
        "    print('=-'*30)\n",
        "\n",
        "pyhelp()"
      ],
      "metadata": {
        "colab": {
          "base_uri": "https://localhost:8080/"
        },
        "id": "VgpGgVh0ol8J",
        "outputId": "35fec955-ce52-4e8c-d1f7-c5a4f08f0b30"
      },
      "execution_count": null,
      "outputs": [
        {
          "name": "stdout",
          "output_type": "stream",
          "text": [
            "========================================\n",
            "        SISTEMA DE AJUDA PyHELP         \n",
            "========================================\n",
            "\n",
            "Sobre o que deseja saber mais? len\n",
            "=-=-=-=-=-=-=-=-=-=-=-=-=-=-=-=-=-=-=-=-=-=-=-=-=-=-=-=-=-=-\n",
            "Help on built-in function len in module builtins:\n",
            "\n",
            "len(obj, /)\n",
            "    Return the number of items in a container.\n",
            "\n",
            "=-=-=-=-=-=-=-=-=-=-=-=-=-=-=-=-=-=-=-=-=-=-=-=-=-=-=-=-=-=-\n",
            "Sobre o que deseja saber mais? enumerate\n",
            "=-=-=-=-=-=-=-=-=-=-=-=-=-=-=-=-=-=-=-=-=-=-=-=-=-=-=-=-=-=-\n",
            "Help on class enumerate in module builtins:\n",
            "\n",
            "class enumerate(object)\n",
            " |  enumerate(iterable, start=0)\n",
            " |  \n",
            " |  Return an enumerate object.\n",
            " |  \n",
            " |    iterable\n",
            " |      an object supporting iteration\n",
            " |  \n",
            " |  The enumerate object yields pairs containing a count (from start, which\n",
            " |  defaults to zero) and a value yielded by the iterable argument.\n",
            " |  \n",
            " |  enumerate is useful for obtaining an indexed list:\n",
            " |      (0, seq[0]), (1, seq[1]), (2, seq[2]), ...\n",
            " |  \n",
            " |  Methods defined here:\n",
            " |  \n",
            " |  __getattribute__(self, name, /)\n",
            " |      Return getattr(self, name).\n",
            " |  \n",
            " |  __iter__(self, /)\n",
            " |      Implement iter(self).\n",
            " |  \n",
            " |  __next__(self, /)\n",
            " |      Implement next(self).\n",
            " |  \n",
            " |  __reduce__(...)\n",
            " |      Return state information for pickling.\n",
            " |  \n",
            " |  ----------------------------------------------------------------------\n",
            " |  Static methods defined here:\n",
            " |  \n",
            " |  __new__(*args, **kwargs) from builtins.type\n",
            " |      Create and return a new object.  See help(type) for accurate signature.\n",
            "\n",
            "=-=-=-=-=-=-=-=-=-=-=-=-=-=-=-=-=-=-=-=-=-=-=-=-=-=-=-=-=-=-\n",
            "Sobre o que deseja saber mais? fim\n"
          ]
        }
      ]
    }
  ]
}