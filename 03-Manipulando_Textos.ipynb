{
  "nbformat": 4,
  "nbformat_minor": 0,
  "metadata": {
    "colab": {
      "provenance": [],
      "include_colab_link": true
    },
    "kernelspec": {
      "name": "python3",
      "display_name": "Python 3"
    },
    "language_info": {
      "name": "python"
    }
  },
  "cells": [
    {
      "cell_type": "markdown",
      "metadata": {
        "id": "view-in-github",
        "colab_type": "text"
      },
      "source": [
        "<a href=\"https://colab.research.google.com/github/thiagoreys123/Curso_Python_Guanabara/blob/main/3_Manipulando_Textos.ipynb\" target=\"_parent\"><img src=\"https://colab.research.google.com/assets/colab-badge.svg\" alt=\"Open In Colab\"/></a>"
      ]
    },
    {
      "cell_type": "markdown",
      "source": [
        "Seja `frase` uma variável do tipo `'str'`, podemos aplicar:"
      ],
      "metadata": {
        "id": "hyavf6Jt9jqN"
      }
    },
    {
      "cell_type": "markdown",
      "source": [
        "Fatiamentos\n",
        "\n",
        "*   **`frase[a:b]`**:  fatia a frase do termo *'a'* ao termo *'b-1'*\n",
        "*   **`frase[a:b:c]`**:  fatia a frase de *'a'* a *'b-1'*, pulando *c* termos. (*c = -1* inverte a string)\n",
        "*   **`frase[a:]`**:   fatia a frase de *'a'* até o final.\n",
        "*   **`frase[:b]`**:   fatia a frase do início até *'b'*."
      ],
      "metadata": {
        "id": "F1XyFn-szdLM"
      }
    },
    {
      "cell_type": "markdown",
      "source": [
        "Funções\n",
        "\n",
        "*   **`len(frase)`**: quantidade de caracteres e espaços na frase.\n",
        "*   **`len(lista)`**: quantidade de ítens na lista.\n",
        "*   **`frase.count('o')`**: quantas vezes aparece a letra 'o' na frase.\n",
        "*   **`frase.count('o',a,b)`**: quantas vzs aparece 'o', no fatiamento [a:b] da frase.\n",
        "*   **`frase.find('deo')`**: onde 'deo' aparece pela primeira vez na frase.*\n",
        "*   **`frase.rfind('deo')`**: onde 'deo' aparece pela última vez na frase.*\n",
        "\n",
        "`* Caso a sequência 'str' não exista, é retornado o valor -1.`\n",
        "\n",
        "*   **`'Curso' in frase`**: existe 'Curso' na frase? Retorna `True` ou `False`.\n",
        "*   **`frase.replace('Python','Android')`**: troca 'Python' por 'Android' na frase.\n",
        "*   **`frase.upper()`**: transforma tudo em maiúsculo.\n",
        "*   **`frase.lower()`**: transforma tudo em minúsculo.\n",
        "*   **`frase.capitalize()`**: deixa só a primeira letra da frase maiúscula.\n",
        "*   **`frase.title()`**: primeira letra de cada palavra maiúscula.\n",
        "*   **`frase.strip()`**: remove os espaços excessivos da frase.\n",
        "*   **`frase.rstrip()`**: remove os espaços excessivos da direita (final da frase).\n",
        "*   **`frase.lstrip()`**: remove os espaços excessivos da esquerda (início da frase).\n",
        "*   **`frase.split()`**: cria uma lista com as palavras separadas pelo espaço.\n",
        "*   **`frase.split(';')`**: cria uma lista com as palavras separadas pelo `;`.\n",
        "\n",
        "*   **`' '.join(palavras)`**: junta a lista de palavras em uma frase com um espaço `' '` entre elas.\n",
        "\n"
      ],
      "metadata": {
        "id": "VRt45BUjybAb"
      }
    },
    {
      "cell_type": "code",
      "source": [
        "frase = input('Frase: ')\n",
        "frase = ' '.join(frase.split())    # Remove todos espaços excecivos da frase.\n",
        "print(frase)"
      ],
      "metadata": {
        "colab": {
          "base_uri": "https://localhost:8080/"
        },
        "id": "EmHiNhOk9tC5",
        "outputId": "12792571-58da-4d2c-c315-a72c2b35b9c5"
      },
      "execution_count": null,
      "outputs": [
        {
          "output_type": "stream",
          "name": "stdout",
          "text": [
            "Frase:      Eu      Amo      Python\n",
            "Eu Amo Python\n"
          ]
        }
      ]
    },
    {
      "cell_type": "markdown",
      "source": [
        "Imprimir Texto `(\"\"\"  \"\"\")`"
      ],
      "metadata": {
        "id": "UUtPST5oSQql"
      }
    },
    {
      "cell_type": "code",
      "source": [
        "print(\"\"\"História do Brasil não possui um marco inicial bem definido. Não obstante, tradicionalmente, existe uma datação recorrente sobre a chegada dos portugueses com\n",
        "Pedro Álvares Cabral, em 22 de abril de 1500, à região costeira de onde hoje é a Bahia. Seria esse então o “descobrimento do Brasil”. No entanto, cabe ressaltar que se\n",
        "trata da descoberta dos portugueses. Diversos grupos étnicos já habitavam o território que veio a ser o Brasil muito antes de qualquer europeu desembarcar nele.\"\"\")"
      ],
      "metadata": {
        "colab": {
          "base_uri": "https://localhost:8080/"
        },
        "id": "AAff_9HY_5as",
        "outputId": "a27f56a3-8a46-4c92-b96d-e6d7def07df7"
      },
      "execution_count": null,
      "outputs": [
        {
          "output_type": "stream",
          "name": "stdout",
          "text": [
            "História do Brasil não possui um marco inicial bem definido. Não obstante, tradicionalmente, existe uma datação recorrente sobre a chegada dos portugueses com \n",
            "Pedro Álvares Cabral, em 22 de abril de 1500, à região costeira de onde hoje é a Bahia. Seria esse então o “descobrimento do Brasil”. No entanto, cabe ressaltar que se \n",
            "trata da descoberta dos portugueses. Diversos grupos étnicos já habitavam o território que veio a ser o Brasil muito antes de qualquer europeu desembarcar nele.\n"
          ]
        }
      ]
    },
    {
      "cell_type": "markdown",
      "source": [
        "# Exercícios"
      ],
      "metadata": {
        "id": "6heeg6cfSa6e"
      }
    },
    {
      "cell_type": "markdown",
      "source": [
        "**Desafio 22** - Crie um programa que leia o nome completo de uma pessoa e mostre:\n",
        "\n",
        "*   a) O nome com todas as letras maiúsculas.\n",
        "*   b) O nome com todas minúsculas.\n",
        "*   c) Quantas letras ao todo (sem considerar os espaços).\n",
        "*   d) Quantas letras tem o primeiro nome.\n"
      ],
      "metadata": {
        "id": "HDXifxA-U5ee"
      }
    },
    {
      "cell_type": "code",
      "source": [
        "nome = input('Digite seu nome completo:')\n",
        "print(f'a) {nome.upper()}')\n",
        "print(f'b) {nome.lower()}')\n",
        "palavras = nome.split()\n",
        "nse = ''.join(palavras)\n",
        "print(f'c) {len(nse)}')\n",
        "print(f'd) {len(palavras[0])}')"
      ],
      "metadata": {
        "colab": {
          "base_uri": "https://localhost:8080/"
        },
        "id": "Qm6pdJDqSjo4",
        "outputId": "d7c27406-321d-4138-ec9b-932581ccfe8d"
      },
      "execution_count": null,
      "outputs": [
        {
          "output_type": "stream",
          "name": "stdout",
          "text": [
            "Digite seu nome completo:Thiago Dos Reis André\n",
            "a) THIAGO DOS REIS ANDRÉ\n",
            "b) thiago dos reis andré\n",
            "c) 18\n",
            "d) 6\n"
          ]
        }
      ]
    },
    {
      "cell_type": "markdown",
      "source": [
        "**Desafio 23** - Faça um programa que leia um número de 0 a 9999 e mostre na tela cada um dos digitos separados: unidade; dezena; centena; milhar.\n"
      ],
      "metadata": {
        "id": "HICRFT57Wc8c"
      }
    },
    {
      "cell_type": "code",
      "source": [
        "numero = input('Digite um número de 0 a 9999:')\n",
        "print(f'Unidade: {numero[3]}')\n",
        "print(f'Dezena : {numero[2]}')\n",
        "print(f'Centena: {numero[1]}')\n",
        "print(f'Milhar : {numero[0]}')"
      ],
      "metadata": {
        "colab": {
          "base_uri": "https://localhost:8080/"
        },
        "id": "hsor87TLXCry",
        "outputId": "87becb75-97a1-4db1-c049-bbc338ad8582"
      },
      "execution_count": null,
      "outputs": [
        {
          "output_type": "stream",
          "name": "stdout",
          "text": [
            "Digite um número de 0 a 9999:7894\n",
            "Unidade: 4\n",
            "Dezena : 9\n",
            "Centena: 8\n",
            "Milhar : 7\n"
          ]
        }
      ]
    },
    {
      "cell_type": "markdown",
      "source": [
        "**Desafio 24** - Crie um progama que leia o nome de uma cidade e diga se ela começa ou não com o nome \"Santo\"."
      ],
      "metadata": {
        "id": "8FRci_LvXBfO"
      }
    },
    {
      "cell_type": "code",
      "source": [
        "cidade = input('Digite o nome de uma cidade: ')\n",
        "palavras = cidade.split()\n",
        "\n",
        "if 'SANTO' in palavras[0].upper():\n",
        "  print('A cidade começa com Santo.')\n",
        "else:\n",
        "  print('A cidade não começa com Santo.')"
      ],
      "metadata": {
        "colab": {
          "base_uri": "https://localhost:8080/"
        },
        "id": "_Nx00TuSXVpq",
        "outputId": "c40f890f-03ce-4c6c-cba3-556bef658275"
      },
      "execution_count": null,
      "outputs": [
        {
          "output_type": "stream",
          "name": "stdout",
          "text": [
            "Digite o nome de uma cidade: Santo Amaro\n",
            "A cidade começa com Santo.\n"
          ]
        }
      ]
    },
    {
      "cell_type": "markdown",
      "source": [
        "**Desafio 25** - Crie um programa que leia o nome de uma pessoa e diga se ela tem \"Silva\" no nome."
      ],
      "metadata": {
        "id": "Td3PQ2OhXWD4"
      }
    },
    {
      "cell_type": "code",
      "source": [
        "nome = input('Digite o nome da pessoa: ')\n",
        "\n",
        "if 'SILVA' in nome.upper():\n",
        "  print('Tem Silva no nome.')\n",
        "else:\n",
        "  print('Não tem Silva no nome.')"
      ],
      "metadata": {
        "colab": {
          "base_uri": "https://localhost:8080/"
        },
        "id": "8RwjIDsVXugV",
        "outputId": "8106b558-64d3-4ffe-d905-b3c1b580f829"
      },
      "execution_count": null,
      "outputs": [
        {
          "output_type": "stream",
          "name": "stdout",
          "text": [
            "Digite o nome da pessoa: Antônio da Silva Cunha\n",
            "Tem Silva no nome.\n"
          ]
        }
      ]
    },
    {
      "cell_type": "markdown",
      "source": [
        "**Desafio 26** - Faça um programa que leia uma frase pelo teclado e mostre:\n",
        "* Quantas vezes aparece a letra \"a\".\n",
        "* Em que posição ela aparece a primeira vez.\n",
        "* Em que posição ela aparece a última vez."
      ],
      "metadata": {
        "id": "lS8cxntoXu3x"
      }
    },
    {
      "cell_type": "code",
      "source": [
        "frase = str(input('Digite uma frase: ')).lower()\n",
        "\n",
        "primeira = frase.find('a')\n",
        "ultima = frase.rfind('a')\n",
        "\n",
        "print('A frase possui {} a\\'s.'.format(frase.count('a')))\n",
        "print(f\"A letra 'a' aparece pela primeira vez na posição {primeira+1}.\")\n",
        "print(f\"A letra 'a' aparece pela ultima vez na posição {ultima+1}.\")"
      ],
      "metadata": {
        "colab": {
          "base_uri": "https://localhost:8080/"
        },
        "id": "ZMB1hGRiYM6M",
        "outputId": "8ba24406-8b4f-4a49-bd3d-e1bcb3f3fb0d"
      },
      "execution_count": null,
      "outputs": [
        {
          "output_type": "stream",
          "name": "stdout",
          "text": [
            "Digite uma frase: Oi, amor da minha vida\n",
            "A frase possui 4 a's.\n",
            "A letra 'a' aparece pela primeira vez na posição 5.\n"
          ]
        }
      ]
    },
    {
      "cell_type": "markdown",
      "source": [
        "**Desafio 27** - Faça um programa que leia um nome completo de uma pessoa e mostre em seguida o primeiro nome e o último nome, separadamente."
      ],
      "metadata": {
        "id": "8rO2q0XvYT-O"
      }
    },
    {
      "cell_type": "code",
      "source": [
        "NomeCompleto = input('Digite seu nome completo: ')\n",
        "nomes = NomeCompleto.split()\n",
        "ultimo = len(nomes)\n",
        "\n",
        "print('Primeiro nome: ',nomes[0])\n",
        "print('Último nome: ',nomes[ultimo-1])"
      ],
      "metadata": {
        "colab": {
          "base_uri": "https://localhost:8080/"
        },
        "id": "2w_uKO-6YrOl",
        "outputId": "9a4232c2-7151-47a2-ee2a-4420094a5bc2"
      },
      "execution_count": null,
      "outputs": [
        {
          "output_type": "stream",
          "name": "stdout",
          "text": [
            "Digite seu nome completo: Thiago dos Reis André\n",
            "Primeiro nome:  Thiago\n",
            "Último nome:  André\n"
          ]
        }
      ]
    }
  ]
}