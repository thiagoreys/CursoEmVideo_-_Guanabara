{
  "nbformat": 4,
  "nbformat_minor": 0,
  "metadata": {
    "colab": {
      "provenance": [],
      "include_colab_link": true
    },
    "kernelspec": {
      "name": "python3",
      "display_name": "Python 3"
    },
    "language_info": {
      "name": "python"
    }
  },
  "cells": [
    {
      "cell_type": "markdown",
      "metadata": {
        "id": "view-in-github",
        "colab_type": "text"
      },
      "source": [
        "<a href=\"https://colab.research.google.com/github/thiagoreys123/Curso_Python_Guanabara/blob/main/7_For.ipynb\" target=\"_parent\"><img src=\"https://colab.research.google.com/assets/colab-badge.svg\" alt=\"Open In Colab\"/></a>"
      ]
    },
    {
      "cell_type": "code",
      "execution_count": null,
      "metadata": {
        "colab": {
          "base_uri": "https://localhost:8080/"
        },
        "id": "Btz1HyUWRRWT",
        "outputId": "57b57aeb-d16f-4b8f-a126-09722a292727"
      },
      "outputs": [
        {
          "output_type": "stream",
          "name": "stdout",
          "text": [
            "10\n",
            "9\n",
            "8\n",
            "7\n",
            "6\n",
            "5\n",
            "4\n",
            "3\n",
            "2\n",
            "1\n",
            "0\n"
          ]
        }
      ],
      "source": [
        "# DESAFIO 46 - Contagem Regressiva\n",
        "\n",
        "import time\n",
        "for c in range(10,-1,-1):\n",
        "  print(c)\n",
        "  time.sleep(1)"
      ]
    },
    {
      "cell_type": "code",
      "source": [
        "# DESAFIO 47 - Contagem de Pares\n",
        "\n",
        "for c in range(2,51,2):\n",
        "    if c != 50:\n",
        "      print(c, end =', ')\n",
        "    else:\n",
        "      print(c, end ='.')"
      ],
      "metadata": {
        "colab": {
          "base_uri": "https://localhost:8080/"
        },
        "id": "lk1mrJXtAMUD",
        "outputId": "5127eaaf-b34e-4344-af60-913044e14e06"
      },
      "execution_count": null,
      "outputs": [
        {
          "output_type": "stream",
          "name": "stdout",
          "text": [
            "2, 4, 6, 8, 10, 12, 14, 16, 18, 20, 22, 24, 26, 28, 30, 32, 34, 36, 38, 40, 42, 44, 46, 48, 50."
          ]
        }
      ]
    },
    {
      "cell_type": "code",
      "source": [
        "# DESAFIO 48 - Soma Ímpares Múltiplos de 3\n",
        "\n",
        "s = 0\n",
        "for c in range(1,501,2):\n",
        "  if c % 3 == 0:\n",
        "    s += c\n",
        "print(s)\n"
      ],
      "metadata": {
        "colab": {
          "base_uri": "https://localhost:8080/"
        },
        "id": "ieMhhzyCAd6C",
        "outputId": "ecbbc87b-59c1-443d-9935-baf63ddabdd1"
      },
      "execution_count": null,
      "outputs": [
        {
          "output_type": "stream",
          "name": "stdout",
          "text": [
            "20667\n"
          ]
        }
      ]
    },
    {
      "cell_type": "code",
      "source": [
        "# DESAFIO 49 - Tabuada v2.0\n",
        "\n",
        "n = int(input('Tabuada do '))\n",
        "\n",
        "for c in range(1,11):\n",
        "  print(f'{n} x {c} = {n*c}')\n"
      ],
      "metadata": {
        "colab": {
          "base_uri": "https://localhost:8080/"
        },
        "id": "JoOb67UuB-uD",
        "outputId": "c2c1300b-4be7-4d42-9a5c-cc0fdcde3b38"
      },
      "execution_count": null,
      "outputs": [
        {
          "output_type": "stream",
          "name": "stdout",
          "text": [
            "Tabuada do 9\n",
            "9 x 1 = 9\n",
            "9 x 2 = 18\n",
            "9 x 3 = 27\n",
            "9 x 4 = 36\n",
            "9 x 5 = 45\n",
            "9 x 6 = 54\n",
            "9 x 7 = 63\n",
            "9 x 8 = 72\n",
            "9 x 9 = 81\n",
            "9 x 10 = 90\n"
          ]
        }
      ]
    },
    {
      "cell_type": "code",
      "source": [
        "# DESAFIO 50 - Soma dos Pares\n",
        "\n",
        "n = []\n",
        "s = 0\n",
        "\n",
        "print('Digite 6 números inteiros:\\n')\n",
        "for c in range(0,6):\n",
        "  a = int(input())\n",
        "  n.append(a)\n",
        "  if n[c] % 2 == 0:\n",
        "    s += n[c]\n",
        "\n",
        "print('Soma dos números pares: ',s)"
      ],
      "metadata": {
        "colab": {
          "base_uri": "https://localhost:8080/"
        },
        "id": "UJu5zuWyDdq7",
        "outputId": "e19a220f-d914-4bbe-ea1b-c435dad4782b"
      },
      "execution_count": null,
      "outputs": [
        {
          "output_type": "stream",
          "name": "stdout",
          "text": [
            "Digite 6 números inteiros:\n",
            "\n",
            "4\n",
            "6\n",
            "7\n",
            "9\n",
            "1\n",
            "3\n",
            "Soma dos números pares:  10\n"
          ]
        }
      ]
    },
    {
      "cell_type": "code",
      "source": [
        "# DESAFIO 51 - Progressão Aritmética\n",
        "\n",
        "n = int(input('Primeiro termo da PA: '))\n",
        "r = int(input('Razão da PA: '))\n",
        "\n",
        "for c in range(0,10):\n",
        "  if c != 9:\n",
        "    print(n, end = ', ')\n",
        "  else:\n",
        "    print(n, end = '.')\n",
        "  n += r\n"
      ],
      "metadata": {
        "colab": {
          "base_uri": "https://localhost:8080/"
        },
        "id": "CE5knrG_J7nf",
        "outputId": "3093dd59-24e3-40fb-a204-57226ad4c7e1"
      },
      "execution_count": null,
      "outputs": [
        {
          "output_type": "stream",
          "name": "stdout",
          "text": [
            "Primeiro termo da PA: 1\n",
            "Razão da PA: 3\n",
            "1, 4, 7, 10, 13, 16, 19, 22, 25, 28."
          ]
        }
      ]
    },
    {
      "cell_type": "code",
      "source": [
        "# Definindo tamanho de vetor\n",
        "n = [0]*6\n",
        "print(n)"
      ],
      "metadata": {
        "colab": {
          "base_uri": "https://localhost:8080/"
        },
        "id": "s8_Pc33cMvwa",
        "outputId": "b0754ceb-2e45-4d73-a533-e026861a4df0"
      },
      "execution_count": null,
      "outputs": [
        {
          "output_type": "stream",
          "name": "stdout",
          "text": [
            "[0, 0, 0, 0, 0, 0]\n"
          ]
        }
      ]
    },
    {
      "cell_type": "code",
      "source": [
        "# DESAFIO 52 - Números Primos\n",
        "\n",
        "n = int(input('Digite um numero inteiro: '))\n",
        "d = 0\n",
        "\n",
        "for c in range (1,n+1):\n",
        "  if n % c == 0:\n",
        "    d += 1\n",
        "\n",
        "if d == 2:\n",
        "  print(f'{n} É um número primo.')\n",
        "else:\n",
        "  print(f'{n} NÃO é um número primo.')"
      ],
      "metadata": {
        "colab": {
          "base_uri": "https://localhost:8080/"
        },
        "id": "vSfGMHbDNH8H",
        "outputId": "2dd52a4c-2797-4f99-a622-c59c0d3b551b"
      },
      "execution_count": null,
      "outputs": [
        {
          "output_type": "stream",
          "name": "stdout",
          "text": [
            "Digite um numero inteiro: 7\n",
            "7 É um número primo.\n"
          ]
        }
      ]
    },
    {
      "cell_type": "code",
      "source": [
        "# DESAFIO 53 - Detector de Palíndromo\n",
        "\n",
        "frase = input('Digite uma palavra ou frase qualquer: ')\n",
        "palavras = frase.split()\n",
        "frase = ''.join(palavras)\n",
        "\n",
        "if frase == frase[::-1]:\n",
        "  print('É um palíndromo.')\n",
        "else:\n",
        "  print('Não é um palíndromo.')\n"
      ],
      "metadata": {
        "colab": {
          "base_uri": "https://localhost:8080/"
        },
        "id": "CzMSs1iug7ch",
        "outputId": "e28fddb3-dbc7-4ae2-9f66-1a3a87fddf4a"
      },
      "execution_count": null,
      "outputs": [
        {
          "output_type": "stream",
          "name": "stdout",
          "text": [
            "Digite uma palavra ou frase qualquer: anotaram a data da maratona\n",
            "É um palíndromo.\n"
          ]
        }
      ]
    },
    {
      "cell_type": "code",
      "source": [
        "# DESAFIO 54 - Grupo da Maioridade\n",
        "from datetime import date\n",
        "\n",
        "n = int(input('Quantas pessoas deseja verificar? '))\n",
        "M = 0\n",
        "m = 0\n",
        "\n",
        "for c in range(0,n):\n",
        "  ano = int(input(f'Ano de nascimento da {c+1}° pessoa: '))\n",
        "  idade = date.today().year - ano\n",
        "  if idade >= 18:\n",
        "    M += 1\n",
        "  else:\n",
        "    m += 1\n",
        "\n",
        "print('_____________________________')\n",
        "if M == 1:\n",
        "  print(f'{M} já atingiu a maioridade.')\n",
        "else:\n",
        "  print(f'{M} já atingiram a maioridade.')\n",
        "if m == 1:\n",
        "  print(f'{m} ainda é de menoridade.')\n",
        "else:\n",
        "  print(f'{m} ainda são de menoridade.')\n"
      ],
      "metadata": {
        "colab": {
          "base_uri": "https://localhost:8080/"
        },
        "id": "jfm7ZRzZjlfR",
        "outputId": "05eea0f8-19e6-43b9-b5ea-50d183822286"
      },
      "execution_count": null,
      "outputs": [
        {
          "output_type": "stream",
          "name": "stdout",
          "text": [
            "Quantas pessoas deseja verificar? 7\n",
            "Ano de nascimento da 1° pessoa: 2000\n",
            "Ano de nascimento da 2° pessoa: 2003\n",
            "Ano de nascimento da 3° pessoa: 1995\n",
            "Ano de nascimento da 4° pessoa: 1998\n",
            "Ano de nascimento da 5° pessoa: 2004\n",
            "Ano de nascimento da 6° pessoa: 2005\n",
            "Ano de nascimento da 7° pessoa: 2006\n",
            "_____________________________\n",
            "5 já atingiram a maioridade.\n",
            "2 ainda são de menoridade.\n"
          ]
        }
      ]
    },
    {
      "cell_type": "code",
      "source": [
        "# DESAFIO 55 - Maior e Menor da Sequência\n",
        "\n",
        "for c in range(1,6):\n",
        "  peso = float(input(f'Peso da {c}ª pessoa: '))\n",
        "  if c == 1:\n",
        "    maior = peso\n",
        "    menor = peso\n",
        "  else:\n",
        "    if peso > maior:\n",
        "      maior = peso\n",
        "    if peso < menor:\n",
        "      menor = peso\n",
        "print(f'Maior peso: {maior}kg')\n",
        "print(f'Menor peso: {menor}kg')"
      ],
      "metadata": {
        "colab": {
          "base_uri": "https://localhost:8080/"
        },
        "id": "ZXGjWCRg8l9U",
        "outputId": "9a0e5f2f-575c-4816-c9e7-832b153b460e"
      },
      "execution_count": null,
      "outputs": [
        {
          "output_type": "stream",
          "name": "stdout",
          "text": [
            "Peso da 1ª pessoa: 70\n",
            "Peso da 2ª pessoa: 75\n",
            "Peso da 3ª pessoa: 83.4\n",
            "Peso da 4ª pessoa: 62.7\n",
            "Peso da 5ª pessoa: 48\n",
            "Maior peso: 83.4kg\n",
            "Menor peso: 48.0kg\n"
          ]
        }
      ]
    },
    {
      "cell_type": "code",
      "source": [
        "# DESAFIO 55 - Maior e Menor com Listas\n",
        "\n",
        "pesos = []\n",
        "n = int(input('Quantos pesos deseja analisar? '))\n",
        "\n",
        "print('Digite os pesos:')\n",
        "for c in range (0,n):\n",
        "  a = float(input())\n",
        "  pesos.append(a)\n",
        "\n",
        "pesos.sort()\n",
        "print(f'Maior peso: {pesos[n-1]}kg')\n",
        "print(f'Menor peso: {pesos[0]}kg')\n"
      ],
      "metadata": {
        "colab": {
          "base_uri": "https://localhost:8080/"
        },
        "id": "yO4aXZf8nnxq",
        "outputId": "ddddab70-bbd6-48cb-ec9b-ffd0abccc9bb"
      },
      "execution_count": null,
      "outputs": [
        {
          "output_type": "stream",
          "name": "stdout",
          "text": [
            "Quantos pesos deseja analisar? 5\n",
            "Digite os pesos:\n",
            "75\n",
            "84\n",
            "66\n",
            "93\n",
            "72\n",
            "Maior peso: 93.0kg\n",
            "Menor peso: 66.0kg\n"
          ]
        }
      ]
    },
    {
      "cell_type": "code",
      "source": [
        "# DESAFIO 56 - Analisador Completo\n",
        "\n",
        "media = 0\n",
        "novinhas = 0\n",
        "\n",
        "for c in range(1,5):\n",
        "  print(f'PESSOA {c}')\n",
        "  nome = str(input('Nome: ')).strip().title()\n",
        "  idade = int(input('Idade: '))\n",
        "  sexo = str(input('Sexo (M/F): ')).upper()\n",
        "\n",
        "  media += idade/4\n",
        "  if sexo == 'M':\n",
        "    print('Masculino.')\n",
        "    if c == 1:\n",
        "      MaisVelho = nome\n",
        "      MaiorIdade = idade\n",
        "    else:\n",
        "      if idade > MaiorIdade:\n",
        "        MaisVelho = nome\n",
        "        MaiorIdade = idade\n",
        "  elif sexo == 'F':\n",
        "    print('Feminino.')\n",
        "    if idade < 20:\n",
        "      novinhas += 1\n",
        "  else:\n",
        "    print('Sexo indefinido.')\n",
        "  print('\\n')\n",
        "\n",
        "print(f'Média da idade do grupo: {media:.1f} anos')\n",
        "print(f'O homem mais velho tem {MaiorIdade} e se chama {MaisVelho}.')\n",
        "if novinhas == 0: print('Nenhuma mulher tem menos de 20 anos.')\n",
        "if novinhas == 1: print('Apenas uma mulher tem menos de 20 anos.')\n",
        "if novinhas > 1: print(f'{novinhas} mulheres tem menos de 20 anos.')"
      ],
      "metadata": {
        "colab": {
          "base_uri": "https://localhost:8080/"
        },
        "id": "CBt4_Dn3BHlb",
        "outputId": "e5b53194-a93c-4687-e7ed-6ddebb32d8e9"
      },
      "execution_count": null,
      "outputs": [
        {
          "output_type": "stream",
          "name": "stdout",
          "text": [
            "PESSOA 1\n",
            "Nome: thiago reis\n",
            "Idade: 24\n",
            "Sexo (M/F): m\n",
            "Masculino.\n",
            "\n",
            "\n",
            "PESSOA 2\n",
            "Nome: euller dos santos\n",
            "Idade: 22\n",
            "Sexo (M/F): m\n",
            "Masculino.\n",
            "\n",
            "\n",
            "PESSOA 3\n",
            "Nome: deborah silva\n",
            "Idade: 19\n",
            "Sexo (M/F): trans\n",
            "Sexo indefinido.\n",
            "\n",
            "\n",
            "PESSOA 4\n",
            "Nome: eduarda santos\n",
            "Idade: 21\n",
            "Sexo (M/F): f\n",
            "Feminino.\n",
            "\n",
            "\n",
            "Média da idade do grupo: 21.5 anos\n",
            "O homem mais velho tem 24 e se chama Thiago Reis.\n",
            "Nenhuma mulher tem menos de 20 anos.\n"
          ]
        }
      ]
    },
    {
      "cell_type": "code",
      "source": [
        "# DESAFIO 56 - Analisador Completo com Listas\n",
        "\n",
        "n = int(input('Quantas pessoas deseja analisar? '))\n",
        "nomes = []\n",
        "idades = []\n",
        "sexos = []\n",
        "media = 0\n",
        "\n",
        "for c in range(0,n):\n",
        "  print('\\n')\n",
        "  print(f'PESSOA {c+1}')\n",
        "  nome = input('Nome: ').strip().title()\n",
        "  nomes.append(nome)\n",
        "  idade = int(input('Idade: '))\n",
        "  idades.append(idade)\n",
        "  media += idades[c]/n\n",
        "  sexo = input('Sexo(M/F): ').upper()\n",
        "  sexos.append(sexo)\n",
        "  if sexos[c] != 'M' and sexos[c] != 'F':\n",
        "    print('Sexo indefinido.')\n",
        "\n",
        "\n",
        "MaiorIdade = idades[0]\n",
        "MaisVelho = nomes[0]\n",
        "novinhas = 0\n",
        "\n",
        "for c in range(0,n):\n",
        "  if sexos[c] == 'M':\n",
        "    if idades[c] > MaiorIdade:\n",
        "      MaisVelho = nomes[c]\n",
        "      MaiorIdade = idades[c]\n",
        "  if sexos[c] == 'F':\n",
        "     if idades[c] < 20:\n",
        "       novinhas += 1\n",
        "\n",
        "print(f'Media das idades: {media:.1f}')\n",
        "print(f'Homem mais velho é o {MaisVelho} e tem {MaiorIdade} anos.')\n",
        "if novinhas == 0: print('Nenhuma mulher tem menos de 20 anos.')\n",
        "if novinhas == 1: print('Apenas uma mulher tem menos de 20 anos.')\n",
        "if novinhas > 1: print(f'{novinhas} mulheres tem menos de 20 anos.')"
      ],
      "metadata": {
        "colab": {
          "base_uri": "https://localhost:8080/"
        },
        "id": "pf7DBkKQrQZR",
        "outputId": "ad166482-31b8-4885-a1e2-454ee11adc05"
      },
      "execution_count": null,
      "outputs": [
        {
          "output_type": "stream",
          "name": "stdout",
          "text": [
            "Quantas pessoas deseja analisar? 5\n",
            "\n",
            "\n",
            "PESSOA 1\n",
            "Nome: joão pedro\n",
            "Idade: 21\n",
            "Sexo(M/F): m\n",
            "\n",
            "\n",
            "PESSOA 2\n",
            "Nome: deborah gonçalves\n",
            "Idade: 28\n",
            "Sexo(M/F): trans\n",
            "Sexo indefinido.\n",
            "\n",
            "\n",
            "PESSOA 3\n",
            "Nome: thiago henrique\n",
            "Idade: 25\n",
            "Sexo(M/F): m\n",
            "\n",
            "\n",
            "PESSOA 4\n",
            "Nome: alice pereira\n",
            "Idade: 19\n",
            "Sexo(M/F): f\n",
            "\n",
            "\n",
            "PESSOA 5\n",
            "Nome: marcos vinicius\n",
            "Idade: 21\n",
            "Sexo(M/F): m\n",
            "Media das idades: 22.8\n",
            "Homem mais velho é o Thiago Henrique e tem 25 anos.\n",
            "Apenas uma mulher tem menos de 20 anos.\n"
          ]
        }
      ]
    }
  ]
}