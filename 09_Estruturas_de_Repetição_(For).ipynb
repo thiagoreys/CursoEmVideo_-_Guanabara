{
  "cells": [
    {
      "cell_type": "markdown",
      "metadata": {
        "id": "view-in-github",
        "colab_type": "text"
      },
      "source": [
        "<a href=\"https://colab.research.google.com/github/thiagoreys123/Curso_Python_Guanabara/blob/main/09_Estruturas_de_Repeti%C3%A7%C3%A3o_(For).ipynb\" target=\"_parent\"><img src=\"https://colab.research.google.com/assets/colab-badge.svg\" alt=\"Open In Colab\"/></a>"
      ]
    },
    {
      "cell_type": "code",
      "execution_count": null,
      "id": "52c4494e",
      "metadata": {
        "id": "52c4494e",
        "outputId": "e27281f2-4e8a-4991-e9f7-f6a942eabde2"
      },
      "outputs": [
        {
          "name": "stdout",
          "output_type": "stream",
          "text": [
            "São Paulo\n",
            "Londres\n",
            "Tóquio\n",
            "París\n"
          ]
        }
      ],
      "source": [
        "# For em Listas\n",
        "nomes_cidades = ['São Paulo', 'Londres', 'Tóquio', 'París']\n",
        "for nome in nomes_cidades:\n",
        "    print(nome)"
      ]
    },
    {
      "cell_type": "code",
      "execution_count": null,
      "id": "2286e2fb",
      "metadata": {
        "scrolled": false,
        "id": "2286e2fb",
        "outputId": "46652b0f-c0b2-48c2-a29e-229c4eb145e2"
      },
      "outputs": [
        {
          "name": "stdout",
          "output_type": "stream",
          "text": [
            "São Paulo\n",
            "Londres\n",
            "Tóquio\n",
            "París\n"
          ]
        }
      ],
      "source": [
        "# While\n",
        "contador = 0\n",
        "nomes_cidades = ['São Paulo', 'Londres', 'Tóquio', 'París']\n",
        "while contador < len(nomes_cidades):\n",
        "    print(nomes_cidades[contador])\n",
        "    contador = contador + 1"
      ]
    },
    {
      "cell_type": "code",
      "execution_count": null,
      "id": "4b5027b1",
      "metadata": {
        "id": "4b5027b1",
        "outputId": "e2fd97ff-e049-42d9-d681-b5335bc53c38"
      },
      "outputs": [
        {
          "name": "stdout",
          "output_type": "stream",
          "text": [
            "São Paulo\n",
            "Londres\n",
            "Tóquio\n",
            "París\n"
          ]
        }
      ],
      "source": [
        "# For em Tuplas\n",
        "nomes_cidades = 'São Paulo', 'Londres', 'Tóquio', 'París'\n",
        "for nome in nomes_cidades:\n",
        "    print(nome)"
      ]
    },
    {
      "cell_type": "code",
      "execution_count": null,
      "id": "5c0f9fd2",
      "metadata": {
        "id": "5c0f9fd2",
        "outputId": "f48e5577-6a10-4788-96eb-68bc7bac7672"
      },
      "outputs": [
        {
          "name": "stdout",
          "output_type": "stream",
          "text": [
            "nome: São Paulo\n",
            "estado: São Paulo\n",
            "populacao_milhoes: 12.2\n"
          ]
        }
      ],
      "source": [
        "# For em Dicionários\n",
        "cidade = {\n",
        "    'nome': 'São Paulo',\n",
        "    'estado': 'São Paulo',\n",
        "    'populacao_milhoes': 12.2\n",
        "}\n",
        "for chave in cidade:\n",
        "    print (f'{chave}: {cidade[chave]}')\n"
      ]
    },
    {
      "cell_type": "code",
      "execution_count": null,
      "id": "8f0c5edf",
      "metadata": {
        "id": "8f0c5edf",
        "outputId": "2261b63a-04e1-4491-f5d4-e20563822451"
      },
      "outputs": [
        {
          "name": "stdout",
          "output_type": "stream",
          "text": [
            "Rio de Janeiro\n",
            "Rio de Janeiro\n",
            "Rio de Janeiro\n",
            "Rio de Janeiro\n",
            "['Rio de Janeiro', 'Rio de Janeiro', 'Rio de Janeiro', 'Rio de Janeiro']\n"
          ]
        }
      ],
      "source": [
        "# Alterar valores da lista\n",
        "nomes_cidades = ['São Paulo', 'Londres', 'Tóquio', 'París']\n",
        "\n",
        "for nome in nomes_cidades:\n",
        "    nome = 'Rio de Janeiro'\n",
        "    print(nome)\n",
        "\n",
        "for posicao in range(len(nomes_cidades)):\n",
        "    nomes_cidades[posicao] = 'Rio de Janeiro'\n",
        "print(nomes_cidades)"
      ]
    },
    {
      "cell_type": "code",
      "execution_count": null,
      "id": "a304693d",
      "metadata": {
        "id": "a304693d"
      },
      "outputs": [],
      "source": [
        "# Segundo a aula, o primeiro método era pra da errado. Porém, como pode ser visto, deu certo, só que de uma forma diferente."
      ]
    },
    {
      "cell_type": "code",
      "execution_count": null,
      "id": "21435c72",
      "metadata": {
        "id": "21435c72",
        "outputId": "e28ddb02-c1b9-45d9-e336-1be536bf928c"
      },
      "outputs": [
        {
          "name": "stdout",
          "output_type": "stream",
          "text": [
            "[0, 1, 2, 3, 4, 5, 6, 7, 8, 9]\n",
            "[2, 3, 4, 5, 6, 7, 8, 9]\n",
            "[2, 4, 6, 8]\n",
            "[10, 9, 8, 7, 6, 5, 4, 3, 2, 1]\n"
          ]
        }
      ],
      "source": [
        "# Função Range (Gera listas)\n",
        "print(list(range(10)))\n",
        "print(list(range(2,10)))\n",
        "print(list(range(2,10,2)))\n",
        "print(list(range(10,0,-1)))"
      ]
    },
    {
      "cell_type": "code",
      "execution_count": null,
      "id": "4c3809e2",
      "metadata": {
        "id": "4c3809e2"
      },
      "outputs": [],
      "source": []
    }
  ],
  "metadata": {
    "kernelspec": {
      "display_name": "Python 3 (ipykernel)",
      "language": "python",
      "name": "python3"
    },
    "language_info": {
      "codemirror_mode": {
        "name": "ipython",
        "version": 3
      },
      "file_extension": ".py",
      "mimetype": "text/x-python",
      "name": "python",
      "nbconvert_exporter": "python",
      "pygments_lexer": "ipython3",
      "version": "3.10.5"
    },
    "colab": {
      "provenance": [],
      "include_colab_link": true
    }
  },
  "nbformat": 4,
  "nbformat_minor": 5
}