{
  "nbformat": 4,
  "nbformat_minor": 0,
  "metadata": {
    "colab": {
      "provenance": [],
      "authorship_tag": "ABX9TyM7Oy9Ea/SSthhvUTcwIvb0",
      "include_colab_link": true
    },
    "kernelspec": {
      "name": "python3",
      "display_name": "Python 3"
    },
    "language_info": {
      "name": "python"
    }
  },
  "cells": [
    {
      "cell_type": "markdown",
      "metadata": {
        "id": "view-in-github",
        "colab_type": "text"
      },
      "source": [
        "<a href=\"https://colab.research.google.com/github/thiagoreys123/Curso_Python_Guanabara/blob/main/6_Condi%C3%A7%C3%B5es_Aninhadas.ipynb\" target=\"_parent\"><img src=\"https://colab.research.google.com/assets/colab-badge.svg\" alt=\"Open In Colab\"/></a>"
      ]
    },
    {
      "cell_type": "code",
      "execution_count": null,
      "metadata": {
        "id": "utF29BNWTOqJ",
        "colab": {
          "base_uri": "https://localhost:8080/"
        },
        "outputId": "4846df7a-471c-4d62-ec20-7da035a6c4bb"
      },
      "outputs": [
        {
          "output_type": "stream",
          "name": "stdout",
          "text": [
            "Qual é seu nome? Safira\n",
            "Seu nome é bem diferente.\n"
          ]
        }
      ],
      "source": [
        "nome = input('Qual é seu nome? ')\n",
        "\n",
        "if nome == 'Thiago':\n",
        "  print('Que nome bonito.')\n",
        "elif nome == 'Pedro' or nome == 'Maria':\n",
        "  print('Seu nome é bem comum.')\n",
        "elif nome in 'Safira Bernardo Abimael':\n",
        "  print('Seu nome é bem diferente.')\n",
        "else:\n",
        "  print('Seu nome é normal.')\n"
      ]
    },
    {
      "cell_type": "code",
      "source": [
        "# DESAFIO 36 - Aprovando Empréstimo\n",
        "\n",
        "casa = float(input('Qual o valor da casa? R$'))\n",
        "salario = float(input('Qual o salário do comprador? R$'))\n",
        "anos = float(input('Em quantos anos ele quer pagar? '))\n",
        "\n",
        "parcela = casa/(anos*12)\n",
        "\n",
        "if parcela <= salario * 0.30:\n",
        "  print(f'Empréstimo aprovado. Sua parcela mensal será de R${parcela:.2f}')\n",
        "else:\n",
        "  print(f'Empréstimo negado. A parcela excede o limite de 30% do seu salário.')"
      ],
      "metadata": {
        "colab": {
          "base_uri": "https://localhost:8080/"
        },
        "id": "wrK1U3KzeSes",
        "outputId": "fc361fa5-9a4b-4c46-ddd8-25b50c88bdf6"
      },
      "execution_count": null,
      "outputs": [
        {
          "output_type": "stream",
          "name": "stdout",
          "text": [
            "Qual o valor da casa? R$100000\n",
            "Qual o salário do comprador? R$1500\n",
            "Em quantos anos ele quer pagar? 20\n",
            "Empréstimo aprovado. Sua parcela mensal será de R$416.67\n"
          ]
        }
      ]
    },
    {
      "cell_type": "code",
      "source": [
        "# DESAFIO 37 - Conversor de Bases Numéricas\n",
        "\n",
        "n = int(input('Digite um número inteiro qualquer de base decimal: '))\n",
        "print(\"\"\"Para qual base deseja converte-lo?\n",
        "1 - Binário\n",
        "2 - Octal\n",
        "3 - Hexadecimal\"\"\")\n",
        "base = input()\n",
        "\n",
        "if base == '1':\n",
        "  print(f'{n} em binário é: {bin(n)[2:]}')\n",
        "elif base == '2':\n",
        "  print(f'{n} em octal é: {oct(n)[2:]}')\n",
        "elif base == '3':\n",
        "  print(f'{n} em hexadecimal: {hex(n)[2:]}')\n",
        "else:\n",
        "  print('Opção Inválida, tente novamente.')"
      ],
      "metadata": {
        "colab": {
          "base_uri": "https://localhost:8080/"
        },
        "id": "jQ4nsuMMlZjB",
        "outputId": "1ebe0478-b5e7-4ce7-bc61-5ea640d145df"
      },
      "execution_count": null,
      "outputs": [
        {
          "output_type": "stream",
          "name": "stdout",
          "text": [
            "Digite um número inteiro qualquer de base decimal: 22\n",
            "Para qual base deseja converte-lo?\n",
            "1 - Binário\n",
            "2 - Octal\n",
            "3 - Hexadecimal\n",
            "3\n",
            "22 em hexadecimal: 16\n"
          ]
        }
      ]
    },
    {
      "cell_type": "code",
      "source": [
        "# Conversor Binário 'Raiz' (Extra)\n",
        "\n",
        "n = int(input('Digite um número inteiro qualquer de base decimal: '))\n",
        "binario = ''\n",
        "\n",
        "while n >= 2:\n",
        "  binario += str(n % 2)\n",
        "  n = n // 2\n",
        "\n",
        "binario += str(n)\n",
        "print('O número em binário é:',binario[::-1])"
      ],
      "metadata": {
        "id": "6MD2xLy-jJ3L",
        "colab": {
          "base_uri": "https://localhost:8080/"
        },
        "outputId": "172fa17d-cee9-4a1a-d36c-ed3f5097fac9"
      },
      "execution_count": null,
      "outputs": [
        {
          "output_type": "stream",
          "name": "stdout",
          "text": [
            "Digite um número inteiro qualquer de base decimal: 10\n",
            "O número em binário é: 1010\n"
          ]
        }
      ]
    },
    {
      "cell_type": "code",
      "source": [
        "# DESAFIO 38 - Comparando números\n",
        "\n",
        "print('Digite dois números inteiros: ')\n",
        "n1 = int(input())\n",
        "n2 = int(input())\n",
        "\n",
        "if n1 > n2:\n",
        "  print(\"O primeiro valor é maior.\")\n",
        "elif n1 < n2:\n",
        "  print(\"O segundo valor é maior.\")\n",
        "else:\n",
        "  print(\"Os valores são iguais.\")"
      ],
      "metadata": {
        "colab": {
          "base_uri": "https://localhost:8080/"
        },
        "id": "UTTUodIEI8Qh",
        "outputId": "3dbfde8e-bfa6-40a9-f4ad-096487591980"
      },
      "execution_count": null,
      "outputs": [
        {
          "output_type": "stream",
          "name": "stdout",
          "text": [
            "Digite dois números inteiros: \n",
            "7\n",
            "7\n",
            "Os valores são iguais.\n"
          ]
        }
      ]
    },
    {
      "cell_type": "code",
      "source": [
        "# DESAFIO 39 - Alistamento Militar\n",
        "\n",
        "idade = int(input('Digite a sua idade: '))\n",
        "\n",
        "if idade < 18:\n",
        "  print('Você ainda não tem idade suficiente para se alistar no serviço militar.')\n",
        "  if 18 - idade == 1:\n",
        "    print('Falta 1 ano.')\n",
        "  else:\n",
        "    print(f'Falta {18 - idade} anos.')\n",
        "elif idade == 18:\n",
        "  print('Você já está na idade de se alistar no serviço militar.')\n",
        "  print('Procure a Junta Militar mais próxima ou acesso o site, para fazer seu alistamento.')\n",
        "\n",
        "elif idade > 18:\n",
        "  if idade - 18 == 1:\n",
        "    print('Você já passou 1 ano da idade para o alistamento militar.')\n",
        "  else:\n",
        "    print(f'Você já passou {idade - 18} anos da idade para o alistamento militar.')\n",
        "\n",
        "else:\n",
        "  print('Idade Inválida. Tente Novamente.')"
      ],
      "metadata": {
        "colab": {
          "base_uri": "https://localhost:8080/"
        },
        "id": "jwnV0DWWLC9B",
        "outputId": "3d6e0bff-196c-419a-9e11-d3f964cc27bd"
      },
      "execution_count": null,
      "outputs": [
        {
          "output_type": "stream",
          "name": "stdout",
          "text": [
            "Digite a sua idade: 24\n",
            "Você já passou 6 anos da idade para o alistamento militar.\n"
          ]
        }
      ]
    },
    {
      "cell_type": "code",
      "source": [
        "# DESAFIO 40 - Aquele Clássico da Média\n",
        "\n",
        "n1 = float(input('Primeira Nota: '))\n",
        "n2 = float(input('Segunda Nota: '))\n",
        "\n",
        "media = (n1 + n2) / 2\n",
        "print(f'Média do aluno: {media}')\n",
        "\n",
        "if media < 5:\n",
        "  print('8\\033[31mREPROVADO\\033[0m.')\n",
        "elif 5 <= media < 7:\n",
        "  print('\\033[33mRECUPERAÇÃO\\033[0m.')\n",
        "else:\n",
        "  print('\\033[32mAPROVADO\\033[0m.')"
      ],
      "metadata": {
        "colab": {
          "base_uri": "https://localhost:8080/"
        },
        "id": "pBTs8ZxgPpu6",
        "outputId": "07cbf4b2-539c-49bd-c2fd-65ef00c20dc1"
      },
      "execution_count": null,
      "outputs": [
        {
          "output_type": "stream",
          "name": "stdout",
          "text": [
            "Primeira Nota: 7\n",
            "Segunda Nota: 8\n",
            "Média do aluno: 7.5\n",
            "\u001b[32mAPROVADO\u001b[0m.\n"
          ]
        }
      ]
    },
    {
      "cell_type": "code",
      "source": [
        "# DESAFIO 40 - Classificando Atletas\n",
        "\n",
        "ano = int(input('Ano de nascimento do atleta: '))\n",
        "\n",
        "idade = 2022 - ano\n",
        "\n",
        "if idade <= 9:\n",
        "  print('Categoria: Mirim')\n",
        "elif idade <= 14:\n",
        "  print('Categoria: Infantil')\n",
        "elif idade <= 19:\n",
        "  print('Categoria: Junior')\n",
        "elif idade <= 20:\n",
        "  print('Categoria: Seniôr')\n",
        "else:\n",
        "  print('Categoria: Master')"
      ],
      "metadata": {
        "colab": {
          "base_uri": "https://localhost:8080/"
        },
        "id": "kSwoLgujWFeb",
        "outputId": "55229486-ef75-41cd-b21a-22ac1671834a"
      },
      "execution_count": null,
      "outputs": [
        {
          "output_type": "stream",
          "name": "stdout",
          "text": [
            "Ano de nascimento do atleta: 2004\n",
            "Categoria: Junior\n"
          ]
        }
      ]
    },
    {
      "cell_type": "code",
      "source": [
        "# DESAFIO 42 - Analisando Triângulos v2.0\n",
        "\n",
        "a = float(input('Digite o comprimento de 3 segmentos de reta (sem as unidades de medidas):\\n'))\n",
        "b = float(input())\n",
        "c = float(input())\n",
        "\n",
        "if a < b + c and b < a + c and c < b + a:\n",
        "  if a == b == c:\n",
        "    print('É possível formar um Triângulo Equilátero.')\n",
        "  elif a == b or b == c or c == a:\n",
        "    print('É possível formar um Triângulo Isósceles.')\n",
        "  else:\n",
        "    print('É possível formar um Triângulo Escaleno.')\n",
        "else:\n",
        "  print('Não é possível formar um triângulo.')\n",
        "\n"
      ],
      "metadata": {
        "colab": {
          "base_uri": "https://localhost:8080/"
        },
        "id": "7vNt7jSEpqVJ",
        "outputId": "aa42e645-9ebb-4406-e838-78391fd0d8dd"
      },
      "execution_count": null,
      "outputs": [
        {
          "output_type": "stream",
          "name": "stdout",
          "text": [
            "Digite o comprimento de 3 segmentos de reta (sem as unidades de medidas):\n",
            "4\n",
            "5\n",
            "6\n",
            "É possível formar um Triângulo Escaleno.\n"
          ]
        }
      ]
    },
    {
      "cell_type": "code",
      "source": [
        "# DESAFIO 43 - IMC\n",
        "\n",
        "p = float(input('Peso (kg): '))\n",
        "h = float(input('Altura (m): '))\n",
        "\n",
        "imc = p/(h**2)\n",
        "print(f'IMC: {imc:.2f}')\n",
        "\n",
        "if imc < 18.5:\n",
        "  print('Situação: Abaixo do peso.')\n",
        "elif 18.5 <= imc < 25:\n",
        "  print('Situação: Peso Ideal.')\n",
        "elif 25 <= imc < 30:\n",
        "  print('Situação: Sobrepeso.')\n",
        "elif 30 <= imc <= 40:\n",
        "  print('Situação: Obesidade.')\n",
        "elif imc > 40:\n",
        "  print('Situação: Obesidade mórbida.')\n",
        "else:\n",
        "  print('Dados inválidos, tente novamente.')"
      ],
      "metadata": {
        "colab": {
          "base_uri": "https://localhost:8080/"
        },
        "id": "Vx-D0l3AtBgR",
        "outputId": "4523ce09-b8dc-4e57-97cf-09606f836338"
      },
      "execution_count": null,
      "outputs": [
        {
          "output_type": "stream",
          "name": "stdout",
          "text": [
            "Peso (kg): 85\n",
            "Altura (m): 1.69\n",
            "IMC: 29.76\n",
            "Situação: Sobrepeso.\n"
          ]
        }
      ]
    },
    {
      "cell_type": "code",
      "source": [
        "# DESAFIO 44 - Gerenciador de Pagamentos\n",
        "\n",
        "preco = float(input('Preço do produto: R$'))\n",
        "print(\"\"\"Condição de pagamento:\n",
        "1 - À vista no dinheiro/cheque (10% de desconto)\n",
        "2 - À vista no cartão (5% de desconto)\n",
        "3 - Parcelado em até 2x (preço normal)\n",
        "4 - Parcelado em 3x ou mais (20% de juros)\"\"\")\n",
        "cond = int(input())\n",
        "\n",
        "if cond == 1:\n",
        "  print('Preço a ser pago: R$', preco * 0.90)\n",
        "elif cond == 2:\n",
        "  print('Preço a ser pago: R$', preco * 0.95)\n",
        "elif cond == 3:\n",
        "  print('Preço a ser pago: R$', preco)\n",
        "elif cond == 4:\n",
        "  print('Preco a ser pago: R$', preco * 1.20)\n",
        "else:\n",
        "  print('Condição indefinida.')"
      ],
      "metadata": {
        "colab": {
          "base_uri": "https://localhost:8080/"
        },
        "id": "oumPW5c9whZf",
        "outputId": "549dce85-44c5-40ee-ea4e-221229fc272f"
      },
      "execution_count": null,
      "outputs": [
        {
          "output_type": "stream",
          "name": "stdout",
          "text": [
            "Preço do produto: R$100\n",
            "Condição de pagamento:\n",
            "1 - À vista no dinheiro/cheque (10% de desconto)\n",
            "2 - À vista no cartão (5% de desconto)\n",
            "3 - Parcelado em até 2x (preço normal)\n",
            "4 - Parcelado em 3x ou mais (20% de juros)\n",
            "4\n",
            "Preco a ser pago: R$ 120.0\n"
          ]
        }
      ]
    },
    {
      "cell_type": "code",
      "source": [
        "# DESAFIO 45 - Jokenpô\n",
        "from random import randint\n",
        "\n",
        "print('BEM-VINDO AO JOKENPÔ VIRTUAL')\n",
        "print('-=-=-=-'*4)\n",
        "\n",
        "print(\"\"\"O que você quer jogar?\n",
        "1 - PEDRA\n",
        "2 - PAPEL\n",
        "3 - TESOURA\n",
        "\"\"\")\n",
        "j = int(input())\n",
        "pc = randint(1,3)\n",
        "objetos =['PEDRA','PAPEL','TESOURA']\n",
        "\n",
        "if 1 <= j <=3:\n",
        "  if j == pc:\n",
        "    print(f'Empatamos, nós escolhemos {objetos[j-1]}.')\n",
        "    print('Não desanime, tente novamente.')\n",
        "  elif j+1 == pc or j-2 == pc:\n",
        "    print('Eu ganhei!')\n",
        "    print(f'Você escolheu {objetos[j-1]} e eu escolhi {objetos[pc-1]}.')\n",
        "    print('Não desanime, tente novamente.')\n",
        "  else:\n",
        "    print('Parabêns, VOCÊ GANHOU!!')\n",
        "    print(f'Você escolheu {objetos[j-1]} e eu escolhi {objetos[pc-1]}.')\n",
        "else:\n",
        "  print('Escolha inválida, tente novamente.')"
      ],
      "metadata": {
        "colab": {
          "base_uri": "https://localhost:8080/"
        },
        "id": "1h6v7PxH0SVj",
        "outputId": "25c8f476-40e6-4e89-b890-548841df4a9c"
      },
      "execution_count": null,
      "outputs": [
        {
          "output_type": "stream",
          "name": "stdout",
          "text": [
            "BEM-VINDO AO JOKENPÔ VIRTUAL\n",
            "-=-=-=--=-=-=--=-=-=--=-=-=-\n",
            "O que você quer jogar?\n",
            "1 - PEDRA\n",
            "2 - PAPEL\n",
            "3 - TESOURA\n",
            "\n",
            "2\n",
            "Parabêns, VOCÊ GANHOU!!\n",
            "Você escolheu PAPEL e eu escolhi PEDRA.\n"
          ]
        }
      ]
    }
  ]
}