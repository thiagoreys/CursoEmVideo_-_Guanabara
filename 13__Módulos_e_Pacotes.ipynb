{
  "nbformat": 4,
  "nbformat_minor": 0,
  "metadata": {
    "colab": {
      "provenance": [],
      "include_colab_link": true
    },
    "kernelspec": {
      "name": "python3",
      "display_name": "Python 3"
    },
    "language_info": {
      "name": "python"
    }
  },
  "cells": [
    {
      "cell_type": "markdown",
      "metadata": {
        "id": "view-in-github",
        "colab_type": "text"
      },
      "source": [
        "<a href=\"https://colab.research.google.com/github/thiagoreys123/Curso_Python_Guanabara/blob/main/13_M%C3%B3dulos_e_Pacotes.ipynb\" target=\"_parent\"><img src=\"https://colab.research.google.com/assets/colab-badge.svg\" alt=\"Open In Colab\"/></a>"
      ]
    },
    {
      "cell_type": "markdown",
      "source": [
        "# Módulos\n",
        "\n",
        "*   São utilizados para dividir um programa grande em pequenas partes (módulos).\n",
        "*   Tem como objetivo enxugar o código, para facilitar sua leitura e entendimento."
      ],
      "metadata": {
        "id": "6J7OFTLMhTow"
      }
    },
    {
      "cell_type": "markdown",
      "source": [
        "\n",
        "**1.   Crie o arquivo.py com as funções desejadas**\n",
        "\n"
      ],
      "metadata": {
        "id": "fnf5Sn2apgd4"
      }
    },
    {
      "cell_type": "code",
      "execution_count": null,
      "metadata": {
        "id": "kTaARQ07hRia"
      },
      "outputs": [],
      "source": [
        "# Crie as funções\n",
        "\n",
        "def fatorial(n):\n",
        "  f = 1\n",
        "  for c in range(n,0,-1):\n",
        "    f = f*c\n",
        "  return f\n",
        "\n",
        "def soma(*n):\n",
        "  s = sum(n)\n",
        "  return s\n",
        "\n",
        "def produto(*n):\n",
        "  p = 1\n",
        "  for c in n:\n",
        "    p *= c\n",
        "  return p\n",
        "\n",
        "def raizquad(n):\n",
        "  return n**(1/2)\n",
        "\n",
        "# Salve em um arquivo.py"
      ]
    },
    {
      "cell_type": "markdown",
      "source": [
        "**2.   Importe o arquivo para o Colab**"
      ],
      "metadata": {
        "id": "iI0srxogqEEj"
      }
    },
    {
      "cell_type": "code",
      "source": [
        "# Importando do Drive\n",
        "\n",
        "!cp /content/drive/MyDrive/Colab\\ Notebooks/modulos/operações.py /content  # !cp (endereço do arquivo) /content\n",
        "\n",
        "# Lembre-se de colocar \"\\\" nos espaços vazios."
      ],
      "metadata": {
        "id": "bPIlODnkhmFH"
      },
      "execution_count": null,
      "outputs": []
    },
    {
      "cell_type": "code",
      "source": [
        "import operações\n",
        "\n",
        "print(operações.fatorial(5))\n",
        "print(operações.soma(2,3,10))"
      ],
      "metadata": {
        "colab": {
          "base_uri": "https://localhost:8080/"
        },
        "id": "xZw_r1XHhy0x",
        "outputId": "6efebfac-0b0f-4b7c-92a7-d30896800219"
      },
      "execution_count": null,
      "outputs": [
        {
          "output_type": "stream",
          "name": "stdout",
          "text": [
            "120\n",
            "15\n"
          ]
        }
      ]
    },
    {
      "cell_type": "code",
      "source": [
        "# Importando do PC\n",
        "\n",
        "from google.colab import files\n",
        "files.upload()  # Selecione o arquivo no seu PC"
      ],
      "metadata": {
        "colab": {
          "base_uri": "https://localhost:8080/",
          "height": 214
        },
        "id": "kWjarCxylcQl",
        "outputId": "46ebbad8-cd82-4ee2-9db3-f51cb53f9394"
      },
      "execution_count": null,
      "outputs": [
        {
          "output_type": "display_data",
          "data": {
            "text/plain": [
              "<IPython.core.display.HTML object>"
            ],
            "text/html": [
              "\n",
              "     <input type=\"file\" id=\"files-d4116ff0-3640-4bb1-8259-90da625706ae\" name=\"files[]\" multiple disabled\n",
              "        style=\"border:none\" />\n",
              "     <output id=\"result-d4116ff0-3640-4bb1-8259-90da625706ae\">\n",
              "      Upload widget is only available when the cell has been executed in the\n",
              "      current browser session. Please rerun this cell to enable.\n",
              "      </output>\n",
              "      <script>// Copyright 2017 Google LLC\n",
              "//\n",
              "// Licensed under the Apache License, Version 2.0 (the \"License\");\n",
              "// you may not use this file except in compliance with the License.\n",
              "// You may obtain a copy of the License at\n",
              "//\n",
              "//      http://www.apache.org/licenses/LICENSE-2.0\n",
              "//\n",
              "// Unless required by applicable law or agreed to in writing, software\n",
              "// distributed under the License is distributed on an \"AS IS\" BASIS,\n",
              "// WITHOUT WARRANTIES OR CONDITIONS OF ANY KIND, either express or implied.\n",
              "// See the License for the specific language governing permissions and\n",
              "// limitations under the License.\n",
              "\n",
              "/**\n",
              " * @fileoverview Helpers for google.colab Python module.\n",
              " */\n",
              "(function(scope) {\n",
              "function span(text, styleAttributes = {}) {\n",
              "  const element = document.createElement('span');\n",
              "  element.textContent = text;\n",
              "  for (const key of Object.keys(styleAttributes)) {\n",
              "    element.style[key] = styleAttributes[key];\n",
              "  }\n",
              "  return element;\n",
              "}\n",
              "\n",
              "// Max number of bytes which will be uploaded at a time.\n",
              "const MAX_PAYLOAD_SIZE = 100 * 1024;\n",
              "\n",
              "function _uploadFiles(inputId, outputId) {\n",
              "  const steps = uploadFilesStep(inputId, outputId);\n",
              "  const outputElement = document.getElementById(outputId);\n",
              "  // Cache steps on the outputElement to make it available for the next call\n",
              "  // to uploadFilesContinue from Python.\n",
              "  outputElement.steps = steps;\n",
              "\n",
              "  return _uploadFilesContinue(outputId);\n",
              "}\n",
              "\n",
              "// This is roughly an async generator (not supported in the browser yet),\n",
              "// where there are multiple asynchronous steps and the Python side is going\n",
              "// to poll for completion of each step.\n",
              "// This uses a Promise to block the python side on completion of each step,\n",
              "// then passes the result of the previous step as the input to the next step.\n",
              "function _uploadFilesContinue(outputId) {\n",
              "  const outputElement = document.getElementById(outputId);\n",
              "  const steps = outputElement.steps;\n",
              "\n",
              "  const next = steps.next(outputElement.lastPromiseValue);\n",
              "  return Promise.resolve(next.value.promise).then((value) => {\n",
              "    // Cache the last promise value to make it available to the next\n",
              "    // step of the generator.\n",
              "    outputElement.lastPromiseValue = value;\n",
              "    return next.value.response;\n",
              "  });\n",
              "}\n",
              "\n",
              "/**\n",
              " * Generator function which is called between each async step of the upload\n",
              " * process.\n",
              " * @param {string} inputId Element ID of the input file picker element.\n",
              " * @param {string} outputId Element ID of the output display.\n",
              " * @return {!Iterable<!Object>} Iterable of next steps.\n",
              " */\n",
              "function* uploadFilesStep(inputId, outputId) {\n",
              "  const inputElement = document.getElementById(inputId);\n",
              "  inputElement.disabled = false;\n",
              "\n",
              "  const outputElement = document.getElementById(outputId);\n",
              "  outputElement.innerHTML = '';\n",
              "\n",
              "  const pickedPromise = new Promise((resolve) => {\n",
              "    inputElement.addEventListener('change', (e) => {\n",
              "      resolve(e.target.files);\n",
              "    });\n",
              "  });\n",
              "\n",
              "  const cancel = document.createElement('button');\n",
              "  inputElement.parentElement.appendChild(cancel);\n",
              "  cancel.textContent = 'Cancel upload';\n",
              "  const cancelPromise = new Promise((resolve) => {\n",
              "    cancel.onclick = () => {\n",
              "      resolve(null);\n",
              "    };\n",
              "  });\n",
              "\n",
              "  // Wait for the user to pick the files.\n",
              "  const files = yield {\n",
              "    promise: Promise.race([pickedPromise, cancelPromise]),\n",
              "    response: {\n",
              "      action: 'starting',\n",
              "    }\n",
              "  };\n",
              "\n",
              "  cancel.remove();\n",
              "\n",
              "  // Disable the input element since further picks are not allowed.\n",
              "  inputElement.disabled = true;\n",
              "\n",
              "  if (!files) {\n",
              "    return {\n",
              "      response: {\n",
              "        action: 'complete',\n",
              "      }\n",
              "    };\n",
              "  }\n",
              "\n",
              "  for (const file of files) {\n",
              "    const li = document.createElement('li');\n",
              "    li.append(span(file.name, {fontWeight: 'bold'}));\n",
              "    li.append(span(\n",
              "        `(${file.type || 'n/a'}) - ${file.size} bytes, ` +\n",
              "        `last modified: ${\n",
              "            file.lastModifiedDate ? file.lastModifiedDate.toLocaleDateString() :\n",
              "                                    'n/a'} - `));\n",
              "    const percent = span('0% done');\n",
              "    li.appendChild(percent);\n",
              "\n",
              "    outputElement.appendChild(li);\n",
              "\n",
              "    const fileDataPromise = new Promise((resolve) => {\n",
              "      const reader = new FileReader();\n",
              "      reader.onload = (e) => {\n",
              "        resolve(e.target.result);\n",
              "      };\n",
              "      reader.readAsArrayBuffer(file);\n",
              "    });\n",
              "    // Wait for the data to be ready.\n",
              "    let fileData = yield {\n",
              "      promise: fileDataPromise,\n",
              "      response: {\n",
              "        action: 'continue',\n",
              "      }\n",
              "    };\n",
              "\n",
              "    // Use a chunked sending to avoid message size limits. See b/62115660.\n",
              "    let position = 0;\n",
              "    do {\n",
              "      const length = Math.min(fileData.byteLength - position, MAX_PAYLOAD_SIZE);\n",
              "      const chunk = new Uint8Array(fileData, position, length);\n",
              "      position += length;\n",
              "\n",
              "      const base64 = btoa(String.fromCharCode.apply(null, chunk));\n",
              "      yield {\n",
              "        response: {\n",
              "          action: 'append',\n",
              "          file: file.name,\n",
              "          data: base64,\n",
              "        },\n",
              "      };\n",
              "\n",
              "      let percentDone = fileData.byteLength === 0 ?\n",
              "          100 :\n",
              "          Math.round((position / fileData.byteLength) * 100);\n",
              "      percent.textContent = `${percentDone}% done`;\n",
              "\n",
              "    } while (position < fileData.byteLength);\n",
              "  }\n",
              "\n",
              "  // All done.\n",
              "  yield {\n",
              "    response: {\n",
              "      action: 'complete',\n",
              "    }\n",
              "  };\n",
              "}\n",
              "\n",
              "scope.google = scope.google || {};\n",
              "scope.google.colab = scope.google.colab || {};\n",
              "scope.google.colab._files = {\n",
              "  _uploadFiles,\n",
              "  _uploadFilesContinue,\n",
              "};\n",
              "})(self);\n",
              "</script> "
            ]
          },
          "metadata": {}
        },
        {
          "output_type": "stream",
          "name": "stdout",
          "text": [
            "Saving operações.py to operações.py\n"
          ]
        },
        {
          "output_type": "execute_result",
          "data": {
            "text/plain": [
              "{'operações.py': b'# -*- coding: utf-8 -*-\\n\"\"\"opera\\xc3\\xa7\\xc3\\xb5es\\n\\nAutomatically generated by Colaboratory.\\n\\nOriginal file is located at\\n    https://colab.research.google.com/drive/1VrEWLuLda06tXtL8qufiB22zyibeSHcH\\n\"\"\"\\n\\ndef fatorial(n):\\n  f = 1\\n  for c in range(n,0,-1):\\n    f = f*c\\n  return f\\n\\ndef soma(*n):\\n  s = sum(n)\\n  return s\\n\\ndef produto(*n):\\n  p = 1\\n  for c in n:\\n    p *= c\\n  return p\\n\\ndef raizquad(n):\\n  return n**(1/2)'}"
            ]
          },
          "metadata": {},
          "execution_count": 17
        }
      ]
    },
    {
      "cell_type": "code",
      "source": [
        "import operações\n",
        "\n",
        "print(operações.produto(3,5))\n",
        "print(operações.raizquad(25))"
      ],
      "metadata": {
        "colab": {
          "base_uri": "https://localhost:8080/"
        },
        "id": "bHxKH-c6mwBJ",
        "outputId": "57692798-abb4-4599-dee9-a22eb5f42098"
      },
      "execution_count": null,
      "outputs": [
        {
          "output_type": "stream",
          "name": "stdout",
          "text": [
            "15\n",
            "5.0\n"
          ]
        }
      ]
    },
    {
      "cell_type": "markdown",
      "source": [
        "# Pacotes\n",
        "\n",
        "*   Pacotes basicamente são a junção de módulos.\n",
        "*   São utilizados para juntar um número muito grande de funções, separando-as por assunto.\n",
        "\n"
      ],
      "metadata": {
        "id": "bW0wcdYGXEoA"
      }
    },
    {
      "cell_type": "markdown",
      "source": [
        "Para criar um pacote, baste adicionar os módulos dentro de uma pasta com um arquivo:\n",
        "\n",
        "```\n",
        "__init__.py\n",
        "```\n",
        "\n",
        "Para importar o pacote usa-se o mesmo método do módulo:\n",
        "\n",
        "```\n",
        "import pacote\n",
        "```\n",
        "Para importar apenas um módulo dentro do pacote:\n",
        "\n",
        "```\n",
        "from pacote import modulo\n",
        "```\n",
        "\n",
        "\n"
      ],
      "metadata": {
        "id": "3gpxSWPQex-J"
      }
    },
    {
      "cell_type": "markdown",
      "source": [
        "# Exercícios"
      ],
      "metadata": {
        "id": "jYGLAnXvklY0"
      }
    },
    {
      "cell_type": "code",
      "source": [
        "# DESAFIO 107 - Módulo moeda.py\n",
        "\n",
        "!cp /content/drive/MyDrive/Colab\\ Notebooks/Curso\\ Guanabara/modulos/moeda.py /content\n",
        "\n",
        "import moeda\n",
        "\n",
        "p = float(input('Digite o preço: R$ '))\n",
        "print(f'A metade é R$ {moeda.metade(p)}')\n",
        "print(f'O dobro é R$ {moeda.dobro(p)}')\n",
        "print(f'O valor com acréscimo de 10% é R$ {moeda.aumentar(p,10)}')\n",
        "print(f'O valor com desconto de 15% é R$ {moeda.diminuir(p,15)}')"
      ],
      "metadata": {
        "colab": {
          "base_uri": "https://localhost:8080/"
        },
        "id": "2kPsdWaXkpoV",
        "outputId": "e5f683a7-e8d4-4930-df45-6a3898d0777a"
      },
      "execution_count": null,
      "outputs": [
        {
          "output_type": "stream",
          "name": "stdout",
          "text": [
            "Digite o preço: R$ 100\n",
            "A metade é R$ 50.0\n",
            "O dobro é R$ 200.0\n",
            "O valor com acréscimo de 10% é R$ 110.0\n",
            "O valor com desconto de 15% é R$ 85.0\n"
          ]
        }
      ]
    },
    {
      "cell_type": "code",
      "source": [
        "# DESAFIO 109 - Aperfeiçoando o moeda.py\n",
        "\n",
        "!cp /content/drive/MyDrive/Colab\\ Notebooks/Curso\\ Guanabara/modulos/moeda.py /content\n",
        "\n",
        "import moeda\n",
        "\n",
        "p = float(input('Digite o preço: R$'))\n",
        "print(f'A metade de {moeda.dinheiro(p)} é {moeda.metade(p)}')\n",
        "print(f'O dobro de {moeda.dinheiro(p)} é {moeda.metade(p)}')\n",
        "print(f'O valor com acréscimo de 10% é {moeda.aumentar(p,10)}')\n",
        "print(f'O valor com desconto de 15% é {moeda.diminuir(p,15)}')"
      ],
      "metadata": {
        "id": "O_reG9fkipgv",
        "colab": {
          "base_uri": "https://localhost:8080/"
        },
        "outputId": "808408b2-6ddc-41a2-8bc2-3c67c7c94490"
      },
      "execution_count": null,
      "outputs": [
        {
          "output_type": "stream",
          "name": "stdout",
          "text": [
            "Digite o preço: R$100\n",
            "A metade de R$100,00 é R$50,00\n",
            "O dobro de R$100,00 é R$50,00\n",
            "O valor com acréscimo de 10% é R$110,00\n",
            "O valor com desconto de 15% é R$85,00\n"
          ]
        }
      ]
    },
    {
      "cell_type": "code",
      "source": [
        "from google.colab import files\n",
        "files.upload()"
      ],
      "metadata": {
        "id": "yAkAI77ru6Yf"
      },
      "execution_count": null,
      "outputs": []
    },
    {
      "cell_type": "code",
      "source": [
        "# DESAFIO 110 - Resumo com o moeda.py\n",
        "import moeda\n",
        "\n",
        "preco = float(input('Digite o valor: R$'))\n",
        "moeda.resumo(preco,30,15)"
      ],
      "metadata": {
        "colab": {
          "base_uri": "https://localhost:8080/"
        },
        "id": "97OSc92wuNPG",
        "outputId": "7387f72c-c705-486a-d7f9-0585dd1c6059"
      },
      "execution_count": null,
      "outputs": [
        {
          "output_type": "stream",
          "name": "stdout",
          "text": [
            "Digite o valor: R$100\n",
            "------------------------------\n",
            "       RESUMO DO VALOR        \n",
            "------------------------------\n",
            "Preço analisado:    R$100,00\n",
            "Dobro do preço:     R$200,00\n",
            "Metade do preço:    R$50,00\n",
            "15% de aumento:     R$115,00\n",
            "30% de desconto:    R$70,00\n",
            "------------------------------\n"
          ]
        }
      ]
    },
    {
      "cell_type": "code",
      "source": [
        "# DESAFIO 112 - Adcionando números com vírgula\n",
        "import moeda\n",
        "import leia\n",
        "\n",
        "p = leia.dinheiro('Digite o preço: R$')\n",
        "moeda.resumo(p,30,15)"
      ],
      "metadata": {
        "colab": {
          "base_uri": "https://localhost:8080/"
        },
        "id": "_nq_28po2sto",
        "outputId": "27c329d5-6a73-41bd-a04e-26d4f672ccc7"
      },
      "execution_count": null,
      "outputs": [
        {
          "output_type": "stream",
          "name": "stdout",
          "text": [
            "Digite o preço: R$175,5\n",
            "------------------------------\n",
            "       RESUMO DO VALOR        \n",
            "------------------------------\n",
            "Preço analisado:    R$175,50\n",
            "Dobro do preço:     R$351,00\n",
            "Metade do preço:    R$87,75\n",
            "15% de aumento:     R$201,82\n",
            "30% de desconto:    R$122,85\n",
            "------------------------------\n"
          ]
        }
      ]
    }
  ]
}